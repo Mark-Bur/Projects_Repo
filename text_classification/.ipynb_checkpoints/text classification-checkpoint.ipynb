{
 "cells": [
  {
   "cell_type": "markdown",
   "metadata": {},
   "source": [
    "## Описание проекта"
   ]
  },
  {
   "cell_type": "markdown",
   "metadata": {},
   "source": [
    "Интернет-магазин запускает новый сервис. Теперь пользователи могут редактировать и дополнять описания товаров, как в вики-сообществах. То есть клиенты предлагают свои правки и комментируют изменения других. Магазину нужен инструмент, который будет искать токсичные комментарии и отправлять их на модерацию. \n",
    "\n",
    "Обучите модель классифицировать комментарии на позитивные и негативные. В нашем распоряжении набор данных с разметкой о токсичности правок.\n",
    "\n",
    "## Задача\n",
    "\n",
    "Построить модель со значением метрики качества *F1* не меньше 0.75.\n",
    "\n",
    "## Описание данных\n",
    "\n",
    "Данные находятся в файле `toxic_comments.csv`. Столбец *text* в нём содержит текст комментария, а *toxic* — целевой признак."
   ]
  },
  {
   "cell_type": "markdown",
   "metadata": {},
   "source": [
    "# 1. Подготовка"
   ]
  },
  {
   "cell_type": "code",
   "execution_count": 1,
   "metadata": {},
   "outputs": [],
   "source": [
    "import warnings\n",
    "warnings.filterwarnings('ignore')"
   ]
  },
  {
   "cell_type": "code",
   "execution_count": 2,
   "metadata": {},
   "outputs": [],
   "source": [
    "import pandas as pd\n",
    "import numpy as np\n",
    "import matplotlib.pyplot as plt\n",
    "from sklearn.model_selection import train_test_split\n",
    "from sklearn.metrics import f1_score\n",
    "from sklearn.metrics import accuracy_score\n",
    "from sklearn.linear_model import LogisticRegression\n",
    "from sklearn.feature_extraction.text import TfidfVectorizer \n",
    "from sklearn.neighbors import KNeighborsClassifier\n",
    "from sklearn.tree import DecisionTreeClassifier\n",
    "from sklearn.ensemble import GradientBoostingClassifier\n",
    "from sklearn.metrics import roc_curve, auc\n",
    "from sklearn.metrics import roc_auc_score\n",
    "from sklearn.utils import shuffle\n",
    "import nltk\n",
    "from nltk.stem import SnowballStemmer\n",
    "from nltk.corpus import stopwords as nltk_stopwords\n",
    "from catboost import CatBoostClassifier\n",
    "import time\n",
    "from tqdm import notebook"
   ]
  },
  {
   "cell_type": "code",
   "execution_count": 3,
   "metadata": {},
   "outputs": [],
   "source": [
    "import torch\n",
    "import transformers"
   ]
  },
  {
   "cell_type": "code",
   "execution_count": 4,
   "metadata": {},
   "outputs": [
    {
     "name": "stdout",
     "output_type": "stream",
     "text": [
      "<class 'pandas.core.frame.DataFrame'>\n",
      "RangeIndex: 159571 entries, 0 to 159570\n",
      "Data columns (total 2 columns):\n",
      " #   Column  Non-Null Count   Dtype \n",
      "---  ------  --------------   ----- \n",
      " 0   text    159571 non-null  object\n",
      " 1   toxic   159571 non-null  int64 \n",
      "dtypes: int64(1), object(1)\n",
      "memory usage: 2.4+ MB\n"
     ]
    }
   ],
   "source": [
    "df = pd.read_csv('toxic_comments.csv')\n",
    "df.info()"
   ]
  },
  {
   "cell_type": "code",
   "execution_count": 5,
   "metadata": {},
   "outputs": [
    {
     "name": "stdout",
     "output_type": "stream",
     "text": [
      "<class 'pandas.core.frame.DataFrame'>\n",
      "RangeIndex: 500 entries, 0 to 499\n",
      "Data columns (total 2 columns):\n",
      " #   Column  Non-Null Count  Dtype \n",
      "---  ------  --------------  ----- \n",
      " 0   text    500 non-null    object\n",
      " 1   toxic   500 non-null    int64 \n",
      "dtypes: int64(1), object(1)\n",
      "memory usage: 7.9+ KB\n"
     ]
    }
   ],
   "source": [
    "df_bert = df.sample(500).reset_index(drop=True) \n",
    "df_bert.info()"
   ]
  },
  {
   "cell_type": "code",
   "execution_count": 6,
   "metadata": {
    "scrolled": false
   },
   "outputs": [
    {
     "data": {
      "text/html": [
       "<div>\n",
       "<style scoped>\n",
       "    .dataframe tbody tr th:only-of-type {\n",
       "        vertical-align: middle;\n",
       "    }\n",
       "\n",
       "    .dataframe tbody tr th {\n",
       "        vertical-align: top;\n",
       "    }\n",
       "\n",
       "    .dataframe thead th {\n",
       "        text-align: right;\n",
       "    }\n",
       "</style>\n",
       "<table border=\"1\" class=\"dataframe\">\n",
       "  <thead>\n",
       "    <tr style=\"text-align: right;\">\n",
       "      <th></th>\n",
       "      <th>text</th>\n",
       "      <th>toxic</th>\n",
       "    </tr>\n",
       "  </thead>\n",
       "  <tbody>\n",
       "    <tr>\n",
       "      <th>0</th>\n",
       "      <td>Explanation\\nWhy the edits made under my usern...</td>\n",
       "      <td>0</td>\n",
       "    </tr>\n",
       "    <tr>\n",
       "      <th>1</th>\n",
       "      <td>D'aww! He matches this background colour I'm s...</td>\n",
       "      <td>0</td>\n",
       "    </tr>\n",
       "    <tr>\n",
       "      <th>2</th>\n",
       "      <td>Hey man, I'm really not trying to edit war. It...</td>\n",
       "      <td>0</td>\n",
       "    </tr>\n",
       "    <tr>\n",
       "      <th>3</th>\n",
       "      <td>\"\\nMore\\nI can't make any real suggestions on ...</td>\n",
       "      <td>0</td>\n",
       "    </tr>\n",
       "    <tr>\n",
       "      <th>4</th>\n",
       "      <td>You, sir, are my hero. Any chance you remember...</td>\n",
       "      <td>0</td>\n",
       "    </tr>\n",
       "  </tbody>\n",
       "</table>\n",
       "</div>"
      ],
      "text/plain": [
       "                                                text  toxic\n",
       "0  Explanation\\nWhy the edits made under my usern...      0\n",
       "1  D'aww! He matches this background colour I'm s...      0\n",
       "2  Hey man, I'm really not trying to edit war. It...      0\n",
       "3  \"\\nMore\\nI can't make any real suggestions on ...      0\n",
       "4  You, sir, are my hero. Any chance you remember...      0"
      ]
     },
     "metadata": {},
     "output_type": "display_data"
    }
   ],
   "source": [
    "display(df.head())"
   ]
  },
  {
   "cell_type": "markdown",
   "metadata": {},
   "source": [
    "Узнаем, насколько дисбалансны классы в данных."
   ]
  },
  {
   "cell_type": "code",
   "execution_count": 7,
   "metadata": {},
   "outputs": [
    {
     "name": "stdout",
     "output_type": "stream",
     "text": [
      "89.83%\n"
     ]
    }
   ],
   "source": [
    "print('{:.2%}'.format(len(df[df['toxic'] == 0]) / len(df)))"
   ]
  },
  {
   "cell_type": "markdown",
   "metadata": {},
   "source": [
    "**Проведем процедуру стемминга.**"
   ]
  },
  {
   "cell_type": "code",
   "execution_count": 8,
   "metadata": {},
   "outputs": [],
   "source": [
    "stemmer = SnowballStemmer('english')\n",
    "\n",
    "def stemming(text):\n",
    "    return stemmer.stem(text)"
   ]
  },
  {
   "cell_type": "code",
   "execution_count": 9,
   "metadata": {},
   "outputs": [
    {
     "name": "stdout",
     "output_type": "stream",
     "text": [
      "Wall time: 15.8 s\n"
     ]
    }
   ],
   "source": [
    "%%time\n",
    "df['text'] = df['text'].apply(stemming)"
   ]
  },
  {
   "cell_type": "markdown",
   "metadata": {},
   "source": [
    "**Создадим тренировочную и тестовую выборки.**"
   ]
  },
  {
   "cell_type": "code",
   "execution_count": 10,
   "metadata": {},
   "outputs": [],
   "source": [
    "x_train, x_test, y_train, y_test = train_test_split(df['text'].astype('U'), df['toxic'], test_size = 0.1, random_state = 12345)"
   ]
  },
  {
   "cell_type": "markdown",
   "metadata": {},
   "source": [
    "**Уменьшим тестовую выборку в целях борьбы с дисбалансом.\n",
    "Часть моделей будем обучать на уменьшенной выборке, а часть на полной выборке.**"
   ]
  },
  {
   "cell_type": "code",
   "execution_count": 11,
   "metadata": {},
   "outputs": [],
   "source": [
    "def downsample(features, target, fraction):\n",
    "    features_zeros = features[target == 0]\n",
    "    features_ones = features[target == 1]\n",
    "    target_zeros = target[target == 0]\n",
    "    target_ones = target[target == 1]\n",
    "\n",
    "    features_downsampled = pd.concat(\n",
    "        [features_zeros.sample(frac=fraction, random_state=12345)] + [features_ones])\n",
    "    target_downsampled = pd.concat(\n",
    "        [target_zeros.sample(frac=fraction, random_state=12345)] + [target_ones])\n",
    "    \n",
    "    features_downsampled, target_downsampled = shuffle(\n",
    "        features_downsampled, target_downsampled, random_state=12345)\n",
    "    \n",
    "    return features_downsampled, target_downsampled"
   ]
  },
  {
   "cell_type": "code",
   "execution_count": 12,
   "metadata": {},
   "outputs": [],
   "source": [
    "x_train_sampled, y_train_sampled = downsample(x_train, y_train, 0.11285)"
   ]
  },
  {
   "cell_type": "code",
   "execution_count": 13,
   "metadata": {},
   "outputs": [
    {
     "name": "stdout",
     "output_type": "stream",
     "text": [
      "50.01%\n"
     ]
    }
   ],
   "source": [
    "print('{:.2%}'.format(len(y_train_sampled[y_train_sampled == 0]) / len(y_train_sampled)))"
   ]
  },
  {
   "cell_type": "markdown",
   "metadata": {},
   "source": [
    "**Создадим матрицы признаков tf-idf.**"
   ]
  },
  {
   "cell_type": "code",
   "execution_count": 14,
   "metadata": {},
   "outputs": [
    {
     "name": "stderr",
     "output_type": "stream",
     "text": [
      "[nltk_data] Downloading package stopwords to\n",
      "[nltk_data]     C:\\Users\\kotop\\AppData\\Roaming\\nltk_data...\n",
      "[nltk_data]   Package stopwords is already up-to-date!\n"
     ]
    }
   ],
   "source": [
    "nltk.download('stopwords')\n",
    "stopwords = set(nltk_stopwords.words('english'))"
   ]
  },
  {
   "cell_type": "code",
   "execution_count": 15,
   "metadata": {},
   "outputs": [],
   "source": [
    "count_tf_idf_1 = TfidfVectorizer(stop_words=stopwords)\n",
    "x_train_sampled = count_tf_idf_1.fit_transform(x_train_sampled)\n",
    "x_test_sampled = count_tf_idf_1.transform(x_test)"
   ]
  },
  {
   "cell_type": "code",
   "execution_count": 16,
   "metadata": {},
   "outputs": [],
   "source": [
    "count_tf_idf_2 = TfidfVectorizer(stop_words=stopwords)\n",
    "x_train = count_tf_idf_2.fit_transform(x_train)\n",
    "x_test = count_tf_idf_2.transform(x_test)"
   ]
  },
  {
   "cell_type": "code",
   "execution_count": 17,
   "metadata": {},
   "outputs": [
    {
     "name": "stdout",
     "output_type": "stream",
     "text": [
      "Размер матрицы: (143613, 179275) (15958, 179275)\n",
      "Размер матрицы: (29123, 62527) (15958, 62527)\n"
     ]
    }
   ],
   "source": [
    "print(\"Размер матрицы:\", x_train.shape, x_test.shape)\n",
    "print(\"Размер матрицы:\", x_train_sampled.shape, x_test_sampled.shape)"
   ]
  },
  {
   "cell_type": "markdown",
   "metadata": {},
   "source": [
    "# 2. Обучение"
   ]
  },
  {
   "cell_type": "markdown",
   "metadata": {},
   "source": [
    "### Линейная регрессия, обученная на tf-idf"
   ]
  },
  {
   "cell_type": "markdown",
   "metadata": {},
   "source": [
    "**Модель на полном наборе данных.** "
   ]
  },
  {
   "cell_type": "code",
   "execution_count": 18,
   "metadata": {},
   "outputs": [
    {
     "name": "stdout",
     "output_type": "stream",
     "text": [
      "0.7629252611840343\n"
     ]
    }
   ],
   "source": [
    "model_ln = LogisticRegression(random_state=12345, C = 1.1, penalty = 'l2', class_weight = \"balanced\", solver = 'saga')\n",
    "model_ln.fit(x_train, y_train)\n",
    "predictions = model_ln.predict(x_test)\n",
    "print(f1_score(y_test, predictions))"
   ]
  },
  {
   "cell_type": "markdown",
   "metadata": {},
   "source": [
    "**Модель на наборе данных, учитывающих дисбаланс.**"
   ]
  },
  {
   "cell_type": "code",
   "execution_count": 19,
   "metadata": {},
   "outputs": [
    {
     "name": "stdout",
     "output_type": "stream",
     "text": [
      "0.6740046838407493\n"
     ]
    }
   ],
   "source": [
    "model_1 = LogisticRegression(random_state=12345, C = 1.1, penalty = 'l2', solver = 'saga')\n",
    "model_1.fit(x_train_sampled, y_train_sampled)\n",
    "predictions = model_1.predict(x_test_sampled)\n",
    "print(f1_score(y_test, predictions))"
   ]
  },
  {
   "cell_type": "markdown",
   "metadata": {},
   "source": [
    "### KNeighborsClassifier"
   ]
  },
  {
   "cell_type": "markdown",
   "metadata": {},
   "source": [
    "**Модель на полном наборе данных.** "
   ]
  },
  {
   "cell_type": "code",
   "execution_count": 20,
   "metadata": {},
   "outputs": [
    {
     "name": "stdout",
     "output_type": "stream",
     "text": [
      "Wall time: 46.9 ms\n"
     ]
    },
    {
     "data": {
      "text/plain": [
       "KNeighborsClassifier(n_neighbors=200, weights='distance')"
      ]
     },
     "execution_count": 20,
     "metadata": {},
     "output_type": "execute_result"
    }
   ],
   "source": [
    "%%time\n",
    "model_2 = KNeighborsClassifier(n_neighbors = 200, weights = 'distance')\n",
    "model_2.fit(x_train, y_train)"
   ]
  },
  {
   "cell_type": "code",
   "execution_count": 21,
   "metadata": {},
   "outputs": [
    {
     "name": "stdout",
     "output_type": "stream",
     "text": [
      "0.9335756360446171\n",
      "0.5438898450946644\n",
      "Wall time: 1min 21s\n"
     ]
    }
   ],
   "source": [
    "%%time\n",
    "predictions = model_2.predict(x_test)\n",
    "print(accuracy_score(y_test, predictions))\n",
    "print(f1_score(y_test, predictions))"
   ]
  },
  {
   "cell_type": "markdown",
   "metadata": {},
   "source": [
    "**Модель на наборе данных, учитывающих дисбаланс.**"
   ]
  },
  {
   "cell_type": "code",
   "execution_count": 22,
   "metadata": {},
   "outputs": [
    {
     "name": "stdout",
     "output_type": "stream",
     "text": [
      "Wall time: 15 ms\n"
     ]
    },
    {
     "data": {
      "text/plain": [
       "KNeighborsClassifier(n_neighbors=200, weights='distance')"
      ]
     },
     "execution_count": 22,
     "metadata": {},
     "output_type": "execute_result"
    }
   ],
   "source": [
    "%%time\n",
    "model_2 = KNeighborsClassifier(n_neighbors = 200, weights = 'distance')\n",
    "model_2.fit(x_train_sampled, y_train_sampled)"
   ]
  },
  {
   "cell_type": "code",
   "execution_count": 23,
   "metadata": {},
   "outputs": [
    {
     "name": "stdout",
     "output_type": "stream",
     "text": [
      "0.5355805243445694\n",
      "Wall time: 16.5 s\n"
     ]
    }
   ],
   "source": [
    "%%time\n",
    "predictions = model_2.predict(x_test_sampled)\n",
    "print(f1_score(y_test, predictions))"
   ]
  },
  {
   "cell_type": "markdown",
   "metadata": {},
   "source": [
    "### Градиентный бустинг"
   ]
  },
  {
   "cell_type": "markdown",
   "metadata": {},
   "source": [
    "**Модель на полном наборе данных.** "
   ]
  },
  {
   "cell_type": "code",
   "execution_count": 24,
   "metadata": {},
   "outputs": [
    {
     "name": "stdout",
     "output_type": "stream",
     "text": [
      "0.6469893742621015\n",
      "Wall time: 21min 31s\n"
     ]
    }
   ],
   "source": [
    "%%time\n",
    "\n",
    "model_1 = GradientBoostingClassifier(loss = 'exponential', max_depth = 13, max_leaf_nodes = 10, n_estimators = 200)\n",
    "model_1.fit(x_train, y_train)\n",
    "predictions = model_1.predict(x_test)\n",
    "print(f1_score(y_test, predictions))"
   ]
  },
  {
   "cell_type": "markdown",
   "metadata": {},
   "source": [
    "**Модель на наборе данных, учитывающих дисбаланс.**"
   ]
  },
  {
   "cell_type": "code",
   "execution_count": 25,
   "metadata": {},
   "outputs": [
    {
     "name": "stdout",
     "output_type": "stream",
     "text": [
      "0.6886817576564581\n",
      "Wall time: 2min 4s\n"
     ]
    }
   ],
   "source": [
    "%%time\n",
    "\n",
    "model_1 = GradientBoostingClassifier(loss = 'exponential', max_depth = 13, max_leaf_nodes = 10, n_estimators = 150)\n",
    "model_1.fit(x_train_sampled, y_train_sampled)\n",
    "predictions = model_1.predict(x_test_sampled)\n",
    "print(f1_score(y_test, predictions))"
   ]
  },
  {
   "cell_type": "markdown",
   "metadata": {},
   "source": [
    "### CatBoost"
   ]
  },
  {
   "cell_type": "markdown",
   "metadata": {},
   "source": [
    "Обучим модель на усеченном наборе данных, поскольку на обучение на полном наборе вычислительных мощностей недостаточно."
   ]
  },
  {
   "cell_type": "code",
   "execution_count": 26,
   "metadata": {},
   "outputs": [],
   "source": [
    "model = CatBoostClassifier()"
   ]
  },
  {
   "cell_type": "code",
   "execution_count": 27,
   "metadata": {
    "scrolled": true
   },
   "outputs": [
    {
     "name": "stdout",
     "output_type": "stream",
     "text": [
      "Learning rate set to 0.043467\n",
      "0:\tlearn: 0.6727618\ttotal: 826ms\tremaining: 13m 44s\n",
      "1:\tlearn: 0.6568426\ttotal: 1.45s\tremaining: 12m 5s\n",
      "2:\tlearn: 0.6414078\ttotal: 2.1s\tremaining: 11m 36s\n",
      "3:\tlearn: 0.6289158\ttotal: 2.73s\tremaining: 11m 19s\n",
      "4:\tlearn: 0.6181920\ttotal: 3.36s\tremaining: 11m 8s\n",
      "5:\tlearn: 0.6078256\ttotal: 4s\tremaining: 11m 2s\n",
      "6:\tlearn: 0.6019437\ttotal: 4.64s\tremaining: 10m 57s\n",
      "7:\tlearn: 0.5938127\ttotal: 5.26s\tremaining: 10m 52s\n",
      "8:\tlearn: 0.5873685\ttotal: 5.89s\tremaining: 10m 48s\n",
      "9:\tlearn: 0.5818981\ttotal: 6.52s\tremaining: 10m 45s\n",
      "10:\tlearn: 0.5754641\ttotal: 7.16s\tremaining: 10m 43s\n",
      "11:\tlearn: 0.5699042\ttotal: 7.8s\tremaining: 10m 42s\n",
      "12:\tlearn: 0.5643083\ttotal: 8.43s\tremaining: 10m 40s\n",
      "13:\tlearn: 0.5605045\ttotal: 9.06s\tremaining: 10m 37s\n",
      "14:\tlearn: 0.5565833\ttotal: 9.68s\tremaining: 10m 35s\n",
      "15:\tlearn: 0.5521446\ttotal: 10.3s\tremaining: 10m 33s\n",
      "16:\tlearn: 0.5492799\ttotal: 10.9s\tremaining: 10m 33s\n",
      "17:\tlearn: 0.5454898\ttotal: 11.6s\tremaining: 10m 31s\n",
      "18:\tlearn: 0.5419614\ttotal: 12.2s\tremaining: 10m 30s\n",
      "19:\tlearn: 0.5396347\ttotal: 12.8s\tremaining: 10m 29s\n",
      "20:\tlearn: 0.5367421\ttotal: 13.5s\tremaining: 10m 28s\n",
      "21:\tlearn: 0.5341593\ttotal: 14.1s\tremaining: 10m 28s\n",
      "22:\tlearn: 0.5308460\ttotal: 14.9s\tremaining: 10m 32s\n",
      "23:\tlearn: 0.5275999\ttotal: 15.6s\tremaining: 10m 33s\n",
      "24:\tlearn: 0.5248183\ttotal: 16.2s\tremaining: 10m 33s\n",
      "25:\tlearn: 0.5223606\ttotal: 16.9s\tremaining: 10m 31s\n",
      "26:\tlearn: 0.5199519\ttotal: 17.5s\tremaining: 10m 30s\n",
      "27:\tlearn: 0.5171997\ttotal: 18.1s\tremaining: 10m 28s\n",
      "28:\tlearn: 0.5151935\ttotal: 18.7s\tremaining: 10m 27s\n",
      "29:\tlearn: 0.5134662\ttotal: 19.4s\tremaining: 10m 26s\n",
      "30:\tlearn: 0.5110340\ttotal: 20s\tremaining: 10m 25s\n",
      "31:\tlearn: 0.5087123\ttotal: 20.6s\tremaining: 10m 23s\n",
      "32:\tlearn: 0.5068463\ttotal: 21.2s\tremaining: 10m 22s\n",
      "33:\tlearn: 0.5052409\ttotal: 21.9s\tremaining: 10m 21s\n",
      "34:\tlearn: 0.5037688\ttotal: 22.5s\tremaining: 10m 20s\n",
      "35:\tlearn: 0.5020629\ttotal: 23.1s\tremaining: 10m 19s\n",
      "36:\tlearn: 0.5003004\ttotal: 23.8s\tremaining: 10m 18s\n",
      "37:\tlearn: 0.4982940\ttotal: 24.4s\tremaining: 10m 17s\n",
      "38:\tlearn: 0.4968333\ttotal: 25s\tremaining: 10m 16s\n",
      "39:\tlearn: 0.4954522\ttotal: 25.6s\tremaining: 10m 15s\n",
      "40:\tlearn: 0.4938941\ttotal: 26.3s\tremaining: 10m 14s\n",
      "41:\tlearn: 0.4921634\ttotal: 26.9s\tremaining: 10m 13s\n",
      "42:\tlearn: 0.4906062\ttotal: 27.5s\tremaining: 10m 12s\n",
      "43:\tlearn: 0.4893877\ttotal: 28.2s\tremaining: 10m 11s\n",
      "44:\tlearn: 0.4877695\ttotal: 28.8s\tremaining: 10m 10s\n",
      "45:\tlearn: 0.4861273\ttotal: 29.4s\tremaining: 10m 9s\n",
      "46:\tlearn: 0.4849839\ttotal: 30.1s\tremaining: 10m 9s\n",
      "47:\tlearn: 0.4831125\ttotal: 30.8s\tremaining: 10m 10s\n",
      "48:\tlearn: 0.4820206\ttotal: 31.5s\tremaining: 10m 10s\n",
      "49:\tlearn: 0.4805182\ttotal: 32.1s\tremaining: 10m 10s\n",
      "50:\tlearn: 0.4785350\ttotal: 32.7s\tremaining: 10m 9s\n",
      "51:\tlearn: 0.4774869\ttotal: 33.4s\tremaining: 10m 8s\n",
      "52:\tlearn: 0.4760205\ttotal: 34s\tremaining: 10m 7s\n",
      "53:\tlearn: 0.4749388\ttotal: 34.6s\tremaining: 10m 6s\n",
      "54:\tlearn: 0.4734352\ttotal: 35.2s\tremaining: 10m 5s\n",
      "55:\tlearn: 0.4716050\ttotal: 35.9s\tremaining: 10m 4s\n",
      "56:\tlearn: 0.4702924\ttotal: 36.5s\tremaining: 10m 3s\n",
      "57:\tlearn: 0.4693034\ttotal: 37.1s\tremaining: 10m 2s\n",
      "58:\tlearn: 0.4680721\ttotal: 37.7s\tremaining: 10m 1s\n",
      "59:\tlearn: 0.4669625\ttotal: 38.4s\tremaining: 10m 1s\n",
      "60:\tlearn: 0.4659559\ttotal: 39s\tremaining: 10m\n",
      "61:\tlearn: 0.4649932\ttotal: 39.6s\tremaining: 9m 59s\n",
      "62:\tlearn: 0.4638700\ttotal: 40.2s\tremaining: 9m 58s\n",
      "63:\tlearn: 0.4625954\ttotal: 40.9s\tremaining: 9m 57s\n",
      "64:\tlearn: 0.4615786\ttotal: 41.5s\tremaining: 9m 56s\n",
      "65:\tlearn: 0.4604543\ttotal: 42.1s\tremaining: 9m 55s\n",
      "66:\tlearn: 0.4594664\ttotal: 42.7s\tremaining: 9m 55s\n",
      "67:\tlearn: 0.4585178\ttotal: 43.4s\tremaining: 9m 54s\n",
      "68:\tlearn: 0.4567839\ttotal: 44s\tremaining: 9m 53s\n",
      "69:\tlearn: 0.4558733\ttotal: 44.6s\tremaining: 9m 52s\n",
      "70:\tlearn: 0.4547833\ttotal: 45.3s\tremaining: 9m 52s\n",
      "71:\tlearn: 0.4539739\ttotal: 45.9s\tremaining: 9m 51s\n",
      "72:\tlearn: 0.4532589\ttotal: 46.6s\tremaining: 9m 52s\n",
      "73:\tlearn: 0.4522684\ttotal: 47.3s\tremaining: 9m 51s\n",
      "74:\tlearn: 0.4510743\ttotal: 48s\tremaining: 9m 51s\n",
      "75:\tlearn: 0.4497953\ttotal: 48.6s\tremaining: 9m 51s\n",
      "76:\tlearn: 0.4488614\ttotal: 49.2s\tremaining: 9m 50s\n",
      "77:\tlearn: 0.4477829\ttotal: 49.9s\tremaining: 9m 49s\n",
      "78:\tlearn: 0.4465332\ttotal: 50.5s\tremaining: 9m 48s\n",
      "79:\tlearn: 0.4459201\ttotal: 51.1s\tremaining: 9m 47s\n",
      "80:\tlearn: 0.4452736\ttotal: 51.7s\tremaining: 9m 46s\n",
      "81:\tlearn: 0.4443260\ttotal: 52.4s\tremaining: 9m 46s\n",
      "82:\tlearn: 0.4434432\ttotal: 53s\tremaining: 9m 45s\n",
      "83:\tlearn: 0.4424297\ttotal: 53.6s\tremaining: 9m 44s\n",
      "84:\tlearn: 0.4412139\ttotal: 54.2s\tremaining: 9m 43s\n",
      "85:\tlearn: 0.4404773\ttotal: 54.9s\tremaining: 9m 43s\n",
      "86:\tlearn: 0.4397587\ttotal: 55.5s\tremaining: 9m 42s\n",
      "87:\tlearn: 0.4388680\ttotal: 56.1s\tremaining: 9m 41s\n",
      "88:\tlearn: 0.4382030\ttotal: 56.7s\tremaining: 9m 40s\n",
      "89:\tlearn: 0.4376035\ttotal: 57.4s\tremaining: 9m 39s\n",
      "90:\tlearn: 0.4369915\ttotal: 58s\tremaining: 9m 39s\n",
      "91:\tlearn: 0.4363468\ttotal: 58.6s\tremaining: 9m 38s\n",
      "92:\tlearn: 0.4357419\ttotal: 59.3s\tremaining: 9m 37s\n",
      "93:\tlearn: 0.4348744\ttotal: 59.9s\tremaining: 9m 37s\n",
      "94:\tlearn: 0.4342401\ttotal: 1m\tremaining: 9m 36s\n",
      "95:\tlearn: 0.4334560\ttotal: 1m 1s\tremaining: 9m 35s\n",
      "96:\tlearn: 0.4328198\ttotal: 1m 1s\tremaining: 9m 34s\n",
      "97:\tlearn: 0.4321524\ttotal: 1m 2s\tremaining: 9m 35s\n",
      "98:\tlearn: 0.4315995\ttotal: 1m 3s\tremaining: 9m 35s\n",
      "99:\tlearn: 0.4309007\ttotal: 1m 3s\tremaining: 9m 35s\n",
      "100:\tlearn: 0.4302736\ttotal: 1m 4s\tremaining: 9m 34s\n",
      "101:\tlearn: 0.4297605\ttotal: 1m 5s\tremaining: 9m 33s\n",
      "102:\tlearn: 0.4287978\ttotal: 1m 5s\tremaining: 9m 32s\n",
      "103:\tlearn: 0.4277784\ttotal: 1m 6s\tremaining: 9m 31s\n",
      "104:\tlearn: 0.4269900\ttotal: 1m 7s\tremaining: 9m 31s\n",
      "105:\tlearn: 0.4263690\ttotal: 1m 7s\tremaining: 9m 30s\n",
      "106:\tlearn: 0.4257427\ttotal: 1m 8s\tremaining: 9m 29s\n",
      "107:\tlearn: 0.4245966\ttotal: 1m 8s\tremaining: 9m 28s\n",
      "108:\tlearn: 0.4241178\ttotal: 1m 9s\tremaining: 9m 28s\n",
      "109:\tlearn: 0.4235826\ttotal: 1m 10s\tremaining: 9m 27s\n",
      "110:\tlearn: 0.4228754\ttotal: 1m 10s\tremaining: 9m 26s\n",
      "111:\tlearn: 0.4219477\ttotal: 1m 11s\tremaining: 9m 26s\n",
      "112:\tlearn: 0.4214868\ttotal: 1m 12s\tremaining: 9m 25s\n",
      "113:\tlearn: 0.4208974\ttotal: 1m 12s\tremaining: 9m 24s\n",
      "114:\tlearn: 0.4203245\ttotal: 1m 13s\tremaining: 9m 24s\n",
      "115:\tlearn: 0.4198014\ttotal: 1m 13s\tremaining: 9m 23s\n",
      "116:\tlearn: 0.4190858\ttotal: 1m 14s\tremaining: 9m 22s\n",
      "117:\tlearn: 0.4185157\ttotal: 1m 15s\tremaining: 9m 22s\n",
      "118:\tlearn: 0.4179298\ttotal: 1m 15s\tremaining: 9m 21s\n",
      "119:\tlearn: 0.4174088\ttotal: 1m 16s\tremaining: 9m 20s\n",
      "120:\tlearn: 0.4167417\ttotal: 1m 17s\tremaining: 9m 19s\n",
      "121:\tlearn: 0.4161744\ttotal: 1m 17s\tremaining: 9m 19s\n",
      "122:\tlearn: 0.4155453\ttotal: 1m 18s\tremaining: 9m 19s\n",
      "123:\tlearn: 0.4150668\ttotal: 1m 19s\tremaining: 9m 19s\n",
      "124:\tlearn: 0.4143877\ttotal: 1m 19s\tremaining: 9m 18s\n",
      "125:\tlearn: 0.4139395\ttotal: 1m 20s\tremaining: 9m 17s\n",
      "126:\tlearn: 0.4134757\ttotal: 1m 21s\tremaining: 9m 17s\n",
      "127:\tlearn: 0.4130007\ttotal: 1m 21s\tremaining: 9m 16s\n",
      "128:\tlearn: 0.4124220\ttotal: 1m 22s\tremaining: 9m 15s\n",
      "129:\tlearn: 0.4117065\ttotal: 1m 22s\tremaining: 9m 14s\n",
      "130:\tlearn: 0.4112614\ttotal: 1m 23s\tremaining: 9m 14s\n",
      "131:\tlearn: 0.4104844\ttotal: 1m 24s\tremaining: 9m 13s\n",
      "132:\tlearn: 0.4097719\ttotal: 1m 24s\tremaining: 9m 12s\n",
      "133:\tlearn: 0.4091536\ttotal: 1m 25s\tremaining: 9m 12s\n",
      "134:\tlearn: 0.4083591\ttotal: 1m 26s\tremaining: 9m 11s\n",
      "135:\tlearn: 0.4078928\ttotal: 1m 26s\tremaining: 9m 10s\n",
      "136:\tlearn: 0.4075404\ttotal: 1m 27s\tremaining: 9m 9s\n",
      "137:\tlearn: 0.4070372\ttotal: 1m 27s\tremaining: 9m 9s\n",
      "138:\tlearn: 0.4066845\ttotal: 1m 28s\tremaining: 9m 8s\n",
      "139:\tlearn: 0.4063808\ttotal: 1m 29s\tremaining: 9m 7s\n",
      "140:\tlearn: 0.4057327\ttotal: 1m 29s\tremaining: 9m 6s\n",
      "141:\tlearn: 0.4052263\ttotal: 1m 30s\tremaining: 9m 6s\n",
      "142:\tlearn: 0.4047184\ttotal: 1m 31s\tremaining: 9m 5s\n",
      "143:\tlearn: 0.4043429\ttotal: 1m 31s\tremaining: 9m 4s\n",
      "144:\tlearn: 0.4037821\ttotal: 1m 32s\tremaining: 9m 4s\n",
      "145:\tlearn: 0.4034372\ttotal: 1m 32s\tremaining: 9m 3s\n",
      "146:\tlearn: 0.4030252\ttotal: 1m 33s\tremaining: 9m 2s\n",
      "147:\tlearn: 0.4023662\ttotal: 1m 34s\tremaining: 9m 2s\n",
      "148:\tlearn: 0.4016819\ttotal: 1m 34s\tremaining: 9m 2s\n",
      "149:\tlearn: 0.4012753\ttotal: 1m 35s\tremaining: 9m 2s\n",
      "150:\tlearn: 0.4009795\ttotal: 1m 36s\tremaining: 9m 1s\n",
      "151:\tlearn: 0.4006065\ttotal: 1m 36s\tremaining: 9m\n",
      "152:\tlearn: 0.4001022\ttotal: 1m 37s\tremaining: 8m 59s\n",
      "153:\tlearn: 0.3995555\ttotal: 1m 38s\tremaining: 8m 59s\n",
      "154:\tlearn: 0.3989122\ttotal: 1m 38s\tremaining: 8m 58s\n",
      "155:\tlearn: 0.3985429\ttotal: 1m 39s\tremaining: 8m 57s\n"
     ]
    },
    {
     "name": "stdout",
     "output_type": "stream",
     "text": [
      "156:\tlearn: 0.3981892\ttotal: 1m 40s\tremaining: 8m 56s\n",
      "157:\tlearn: 0.3977361\ttotal: 1m 40s\tremaining: 8m 56s\n",
      "158:\tlearn: 0.3973266\ttotal: 1m 41s\tremaining: 8m 55s\n",
      "159:\tlearn: 0.3967593\ttotal: 1m 41s\tremaining: 8m 54s\n",
      "160:\tlearn: 0.3964166\ttotal: 1m 42s\tremaining: 8m 54s\n",
      "161:\tlearn: 0.3960510\ttotal: 1m 43s\tremaining: 8m 53s\n",
      "162:\tlearn: 0.3950409\ttotal: 1m 43s\tremaining: 8m 52s\n",
      "163:\tlearn: 0.3945753\ttotal: 1m 44s\tremaining: 8m 52s\n",
      "164:\tlearn: 0.3940229\ttotal: 1m 44s\tremaining: 8m 51s\n",
      "165:\tlearn: 0.3935011\ttotal: 1m 45s\tremaining: 8m 50s\n",
      "166:\tlearn: 0.3929538\ttotal: 1m 46s\tremaining: 8m 49s\n",
      "167:\tlearn: 0.3925898\ttotal: 1m 46s\tremaining: 8m 49s\n",
      "168:\tlearn: 0.3923036\ttotal: 1m 47s\tremaining: 8m 48s\n",
      "169:\tlearn: 0.3919128\ttotal: 1m 48s\tremaining: 8m 47s\n",
      "170:\tlearn: 0.3914923\ttotal: 1m 48s\tremaining: 8m 47s\n",
      "171:\tlearn: 0.3911725\ttotal: 1m 49s\tremaining: 8m 46s\n",
      "172:\tlearn: 0.3905195\ttotal: 1m 50s\tremaining: 8m 46s\n",
      "173:\tlearn: 0.3901541\ttotal: 1m 50s\tremaining: 8m 45s\n",
      "174:\tlearn: 0.3897599\ttotal: 1m 51s\tremaining: 8m 45s\n",
      "175:\tlearn: 0.3892213\ttotal: 1m 52s\tremaining: 8m 44s\n",
      "176:\tlearn: 0.3888602\ttotal: 1m 52s\tremaining: 8m 44s\n",
      "177:\tlearn: 0.3884186\ttotal: 1m 53s\tremaining: 8m 43s\n",
      "178:\tlearn: 0.3879882\ttotal: 1m 53s\tremaining: 8m 42s\n",
      "179:\tlearn: 0.3876250\ttotal: 1m 54s\tremaining: 8m 42s\n",
      "180:\tlearn: 0.3872991\ttotal: 1m 55s\tremaining: 8m 41s\n",
      "181:\tlearn: 0.3868588\ttotal: 1m 55s\tremaining: 8m 40s\n",
      "182:\tlearn: 0.3865527\ttotal: 1m 56s\tremaining: 8m 39s\n",
      "183:\tlearn: 0.3862832\ttotal: 1m 57s\tremaining: 8m 39s\n",
      "184:\tlearn: 0.3858207\ttotal: 1m 57s\tremaining: 8m 38s\n",
      "185:\tlearn: 0.3853498\ttotal: 1m 58s\tremaining: 8m 37s\n",
      "186:\tlearn: 0.3850164\ttotal: 1m 58s\tremaining: 8m 37s\n",
      "187:\tlearn: 0.3846939\ttotal: 1m 59s\tremaining: 8m 36s\n",
      "188:\tlearn: 0.3843616\ttotal: 2m\tremaining: 8m 35s\n",
      "189:\tlearn: 0.3841000\ttotal: 2m\tremaining: 8m 35s\n",
      "190:\tlearn: 0.3837042\ttotal: 2m 1s\tremaining: 8m 34s\n",
      "191:\tlearn: 0.3832638\ttotal: 2m 2s\tremaining: 8m 33s\n",
      "192:\tlearn: 0.3826682\ttotal: 2m 2s\tremaining: 8m 33s\n",
      "193:\tlearn: 0.3822079\ttotal: 2m 3s\tremaining: 8m 32s\n",
      "194:\tlearn: 0.3818766\ttotal: 2m 3s\tremaining: 8m 31s\n",
      "195:\tlearn: 0.3815366\ttotal: 2m 4s\tremaining: 8m 30s\n",
      "196:\tlearn: 0.3812894\ttotal: 2m 5s\tremaining: 8m 30s\n",
      "197:\tlearn: 0.3809234\ttotal: 2m 5s\tremaining: 8m 29s\n",
      "198:\tlearn: 0.3805895\ttotal: 2m 6s\tremaining: 8m 29s\n",
      "199:\tlearn: 0.3803081\ttotal: 2m 7s\tremaining: 8m 29s\n",
      "200:\tlearn: 0.3800346\ttotal: 2m 7s\tremaining: 8m 28s\n",
      "201:\tlearn: 0.3796525\ttotal: 2m 8s\tremaining: 8m 28s\n",
      "202:\tlearn: 0.3793498\ttotal: 2m 9s\tremaining: 8m 27s\n",
      "203:\tlearn: 0.3790427\ttotal: 2m 10s\tremaining: 8m 27s\n",
      "204:\tlearn: 0.3787489\ttotal: 2m 10s\tremaining: 8m 26s\n",
      "205:\tlearn: 0.3782104\ttotal: 2m 11s\tremaining: 8m 26s\n",
      "206:\tlearn: 0.3779000\ttotal: 2m 11s\tremaining: 8m 25s\n",
      "207:\tlearn: 0.3772820\ttotal: 2m 12s\tremaining: 8m 24s\n",
      "208:\tlearn: 0.3768201\ttotal: 2m 13s\tremaining: 8m 24s\n",
      "209:\tlearn: 0.3765203\ttotal: 2m 14s\tremaining: 8m 24s\n",
      "210:\tlearn: 0.3762255\ttotal: 2m 14s\tremaining: 8m 24s\n",
      "211:\tlearn: 0.3758355\ttotal: 2m 15s\tremaining: 8m 23s\n",
      "212:\tlearn: 0.3754885\ttotal: 2m 16s\tremaining: 8m 23s\n",
      "213:\tlearn: 0.3751927\ttotal: 2m 16s\tremaining: 8m 23s\n",
      "214:\tlearn: 0.3749014\ttotal: 2m 17s\tremaining: 8m 22s\n",
      "215:\tlearn: 0.3745824\ttotal: 2m 18s\tremaining: 8m 21s\n",
      "216:\tlearn: 0.3740524\ttotal: 2m 18s\tremaining: 8m 20s\n",
      "217:\tlearn: 0.3737619\ttotal: 2m 19s\tremaining: 8m 20s\n",
      "218:\tlearn: 0.3733886\ttotal: 2m 20s\tremaining: 8m 19s\n",
      "219:\tlearn: 0.3730700\ttotal: 2m 20s\tremaining: 8m 18s\n",
      "220:\tlearn: 0.3727662\ttotal: 2m 21s\tremaining: 8m 18s\n",
      "221:\tlearn: 0.3721446\ttotal: 2m 21s\tremaining: 8m 17s\n",
      "222:\tlearn: 0.3718677\ttotal: 2m 22s\tremaining: 8m 17s\n",
      "223:\tlearn: 0.3715810\ttotal: 2m 23s\tremaining: 8m 16s\n",
      "224:\tlearn: 0.3711273\ttotal: 2m 24s\tremaining: 8m 16s\n",
      "225:\tlearn: 0.3708446\ttotal: 2m 24s\tremaining: 8m 15s\n",
      "226:\tlearn: 0.3705219\ttotal: 2m 25s\tremaining: 8m 14s\n",
      "227:\tlearn: 0.3701873\ttotal: 2m 25s\tremaining: 8m 14s\n",
      "228:\tlearn: 0.3695365\ttotal: 2m 26s\tremaining: 8m 13s\n",
      "229:\tlearn: 0.3692133\ttotal: 2m 27s\tremaining: 8m 12s\n",
      "230:\tlearn: 0.3688428\ttotal: 2m 27s\tremaining: 8m 12s\n",
      "231:\tlearn: 0.3685894\ttotal: 2m 28s\tremaining: 8m 11s\n",
      "232:\tlearn: 0.3682019\ttotal: 2m 29s\tremaining: 8m 10s\n",
      "233:\tlearn: 0.3679394\ttotal: 2m 29s\tremaining: 8m 10s\n",
      "234:\tlearn: 0.3676111\ttotal: 2m 30s\tremaining: 8m 9s\n",
      "235:\tlearn: 0.3672957\ttotal: 2m 30s\tremaining: 8m 8s\n",
      "236:\tlearn: 0.3669422\ttotal: 2m 31s\tremaining: 8m 8s\n",
      "237:\tlearn: 0.3666825\ttotal: 2m 32s\tremaining: 8m 7s\n",
      "238:\tlearn: 0.3662765\ttotal: 2m 32s\tremaining: 8m 6s\n",
      "239:\tlearn: 0.3659332\ttotal: 2m 33s\tremaining: 8m 5s\n",
      "240:\tlearn: 0.3656343\ttotal: 2m 34s\tremaining: 8m 5s\n",
      "241:\tlearn: 0.3653832\ttotal: 2m 34s\tremaining: 8m 4s\n",
      "242:\tlearn: 0.3651293\ttotal: 2m 35s\tremaining: 8m 3s\n",
      "243:\tlearn: 0.3647680\ttotal: 2m 35s\tremaining: 8m 3s\n",
      "244:\tlearn: 0.3644433\ttotal: 2m 36s\tremaining: 8m 2s\n",
      "245:\tlearn: 0.3641556\ttotal: 2m 37s\tremaining: 8m 1s\n",
      "246:\tlearn: 0.3638634\ttotal: 2m 37s\tremaining: 8m 1s\n",
      "247:\tlearn: 0.3635811\ttotal: 2m 38s\tremaining: 8m\n",
      "248:\tlearn: 0.3631953\ttotal: 2m 39s\tremaining: 8m\n",
      "249:\tlearn: 0.3629187\ttotal: 2m 39s\tremaining: 7m 59s\n",
      "250:\tlearn: 0.3625923\ttotal: 2m 40s\tremaining: 7m 59s\n",
      "251:\tlearn: 0.3622990\ttotal: 2m 41s\tremaining: 7m 58s\n",
      "252:\tlearn: 0.3619937\ttotal: 2m 41s\tremaining: 7m 57s\n",
      "253:\tlearn: 0.3615465\ttotal: 2m 42s\tremaining: 7m 57s\n",
      "254:\tlearn: 0.3607989\ttotal: 2m 43s\tremaining: 7m 56s\n",
      "255:\tlearn: 0.3603937\ttotal: 2m 43s\tremaining: 7m 55s\n",
      "256:\tlearn: 0.3597309\ttotal: 2m 44s\tremaining: 7m 55s\n",
      "257:\tlearn: 0.3593991\ttotal: 2m 44s\tremaining: 7m 54s\n",
      "258:\tlearn: 0.3591201\ttotal: 2m 45s\tremaining: 7m 53s\n",
      "259:\tlearn: 0.3587935\ttotal: 2m 46s\tremaining: 7m 53s\n",
      "260:\tlearn: 0.3584913\ttotal: 2m 46s\tremaining: 7m 52s\n",
      "261:\tlearn: 0.3581570\ttotal: 2m 47s\tremaining: 7m 51s\n",
      "262:\tlearn: 0.3579020\ttotal: 2m 48s\tremaining: 7m 51s\n",
      "263:\tlearn: 0.3576168\ttotal: 2m 48s\tremaining: 7m 50s\n",
      "264:\tlearn: 0.3569379\ttotal: 2m 49s\tremaining: 7m 49s\n",
      "265:\tlearn: 0.3566080\ttotal: 2m 49s\tremaining: 7m 49s\n",
      "266:\tlearn: 0.3563534\ttotal: 2m 50s\tremaining: 7m 48s\n",
      "267:\tlearn: 0.3560271\ttotal: 2m 51s\tremaining: 7m 47s\n",
      "268:\tlearn: 0.3556018\ttotal: 2m 51s\tremaining: 7m 47s\n",
      "269:\tlearn: 0.3552741\ttotal: 2m 52s\tremaining: 7m 46s\n",
      "270:\tlearn: 0.3546392\ttotal: 2m 53s\tremaining: 7m 45s\n",
      "271:\tlearn: 0.3542057\ttotal: 2m 53s\tremaining: 7m 45s\n",
      "272:\tlearn: 0.3539183\ttotal: 2m 54s\tremaining: 7m 44s\n",
      "273:\tlearn: 0.3534173\ttotal: 2m 55s\tremaining: 7m 44s\n",
      "274:\tlearn: 0.3531096\ttotal: 2m 55s\tremaining: 7m 43s\n",
      "275:\tlearn: 0.3528759\ttotal: 2m 56s\tremaining: 7m 43s\n",
      "276:\tlearn: 0.3523915\ttotal: 2m 57s\tremaining: 7m 42s\n",
      "277:\tlearn: 0.3517344\ttotal: 2m 57s\tremaining: 7m 41s\n",
      "278:\tlearn: 0.3514525\ttotal: 2m 58s\tremaining: 7m 41s\n",
      "279:\tlearn: 0.3510784\ttotal: 2m 59s\tremaining: 7m 40s\n",
      "280:\tlearn: 0.3506930\ttotal: 2m 59s\tremaining: 7m 39s\n",
      "281:\tlearn: 0.3502270\ttotal: 3m\tremaining: 7m 39s\n",
      "282:\tlearn: 0.3499966\ttotal: 3m\tremaining: 7m 38s\n",
      "283:\tlearn: 0.3496494\ttotal: 3m 1s\tremaining: 7m 37s\n",
      "284:\tlearn: 0.3494264\ttotal: 3m 2s\tremaining: 7m 37s\n",
      "285:\tlearn: 0.3491623\ttotal: 3m 2s\tremaining: 7m 36s\n",
      "286:\tlearn: 0.3488163\ttotal: 3m 3s\tremaining: 7m 35s\n",
      "287:\tlearn: 0.3485313\ttotal: 3m 4s\tremaining: 7m 35s\n",
      "288:\tlearn: 0.3482521\ttotal: 3m 4s\tremaining: 7m 34s\n",
      "289:\tlearn: 0.3479602\ttotal: 3m 5s\tremaining: 7m 33s\n",
      "290:\tlearn: 0.3477048\ttotal: 3m 5s\tremaining: 7m 33s\n",
      "291:\tlearn: 0.3474384\ttotal: 3m 6s\tremaining: 7m 32s\n",
      "292:\tlearn: 0.3471888\ttotal: 3m 7s\tremaining: 7m 31s\n",
      "293:\tlearn: 0.3468849\ttotal: 3m 7s\tremaining: 7m 31s\n",
      "294:\tlearn: 0.3463528\ttotal: 3m 8s\tremaining: 7m 30s\n",
      "295:\tlearn: 0.3460768\ttotal: 3m 9s\tremaining: 7m 29s\n",
      "296:\tlearn: 0.3457314\ttotal: 3m 9s\tremaining: 7m 29s\n",
      "297:\tlearn: 0.3454247\ttotal: 3m 10s\tremaining: 7m 28s\n",
      "298:\tlearn: 0.3451987\ttotal: 3m 11s\tremaining: 7m 28s\n",
      "299:\tlearn: 0.3449349\ttotal: 3m 11s\tremaining: 7m 27s\n",
      "300:\tlearn: 0.3446807\ttotal: 3m 12s\tremaining: 7m 26s\n",
      "301:\tlearn: 0.3444004\ttotal: 3m 13s\tremaining: 7m 26s\n",
      "302:\tlearn: 0.3441270\ttotal: 3m 13s\tremaining: 7m 25s\n",
      "303:\tlearn: 0.3439024\ttotal: 3m 14s\tremaining: 7m 25s\n",
      "304:\tlearn: 0.3435496\ttotal: 3m 15s\tremaining: 7m 24s\n",
      "305:\tlearn: 0.3432359\ttotal: 3m 15s\tremaining: 7m 23s\n",
      "306:\tlearn: 0.3429680\ttotal: 3m 16s\tremaining: 7m 23s\n",
      "307:\tlearn: 0.3425120\ttotal: 3m 16s\tremaining: 7m 22s\n",
      "308:\tlearn: 0.3422548\ttotal: 3m 17s\tremaining: 7m 21s\n"
     ]
    },
    {
     "name": "stdout",
     "output_type": "stream",
     "text": [
      "309:\tlearn: 0.3420268\ttotal: 3m 18s\tremaining: 7m 21s\n",
      "310:\tlearn: 0.3417092\ttotal: 3m 18s\tremaining: 7m 20s\n",
      "311:\tlearn: 0.3414330\ttotal: 3m 19s\tremaining: 7m 19s\n",
      "312:\tlearn: 0.3411286\ttotal: 3m 20s\tremaining: 7m 19s\n",
      "313:\tlearn: 0.3407907\ttotal: 3m 20s\tremaining: 7m 18s\n",
      "314:\tlearn: 0.3403723\ttotal: 3m 21s\tremaining: 7m 17s\n",
      "315:\tlearn: 0.3401133\ttotal: 3m 21s\tremaining: 7m 17s\n",
      "316:\tlearn: 0.3398273\ttotal: 3m 22s\tremaining: 7m 16s\n",
      "317:\tlearn: 0.3395486\ttotal: 3m 23s\tremaining: 7m 15s\n",
      "318:\tlearn: 0.3393315\ttotal: 3m 23s\tremaining: 7m 15s\n",
      "319:\tlearn: 0.3391042\ttotal: 3m 24s\tremaining: 7m 14s\n",
      "320:\tlearn: 0.3387979\ttotal: 3m 25s\tremaining: 7m 13s\n",
      "321:\tlearn: 0.3383827\ttotal: 3m 25s\tremaining: 7m 13s\n",
      "322:\tlearn: 0.3379975\ttotal: 3m 26s\tremaining: 7m 12s\n",
      "323:\tlearn: 0.3377561\ttotal: 3m 27s\tremaining: 7m 12s\n",
      "324:\tlearn: 0.3375272\ttotal: 3m 27s\tremaining: 7m 11s\n",
      "325:\tlearn: 0.3371815\ttotal: 3m 28s\tremaining: 7m 11s\n",
      "326:\tlearn: 0.3369160\ttotal: 3m 29s\tremaining: 7m 10s\n",
      "327:\tlearn: 0.3366697\ttotal: 3m 29s\tremaining: 7m 9s\n",
      "328:\tlearn: 0.3364142\ttotal: 3m 30s\tremaining: 7m 9s\n",
      "329:\tlearn: 0.3361927\ttotal: 3m 31s\tremaining: 7m 8s\n",
      "330:\tlearn: 0.3359730\ttotal: 3m 31s\tremaining: 7m 7s\n",
      "331:\tlearn: 0.3356604\ttotal: 3m 32s\tremaining: 7m 7s\n",
      "332:\tlearn: 0.3353980\ttotal: 3m 33s\tremaining: 7m 6s\n",
      "333:\tlearn: 0.3351510\ttotal: 3m 33s\tremaining: 7m 6s\n",
      "334:\tlearn: 0.3349005\ttotal: 3m 34s\tremaining: 7m 5s\n",
      "335:\tlearn: 0.3346749\ttotal: 3m 34s\tremaining: 7m 4s\n",
      "336:\tlearn: 0.3344023\ttotal: 3m 35s\tremaining: 7m 4s\n",
      "337:\tlearn: 0.3341562\ttotal: 3m 36s\tremaining: 7m 3s\n",
      "338:\tlearn: 0.3339101\ttotal: 3m 36s\tremaining: 7m 3s\n",
      "339:\tlearn: 0.3336590\ttotal: 3m 37s\tremaining: 7m 2s\n",
      "340:\tlearn: 0.3334337\ttotal: 3m 38s\tremaining: 7m 1s\n",
      "341:\tlearn: 0.3329135\ttotal: 3m 38s\tremaining: 7m 1s\n",
      "342:\tlearn: 0.3327016\ttotal: 3m 39s\tremaining: 7m\n",
      "343:\tlearn: 0.3324633\ttotal: 3m 40s\tremaining: 6m 59s\n",
      "344:\tlearn: 0.3321419\ttotal: 3m 40s\tremaining: 6m 59s\n",
      "345:\tlearn: 0.3319511\ttotal: 3m 41s\tremaining: 6m 58s\n",
      "346:\tlearn: 0.3315947\ttotal: 3m 42s\tremaining: 6m 58s\n",
      "347:\tlearn: 0.3313542\ttotal: 3m 42s\tremaining: 6m 57s\n",
      "348:\tlearn: 0.3311425\ttotal: 3m 43s\tremaining: 6m 57s\n",
      "349:\tlearn: 0.3309669\ttotal: 3m 44s\tremaining: 6m 56s\n",
      "350:\tlearn: 0.3306871\ttotal: 3m 44s\tremaining: 6m 55s\n",
      "351:\tlearn: 0.3304873\ttotal: 3m 45s\tremaining: 6m 55s\n",
      "352:\tlearn: 0.3302599\ttotal: 3m 46s\tremaining: 6m 54s\n",
      "353:\tlearn: 0.3300237\ttotal: 3m 46s\tremaining: 6m 53s\n",
      "354:\tlearn: 0.3297987\ttotal: 3m 47s\tremaining: 6m 53s\n",
      "355:\tlearn: 0.3295940\ttotal: 3m 48s\tremaining: 6m 52s\n",
      "356:\tlearn: 0.3289047\ttotal: 3m 48s\tremaining: 6m 51s\n",
      "357:\tlearn: 0.3285815\ttotal: 3m 49s\tremaining: 6m 51s\n",
      "358:\tlearn: 0.3283690\ttotal: 3m 49s\tremaining: 6m 50s\n",
      "359:\tlearn: 0.3281624\ttotal: 3m 50s\tremaining: 6m 49s\n",
      "360:\tlearn: 0.3279716\ttotal: 3m 51s\tremaining: 6m 49s\n",
      "361:\tlearn: 0.3276728\ttotal: 3m 51s\tremaining: 6m 48s\n",
      "362:\tlearn: 0.3274429\ttotal: 3m 52s\tremaining: 6m 47s\n",
      "363:\tlearn: 0.3271885\ttotal: 3m 53s\tremaining: 6m 47s\n",
      "364:\tlearn: 0.3269880\ttotal: 3m 53s\tremaining: 6m 46s\n",
      "365:\tlearn: 0.3263396\ttotal: 3m 54s\tremaining: 6m 46s\n",
      "366:\tlearn: 0.3261388\ttotal: 3m 55s\tremaining: 6m 45s\n",
      "367:\tlearn: 0.3259393\ttotal: 3m 55s\tremaining: 6m 44s\n",
      "368:\tlearn: 0.3256233\ttotal: 3m 56s\tremaining: 6m 44s\n",
      "369:\tlearn: 0.3254281\ttotal: 3m 56s\tremaining: 6m 43s\n",
      "370:\tlearn: 0.3252232\ttotal: 3m 57s\tremaining: 6m 43s\n",
      "371:\tlearn: 0.3250057\ttotal: 3m 58s\tremaining: 6m 42s\n",
      "372:\tlearn: 0.3248388\ttotal: 3m 59s\tremaining: 6m 42s\n",
      "373:\tlearn: 0.3246167\ttotal: 3m 59s\tremaining: 6m 41s\n",
      "374:\tlearn: 0.3244091\ttotal: 4m\tremaining: 6m 41s\n",
      "375:\tlearn: 0.3241238\ttotal: 4m 1s\tremaining: 6m 40s\n",
      "376:\tlearn: 0.3238842\ttotal: 4m 1s\tremaining: 6m 39s\n",
      "377:\tlearn: 0.3236540\ttotal: 4m 2s\tremaining: 6m 39s\n",
      "378:\tlearn: 0.3234644\ttotal: 4m 3s\tremaining: 6m 38s\n",
      "379:\tlearn: 0.3232427\ttotal: 4m 3s\tremaining: 6m 37s\n",
      "380:\tlearn: 0.3230665\ttotal: 4m 4s\tremaining: 6m 37s\n",
      "381:\tlearn: 0.3227934\ttotal: 4m 5s\tremaining: 6m 36s\n",
      "382:\tlearn: 0.3226202\ttotal: 4m 5s\tremaining: 6m 35s\n",
      "383:\tlearn: 0.3224020\ttotal: 4m 6s\tremaining: 6m 35s\n",
      "384:\tlearn: 0.3222489\ttotal: 4m 6s\tremaining: 6m 34s\n",
      "385:\tlearn: 0.3220588\ttotal: 4m 7s\tremaining: 6m 33s\n",
      "386:\tlearn: 0.3216422\ttotal: 4m 8s\tremaining: 6m 33s\n",
      "387:\tlearn: 0.3214488\ttotal: 4m 8s\tremaining: 6m 32s\n",
      "388:\tlearn: 0.3212131\ttotal: 4m 9s\tremaining: 6m 31s\n",
      "389:\tlearn: 0.3210306\ttotal: 4m 10s\tremaining: 6m 31s\n",
      "390:\tlearn: 0.3206696\ttotal: 4m 10s\tremaining: 6m 30s\n",
      "391:\tlearn: 0.3204568\ttotal: 4m 11s\tremaining: 6m 29s\n",
      "392:\tlearn: 0.3202836\ttotal: 4m 12s\tremaining: 6m 29s\n",
      "393:\tlearn: 0.3200569\ttotal: 4m 12s\tremaining: 6m 28s\n",
      "394:\tlearn: 0.3198340\ttotal: 4m 13s\tremaining: 6m 27s\n",
      "395:\tlearn: 0.3195200\ttotal: 4m 13s\tremaining: 6m 27s\n",
      "396:\tlearn: 0.3193187\ttotal: 4m 14s\tremaining: 6m 26s\n",
      "397:\tlearn: 0.3191396\ttotal: 4m 15s\tremaining: 6m 26s\n",
      "398:\tlearn: 0.3189199\ttotal: 4m 16s\tremaining: 6m 25s\n",
      "399:\tlearn: 0.3187350\ttotal: 4m 16s\tremaining: 6m 25s\n",
      "400:\tlearn: 0.3185619\ttotal: 4m 17s\tremaining: 6m 24s\n",
      "401:\tlearn: 0.3183417\ttotal: 4m 17s\tremaining: 6m 23s\n",
      "402:\tlearn: 0.3180894\ttotal: 4m 18s\tremaining: 6m 22s\n",
      "403:\tlearn: 0.3178579\ttotal: 4m 19s\tremaining: 6m 22s\n",
      "404:\tlearn: 0.3176807\ttotal: 4m 19s\tremaining: 6m 21s\n",
      "405:\tlearn: 0.3173991\ttotal: 4m 20s\tremaining: 6m 21s\n",
      "406:\tlearn: 0.3172138\ttotal: 4m 21s\tremaining: 6m 20s\n",
      "407:\tlearn: 0.3170443\ttotal: 4m 21s\tremaining: 6m 19s\n",
      "408:\tlearn: 0.3167946\ttotal: 4m 22s\tremaining: 6m 19s\n",
      "409:\tlearn: 0.3166098\ttotal: 4m 22s\tremaining: 6m 18s\n",
      "410:\tlearn: 0.3164365\ttotal: 4m 23s\tremaining: 6m 17s\n",
      "411:\tlearn: 0.3162196\ttotal: 4m 24s\tremaining: 6m 17s\n",
      "412:\tlearn: 0.3160353\ttotal: 4m 24s\tremaining: 6m 16s\n",
      "413:\tlearn: 0.3157738\ttotal: 4m 25s\tremaining: 6m 15s\n",
      "414:\tlearn: 0.3155211\ttotal: 4m 26s\tremaining: 6m 15s\n",
      "415:\tlearn: 0.3153179\ttotal: 4m 26s\tremaining: 6m 14s\n",
      "416:\tlearn: 0.3151283\ttotal: 4m 27s\tremaining: 6m 13s\n",
      "417:\tlearn: 0.3149265\ttotal: 4m 28s\tremaining: 6m 13s\n",
      "418:\tlearn: 0.3147704\ttotal: 4m 28s\tremaining: 6m 12s\n",
      "419:\tlearn: 0.3145653\ttotal: 4m 29s\tremaining: 6m 11s\n",
      "420:\tlearn: 0.3143831\ttotal: 4m 29s\tremaining: 6m 11s\n",
      "421:\tlearn: 0.3141968\ttotal: 4m 30s\tremaining: 6m 10s\n",
      "422:\tlearn: 0.3138623\ttotal: 4m 31s\tremaining: 6m 10s\n",
      "423:\tlearn: 0.3136863\ttotal: 4m 32s\tremaining: 6m 9s\n",
      "424:\tlearn: 0.3135280\ttotal: 4m 32s\tremaining: 6m 8s\n",
      "425:\tlearn: 0.3133222\ttotal: 4m 33s\tremaining: 6m 8s\n",
      "426:\tlearn: 0.3131076\ttotal: 4m 33s\tremaining: 6m 7s\n",
      "427:\tlearn: 0.3129484\ttotal: 4m 34s\tremaining: 6m 6s\n",
      "428:\tlearn: 0.3127000\ttotal: 4m 35s\tremaining: 6m 6s\n",
      "429:\tlearn: 0.3123105\ttotal: 4m 35s\tremaining: 6m 5s\n",
      "430:\tlearn: 0.3121104\ttotal: 4m 36s\tremaining: 6m 4s\n",
      "431:\tlearn: 0.3119583\ttotal: 4m 37s\tremaining: 6m 4s\n",
      "432:\tlearn: 0.3117787\ttotal: 4m 37s\tremaining: 6m 3s\n",
      "433:\tlearn: 0.3116195\ttotal: 4m 38s\tremaining: 6m 3s\n",
      "434:\tlearn: 0.3113536\ttotal: 4m 38s\tremaining: 6m 2s\n",
      "435:\tlearn: 0.3111599\ttotal: 4m 39s\tremaining: 6m 1s\n",
      "436:\tlearn: 0.3109654\ttotal: 4m 40s\tremaining: 6m 1s\n",
      "437:\tlearn: 0.3107972\ttotal: 4m 40s\tremaining: 6m\n",
      "438:\tlearn: 0.3106088\ttotal: 4m 41s\tremaining: 5m 59s\n",
      "439:\tlearn: 0.3103744\ttotal: 4m 42s\tremaining: 5m 59s\n",
      "440:\tlearn: 0.3102112\ttotal: 4m 42s\tremaining: 5m 58s\n",
      "441:\tlearn: 0.3099892\ttotal: 4m 43s\tremaining: 5m 57s\n",
      "442:\tlearn: 0.3098331\ttotal: 4m 44s\tremaining: 5m 57s\n",
      "443:\tlearn: 0.3095672\ttotal: 4m 44s\tremaining: 5m 56s\n",
      "444:\tlearn: 0.3094117\ttotal: 4m 45s\tremaining: 5m 55s\n",
      "445:\tlearn: 0.3091373\ttotal: 4m 46s\tremaining: 5m 55s\n",
      "446:\tlearn: 0.3089472\ttotal: 4m 46s\tremaining: 5m 54s\n",
      "447:\tlearn: 0.3087530\ttotal: 4m 47s\tremaining: 5m 54s\n",
      "448:\tlearn: 0.3085722\ttotal: 4m 48s\tremaining: 5m 53s\n",
      "449:\tlearn: 0.3082605\ttotal: 4m 48s\tremaining: 5m 53s\n",
      "450:\tlearn: 0.3080677\ttotal: 4m 49s\tremaining: 5m 52s\n",
      "451:\tlearn: 0.3078588\ttotal: 4m 50s\tremaining: 5m 51s\n",
      "452:\tlearn: 0.3076461\ttotal: 4m 50s\tremaining: 5m 51s\n",
      "453:\tlearn: 0.3074516\ttotal: 4m 51s\tremaining: 5m 50s\n",
      "454:\tlearn: 0.3072846\ttotal: 4m 52s\tremaining: 5m 49s\n",
      "455:\tlearn: 0.3070951\ttotal: 4m 52s\tremaining: 5m 49s\n",
      "456:\tlearn: 0.3069255\ttotal: 4m 53s\tremaining: 5m 48s\n",
      "457:\tlearn: 0.3068105\ttotal: 4m 54s\tremaining: 5m 48s\n",
      "458:\tlearn: 0.3066456\ttotal: 4m 54s\tremaining: 5m 47s\n",
      "459:\tlearn: 0.3064902\ttotal: 4m 55s\tremaining: 5m 46s\n",
      "460:\tlearn: 0.3062524\ttotal: 4m 55s\tremaining: 5m 46s\n",
      "461:\tlearn: 0.3060977\ttotal: 4m 56s\tremaining: 5m 45s\n"
     ]
    },
    {
     "name": "stdout",
     "output_type": "stream",
     "text": [
      "462:\tlearn: 0.3059005\ttotal: 4m 57s\tremaining: 5m 44s\n",
      "463:\tlearn: 0.3057255\ttotal: 4m 57s\tremaining: 5m 44s\n",
      "464:\tlearn: 0.3055126\ttotal: 4m 58s\tremaining: 5m 43s\n",
      "465:\tlearn: 0.3053387\ttotal: 4m 59s\tremaining: 5m 42s\n",
      "466:\tlearn: 0.3051497\ttotal: 4m 59s\tremaining: 5m 42s\n",
      "467:\tlearn: 0.3049821\ttotal: 5m\tremaining: 5m 41s\n",
      "468:\tlearn: 0.3047550\ttotal: 5m 1s\tremaining: 5m 40s\n",
      "469:\tlearn: 0.3045697\ttotal: 5m 1s\tremaining: 5m 40s\n",
      "470:\tlearn: 0.3044130\ttotal: 5m 2s\tremaining: 5m 39s\n",
      "471:\tlearn: 0.3042421\ttotal: 5m 3s\tremaining: 5m 39s\n",
      "472:\tlearn: 0.3041063\ttotal: 5m 3s\tremaining: 5m 38s\n",
      "473:\tlearn: 0.3039357\ttotal: 5m 4s\tremaining: 5m 37s\n",
      "474:\tlearn: 0.3037501\ttotal: 5m 5s\tremaining: 5m 37s\n",
      "475:\tlearn: 0.3035543\ttotal: 5m 5s\tremaining: 5m 36s\n",
      "476:\tlearn: 0.3034123\ttotal: 5m 6s\tremaining: 5m 35s\n",
      "477:\tlearn: 0.3032023\ttotal: 5m 7s\tremaining: 5m 35s\n",
      "478:\tlearn: 0.3030166\ttotal: 5m 7s\tremaining: 5m 34s\n",
      "479:\tlearn: 0.3028149\ttotal: 5m 8s\tremaining: 5m 34s\n",
      "480:\tlearn: 0.3026267\ttotal: 5m 8s\tremaining: 5m 33s\n",
      "481:\tlearn: 0.3024316\ttotal: 5m 9s\tremaining: 5m 32s\n",
      "482:\tlearn: 0.3022455\ttotal: 5m 10s\tremaining: 5m 32s\n",
      "483:\tlearn: 0.3020990\ttotal: 5m 10s\tremaining: 5m 31s\n",
      "484:\tlearn: 0.3019646\ttotal: 5m 11s\tremaining: 5m 30s\n",
      "485:\tlearn: 0.3017872\ttotal: 5m 12s\tremaining: 5m 30s\n",
      "486:\tlearn: 0.3016290\ttotal: 5m 12s\tremaining: 5m 29s\n",
      "487:\tlearn: 0.3014952\ttotal: 5m 13s\tremaining: 5m 28s\n",
      "488:\tlearn: 0.3013531\ttotal: 5m 14s\tremaining: 5m 28s\n",
      "489:\tlearn: 0.3012169\ttotal: 5m 14s\tremaining: 5m 27s\n",
      "490:\tlearn: 0.3010821\ttotal: 5m 15s\tremaining: 5m 27s\n",
      "491:\tlearn: 0.3009465\ttotal: 5m 16s\tremaining: 5m 26s\n",
      "492:\tlearn: 0.3007967\ttotal: 5m 16s\tremaining: 5m 25s\n",
      "493:\tlearn: 0.3006130\ttotal: 5m 17s\tremaining: 5m 25s\n",
      "494:\tlearn: 0.3004041\ttotal: 5m 18s\tremaining: 5m 24s\n",
      "495:\tlearn: 0.3002413\ttotal: 5m 18s\tremaining: 5m 23s\n",
      "496:\tlearn: 0.3000973\ttotal: 5m 19s\tremaining: 5m 23s\n",
      "497:\tlearn: 0.2999649\ttotal: 5m 20s\tremaining: 5m 22s\n",
      "498:\tlearn: 0.2994069\ttotal: 5m 20s\tremaining: 5m 22s\n",
      "499:\tlearn: 0.2992782\ttotal: 5m 21s\tremaining: 5m 21s\n",
      "500:\tlearn: 0.2989889\ttotal: 5m 21s\tremaining: 5m 20s\n",
      "501:\tlearn: 0.2988264\ttotal: 5m 22s\tremaining: 5m 20s\n",
      "502:\tlearn: 0.2986091\ttotal: 5m 23s\tremaining: 5m 19s\n",
      "503:\tlearn: 0.2984324\ttotal: 5m 23s\tremaining: 5m 18s\n",
      "504:\tlearn: 0.2982688\ttotal: 5m 24s\tremaining: 5m 18s\n",
      "505:\tlearn: 0.2981646\ttotal: 5m 25s\tremaining: 5m 17s\n",
      "506:\tlearn: 0.2979587\ttotal: 5m 25s\tremaining: 5m 16s\n",
      "507:\tlearn: 0.2978126\ttotal: 5m 26s\tremaining: 5m 16s\n",
      "508:\tlearn: 0.2976960\ttotal: 5m 27s\tremaining: 5m 15s\n",
      "509:\tlearn: 0.2975233\ttotal: 5m 27s\tremaining: 5m 14s\n",
      "510:\tlearn: 0.2973540\ttotal: 5m 28s\tremaining: 5m 14s\n",
      "511:\tlearn: 0.2971288\ttotal: 5m 28s\tremaining: 5m 13s\n",
      "512:\tlearn: 0.2969622\ttotal: 5m 29s\tremaining: 5m 12s\n",
      "513:\tlearn: 0.2968105\ttotal: 5m 30s\tremaining: 5m 12s\n",
      "514:\tlearn: 0.2966731\ttotal: 5m 30s\tremaining: 5m 11s\n",
      "515:\tlearn: 0.2965446\ttotal: 5m 31s\tremaining: 5m 10s\n",
      "516:\tlearn: 0.2961022\ttotal: 5m 32s\tremaining: 5m 10s\n",
      "517:\tlearn: 0.2959364\ttotal: 5m 32s\tremaining: 5m 9s\n",
      "518:\tlearn: 0.2957769\ttotal: 5m 33s\tremaining: 5m 9s\n",
      "519:\tlearn: 0.2956298\ttotal: 5m 34s\tremaining: 5m 8s\n",
      "520:\tlearn: 0.2954535\ttotal: 5m 35s\tremaining: 5m 8s\n",
      "521:\tlearn: 0.2952621\ttotal: 5m 35s\tremaining: 5m 7s\n",
      "522:\tlearn: 0.2950983\ttotal: 5m 36s\tremaining: 5m 6s\n",
      "523:\tlearn: 0.2949105\ttotal: 5m 37s\tremaining: 5m 6s\n",
      "524:\tlearn: 0.2948169\ttotal: 5m 37s\tremaining: 5m 5s\n",
      "525:\tlearn: 0.2946640\ttotal: 5m 38s\tremaining: 5m 4s\n",
      "526:\tlearn: 0.2944784\ttotal: 5m 39s\tremaining: 5m 4s\n",
      "527:\tlearn: 0.2943098\ttotal: 5m 39s\tremaining: 5m 3s\n",
      "528:\tlearn: 0.2941388\ttotal: 5m 40s\tremaining: 5m 3s\n",
      "529:\tlearn: 0.2940456\ttotal: 5m 40s\tremaining: 5m 2s\n",
      "530:\tlearn: 0.2938462\ttotal: 5m 41s\tremaining: 5m 1s\n",
      "531:\tlearn: 0.2936990\ttotal: 5m 42s\tremaining: 5m 1s\n",
      "532:\tlearn: 0.2935653\ttotal: 5m 42s\tremaining: 5m\n",
      "533:\tlearn: 0.2933040\ttotal: 5m 43s\tremaining: 4m 59s\n",
      "534:\tlearn: 0.2931963\ttotal: 5m 44s\tremaining: 4m 59s\n",
      "535:\tlearn: 0.2930499\ttotal: 5m 44s\tremaining: 4m 58s\n",
      "536:\tlearn: 0.2928965\ttotal: 5m 45s\tremaining: 4m 57s\n",
      "537:\tlearn: 0.2927004\ttotal: 5m 46s\tremaining: 4m 57s\n",
      "538:\tlearn: 0.2925487\ttotal: 5m 46s\tremaining: 4m 56s\n",
      "539:\tlearn: 0.2924244\ttotal: 5m 47s\tremaining: 4m 56s\n",
      "540:\tlearn: 0.2923052\ttotal: 5m 48s\tremaining: 4m 55s\n",
      "541:\tlearn: 0.2921722\ttotal: 5m 49s\tremaining: 4m 54s\n",
      "542:\tlearn: 0.2920249\ttotal: 5m 49s\tremaining: 4m 54s\n",
      "543:\tlearn: 0.2918950\ttotal: 5m 50s\tremaining: 4m 53s\n",
      "544:\tlearn: 0.2917300\ttotal: 5m 51s\tremaining: 4m 53s\n",
      "545:\tlearn: 0.2915941\ttotal: 5m 52s\tremaining: 4m 52s\n",
      "546:\tlearn: 0.2914618\ttotal: 5m 52s\tremaining: 4m 52s\n",
      "547:\tlearn: 0.2912071\ttotal: 5m 53s\tremaining: 4m 51s\n",
      "548:\tlearn: 0.2911091\ttotal: 5m 54s\tremaining: 4m 51s\n",
      "549:\tlearn: 0.2909545\ttotal: 5m 55s\tremaining: 4m 50s\n",
      "550:\tlearn: 0.2908272\ttotal: 5m 55s\tremaining: 4m 49s\n",
      "551:\tlearn: 0.2905980\ttotal: 5m 56s\tremaining: 4m 49s\n",
      "552:\tlearn: 0.2904418\ttotal: 5m 57s\tremaining: 4m 48s\n",
      "553:\tlearn: 0.2902654\ttotal: 5m 57s\tremaining: 4m 48s\n",
      "554:\tlearn: 0.2896764\ttotal: 5m 58s\tremaining: 4m 47s\n",
      "555:\tlearn: 0.2895302\ttotal: 5m 59s\tremaining: 4m 46s\n",
      "556:\tlearn: 0.2893687\ttotal: 6m\tremaining: 4m 46s\n",
      "557:\tlearn: 0.2892884\ttotal: 6m\tremaining: 4m 45s\n",
      "558:\tlearn: 0.2891636\ttotal: 6m 1s\tremaining: 4m 45s\n",
      "559:\tlearn: 0.2890082\ttotal: 6m 2s\tremaining: 4m 44s\n",
      "560:\tlearn: 0.2888715\ttotal: 6m 3s\tremaining: 4m 44s\n",
      "561:\tlearn: 0.2886967\ttotal: 6m 3s\tremaining: 4m 43s\n",
      "562:\tlearn: 0.2885616\ttotal: 6m 4s\tremaining: 4m 42s\n",
      "563:\tlearn: 0.2884386\ttotal: 6m 5s\tremaining: 4m 42s\n",
      "564:\tlearn: 0.2882885\ttotal: 6m 5s\tremaining: 4m 41s\n",
      "565:\tlearn: 0.2881286\ttotal: 6m 6s\tremaining: 4m 41s\n",
      "566:\tlearn: 0.2880188\ttotal: 6m 7s\tremaining: 4m 40s\n",
      "567:\tlearn: 0.2877915\ttotal: 6m 8s\tremaining: 4m 39s\n",
      "568:\tlearn: 0.2876186\ttotal: 6m 8s\tremaining: 4m 39s\n",
      "569:\tlearn: 0.2874776\ttotal: 6m 9s\tremaining: 4m 38s\n",
      "570:\tlearn: 0.2873287\ttotal: 6m 10s\tremaining: 4m 38s\n",
      "571:\tlearn: 0.2871880\ttotal: 6m 11s\tremaining: 4m 37s\n",
      "572:\tlearn: 0.2870970\ttotal: 6m 12s\tremaining: 4m 37s\n",
      "573:\tlearn: 0.2869601\ttotal: 6m 12s\tremaining: 4m 36s\n",
      "574:\tlearn: 0.2868297\ttotal: 6m 13s\tremaining: 4m 36s\n",
      "575:\tlearn: 0.2866869\ttotal: 6m 14s\tremaining: 4m 35s\n",
      "576:\tlearn: 0.2865182\ttotal: 6m 15s\tremaining: 4m 35s\n",
      "577:\tlearn: 0.2863836\ttotal: 6m 15s\tremaining: 4m 34s\n",
      "578:\tlearn: 0.2862860\ttotal: 6m 16s\tremaining: 4m 33s\n",
      "579:\tlearn: 0.2861627\ttotal: 6m 17s\tremaining: 4m 33s\n",
      "580:\tlearn: 0.2860247\ttotal: 6m 17s\tremaining: 4m 32s\n",
      "581:\tlearn: 0.2858312\ttotal: 6m 18s\tremaining: 4m 31s\n",
      "582:\tlearn: 0.2856837\ttotal: 6m 19s\tremaining: 4m 31s\n",
      "583:\tlearn: 0.2855518\ttotal: 6m 20s\tremaining: 4m 30s\n",
      "584:\tlearn: 0.2854236\ttotal: 6m 20s\tremaining: 4m 30s\n",
      "585:\tlearn: 0.2853152\ttotal: 6m 21s\tremaining: 4m 29s\n",
      "586:\tlearn: 0.2851775\ttotal: 6m 22s\tremaining: 4m 29s\n",
      "587:\tlearn: 0.2850290\ttotal: 6m 23s\tremaining: 4m 28s\n",
      "588:\tlearn: 0.2848703\ttotal: 6m 23s\tremaining: 4m 27s\n",
      "589:\tlearn: 0.2846471\ttotal: 6m 24s\tremaining: 4m 27s\n",
      "590:\tlearn: 0.2844805\ttotal: 6m 25s\tremaining: 4m 26s\n",
      "591:\tlearn: 0.2843519\ttotal: 6m 26s\tremaining: 4m 26s\n",
      "592:\tlearn: 0.2841842\ttotal: 6m 26s\tremaining: 4m 25s\n",
      "593:\tlearn: 0.2840994\ttotal: 6m 27s\tremaining: 4m 24s\n",
      "594:\tlearn: 0.2839909\ttotal: 6m 28s\tremaining: 4m 24s\n",
      "595:\tlearn: 0.2838155\ttotal: 6m 28s\tremaining: 4m 23s\n",
      "596:\tlearn: 0.2836904\ttotal: 6m 29s\tremaining: 4m 22s\n",
      "597:\tlearn: 0.2835295\ttotal: 6m 30s\tremaining: 4m 22s\n",
      "598:\tlearn: 0.2833319\ttotal: 6m 30s\tremaining: 4m 21s\n",
      "599:\tlearn: 0.2832477\ttotal: 6m 31s\tremaining: 4m 20s\n",
      "600:\tlearn: 0.2831722\ttotal: 6m 32s\tremaining: 4m 20s\n",
      "601:\tlearn: 0.2830450\ttotal: 6m 32s\tremaining: 4m 19s\n",
      "602:\tlearn: 0.2829004\ttotal: 6m 33s\tremaining: 4m 19s\n",
      "603:\tlearn: 0.2827620\ttotal: 6m 34s\tremaining: 4m 18s\n",
      "604:\tlearn: 0.2826384\ttotal: 6m 34s\tremaining: 4m 17s\n",
      "605:\tlearn: 0.2824127\ttotal: 6m 35s\tremaining: 4m 17s\n",
      "606:\tlearn: 0.2823180\ttotal: 6m 36s\tremaining: 4m 16s\n",
      "607:\tlearn: 0.2822440\ttotal: 6m 36s\tremaining: 4m 15s\n",
      "608:\tlearn: 0.2821792\ttotal: 6m 37s\tremaining: 4m 15s\n",
      "609:\tlearn: 0.2820481\ttotal: 6m 38s\tremaining: 4m 14s\n",
      "610:\tlearn: 0.2819222\ttotal: 6m 39s\tremaining: 4m 14s\n",
      "611:\tlearn: 0.2817804\ttotal: 6m 39s\tremaining: 4m 13s\n",
      "612:\tlearn: 0.2816791\ttotal: 6m 40s\tremaining: 4m 12s\n",
      "613:\tlearn: 0.2815418\ttotal: 6m 41s\tremaining: 4m 12s\n",
      "614:\tlearn: 0.2813453\ttotal: 6m 41s\tremaining: 4m 11s\n"
     ]
    },
    {
     "name": "stdout",
     "output_type": "stream",
     "text": [
      "615:\tlearn: 0.2812204\ttotal: 6m 42s\tremaining: 4m 10s\n",
      "616:\tlearn: 0.2810359\ttotal: 6m 42s\tremaining: 4m 10s\n",
      "617:\tlearn: 0.2809151\ttotal: 6m 43s\tremaining: 4m 9s\n",
      "618:\tlearn: 0.2808036\ttotal: 6m 44s\tremaining: 4m 8s\n",
      "619:\tlearn: 0.2806737\ttotal: 6m 44s\tremaining: 4m 8s\n",
      "620:\tlearn: 0.2805357\ttotal: 6m 45s\tremaining: 4m 7s\n",
      "621:\tlearn: 0.2803702\ttotal: 6m 46s\tremaining: 4m 6s\n",
      "622:\tlearn: 0.2802515\ttotal: 6m 46s\tremaining: 4m 6s\n",
      "623:\tlearn: 0.2801296\ttotal: 6m 47s\tremaining: 4m 5s\n",
      "624:\tlearn: 0.2799864\ttotal: 6m 47s\tremaining: 4m 4s\n",
      "625:\tlearn: 0.2798829\ttotal: 6m 48s\tremaining: 4m 4s\n",
      "626:\tlearn: 0.2797452\ttotal: 6m 49s\tremaining: 4m 3s\n",
      "627:\tlearn: 0.2796086\ttotal: 6m 49s\tremaining: 4m 2s\n",
      "628:\tlearn: 0.2794842\ttotal: 6m 50s\tremaining: 4m 2s\n",
      "629:\tlearn: 0.2793322\ttotal: 6m 51s\tremaining: 4m 1s\n",
      "630:\tlearn: 0.2792134\ttotal: 6m 51s\tremaining: 4m\n",
      "631:\tlearn: 0.2791126\ttotal: 6m 52s\tremaining: 4m\n",
      "632:\tlearn: 0.2789472\ttotal: 6m 52s\tremaining: 3m 59s\n",
      "633:\tlearn: 0.2788095\ttotal: 6m 53s\tremaining: 3m 58s\n",
      "634:\tlearn: 0.2786749\ttotal: 6m 54s\tremaining: 3m 58s\n",
      "635:\tlearn: 0.2785515\ttotal: 6m 54s\tremaining: 3m 57s\n",
      "636:\tlearn: 0.2784090\ttotal: 6m 55s\tremaining: 3m 56s\n",
      "637:\tlearn: 0.2781376\ttotal: 6m 56s\tremaining: 3m 56s\n",
      "638:\tlearn: 0.2779119\ttotal: 6m 56s\tremaining: 3m 55s\n",
      "639:\tlearn: 0.2777864\ttotal: 6m 57s\tremaining: 3m 54s\n",
      "640:\tlearn: 0.2776459\ttotal: 6m 58s\tremaining: 3m 54s\n",
      "641:\tlearn: 0.2775184\ttotal: 6m 58s\tremaining: 3m 53s\n",
      "642:\tlearn: 0.2773798\ttotal: 6m 59s\tremaining: 3m 52s\n",
      "643:\tlearn: 0.2773098\ttotal: 6m 59s\tremaining: 3m 52s\n",
      "644:\tlearn: 0.2772064\ttotal: 7m\tremaining: 3m 51s\n",
      "645:\tlearn: 0.2770850\ttotal: 7m 1s\tremaining: 3m 50s\n",
      "646:\tlearn: 0.2769841\ttotal: 7m 1s\tremaining: 3m 50s\n",
      "647:\tlearn: 0.2768806\ttotal: 7m 2s\tremaining: 3m 49s\n",
      "648:\tlearn: 0.2767155\ttotal: 7m 3s\tremaining: 3m 48s\n",
      "649:\tlearn: 0.2766465\ttotal: 7m 3s\tremaining: 3m 48s\n",
      "650:\tlearn: 0.2765320\ttotal: 7m 4s\tremaining: 3m 47s\n",
      "651:\tlearn: 0.2764008\ttotal: 7m 4s\tremaining: 3m 46s\n",
      "652:\tlearn: 0.2762311\ttotal: 7m 5s\tremaining: 3m 46s\n",
      "653:\tlearn: 0.2760754\ttotal: 7m 6s\tremaining: 3m 45s\n",
      "654:\tlearn: 0.2759416\ttotal: 7m 6s\tremaining: 3m 44s\n",
      "655:\tlearn: 0.2758244\ttotal: 7m 7s\tremaining: 3m 44s\n",
      "656:\tlearn: 0.2757025\ttotal: 7m 8s\tremaining: 3m 43s\n",
      "657:\tlearn: 0.2755955\ttotal: 7m 8s\tremaining: 3m 42s\n",
      "658:\tlearn: 0.2754793\ttotal: 7m 9s\tremaining: 3m 42s\n",
      "659:\tlearn: 0.2752637\ttotal: 7m 10s\tremaining: 3m 41s\n",
      "660:\tlearn: 0.2752018\ttotal: 7m 10s\tremaining: 3m 40s\n",
      "661:\tlearn: 0.2750862\ttotal: 7m 11s\tremaining: 3m 40s\n",
      "662:\tlearn: 0.2749403\ttotal: 7m 12s\tremaining: 3m 39s\n",
      "663:\tlearn: 0.2748583\ttotal: 7m 12s\tremaining: 3m 38s\n",
      "664:\tlearn: 0.2746768\ttotal: 7m 13s\tremaining: 3m 38s\n",
      "665:\tlearn: 0.2745824\ttotal: 7m 13s\tremaining: 3m 37s\n",
      "666:\tlearn: 0.2743897\ttotal: 7m 14s\tremaining: 3m 36s\n",
      "667:\tlearn: 0.2742624\ttotal: 7m 15s\tremaining: 3m 36s\n",
      "668:\tlearn: 0.2741290\ttotal: 7m 15s\tremaining: 3m 35s\n",
      "669:\tlearn: 0.2740080\ttotal: 7m 16s\tremaining: 3m 34s\n",
      "670:\tlearn: 0.2739105\ttotal: 7m 17s\tremaining: 3m 34s\n",
      "671:\tlearn: 0.2737979\ttotal: 7m 17s\tremaining: 3m 33s\n",
      "672:\tlearn: 0.2737010\ttotal: 7m 18s\tremaining: 3m 32s\n",
      "673:\tlearn: 0.2735746\ttotal: 7m 18s\tremaining: 3m 32s\n",
      "674:\tlearn: 0.2734298\ttotal: 7m 19s\tremaining: 3m 31s\n",
      "675:\tlearn: 0.2733154\ttotal: 7m 20s\tremaining: 3m 30s\n",
      "676:\tlearn: 0.2732173\ttotal: 7m 20s\tremaining: 3m 30s\n",
      "677:\tlearn: 0.2731354\ttotal: 7m 21s\tremaining: 3m 29s\n",
      "678:\tlearn: 0.2727775\ttotal: 7m 22s\tremaining: 3m 28s\n",
      "679:\tlearn: 0.2726901\ttotal: 7m 22s\tremaining: 3m 28s\n",
      "680:\tlearn: 0.2725648\ttotal: 7m 23s\tremaining: 3m 27s\n",
      "681:\tlearn: 0.2723525\ttotal: 7m 23s\tremaining: 3m 26s\n",
      "682:\tlearn: 0.2722272\ttotal: 7m 24s\tremaining: 3m 26s\n",
      "683:\tlearn: 0.2721207\ttotal: 7m 25s\tremaining: 3m 25s\n",
      "684:\tlearn: 0.2720151\ttotal: 7m 25s\tremaining: 3m 25s\n",
      "685:\tlearn: 0.2719598\ttotal: 7m 26s\tremaining: 3m 24s\n",
      "686:\tlearn: 0.2718949\ttotal: 7m 27s\tremaining: 3m 23s\n",
      "687:\tlearn: 0.2717715\ttotal: 7m 27s\tremaining: 3m 23s\n",
      "688:\tlearn: 0.2716867\ttotal: 7m 28s\tremaining: 3m 22s\n",
      "689:\tlearn: 0.2715445\ttotal: 7m 29s\tremaining: 3m 21s\n",
      "690:\tlearn: 0.2714133\ttotal: 7m 29s\tremaining: 3m 21s\n",
      "691:\tlearn: 0.2712439\ttotal: 7m 30s\tremaining: 3m 20s\n",
      "692:\tlearn: 0.2711034\ttotal: 7m 30s\tremaining: 3m 19s\n",
      "693:\tlearn: 0.2710455\ttotal: 7m 31s\tremaining: 3m 19s\n",
      "694:\tlearn: 0.2709450\ttotal: 7m 32s\tremaining: 3m 18s\n",
      "695:\tlearn: 0.2708099\ttotal: 7m 32s\tremaining: 3m 17s\n",
      "696:\tlearn: 0.2707078\ttotal: 7m 33s\tremaining: 3m 17s\n",
      "697:\tlearn: 0.2705828\ttotal: 7m 34s\tremaining: 3m 16s\n",
      "698:\tlearn: 0.2704804\ttotal: 7m 34s\tremaining: 3m 15s\n",
      "699:\tlearn: 0.2703434\ttotal: 7m 35s\tremaining: 3m 15s\n",
      "700:\tlearn: 0.2702223\ttotal: 7m 35s\tremaining: 3m 14s\n",
      "701:\tlearn: 0.2700948\ttotal: 7m 36s\tremaining: 3m 13s\n",
      "702:\tlearn: 0.2699762\ttotal: 7m 37s\tremaining: 3m 13s\n",
      "703:\tlearn: 0.2699029\ttotal: 7m 37s\tremaining: 3m 12s\n",
      "704:\tlearn: 0.2697934\ttotal: 7m 38s\tremaining: 3m 11s\n",
      "705:\tlearn: 0.2696613\ttotal: 7m 39s\tremaining: 3m 11s\n",
      "706:\tlearn: 0.2695288\ttotal: 7m 39s\tremaining: 3m 10s\n",
      "707:\tlearn: 0.2694346\ttotal: 7m 40s\tremaining: 3m 9s\n",
      "708:\tlearn: 0.2691914\ttotal: 7m 41s\tremaining: 3m 9s\n",
      "709:\tlearn: 0.2691007\ttotal: 7m 42s\tremaining: 3m 8s\n",
      "710:\tlearn: 0.2690294\ttotal: 7m 43s\tremaining: 3m 8s\n",
      "711:\tlearn: 0.2689305\ttotal: 7m 43s\tremaining: 3m 7s\n",
      "712:\tlearn: 0.2687542\ttotal: 7m 44s\tremaining: 3m 6s\n",
      "713:\tlearn: 0.2686912\ttotal: 7m 45s\tremaining: 3m 6s\n",
      "714:\tlearn: 0.2686102\ttotal: 7m 45s\tremaining: 3m 5s\n",
      "715:\tlearn: 0.2685142\ttotal: 7m 46s\tremaining: 3m 5s\n",
      "716:\tlearn: 0.2683906\ttotal: 7m 47s\tremaining: 3m 4s\n",
      "717:\tlearn: 0.2682322\ttotal: 7m 47s\tremaining: 3m 3s\n",
      "718:\tlearn: 0.2681165\ttotal: 7m 48s\tremaining: 3m 3s\n",
      "719:\tlearn: 0.2680416\ttotal: 7m 49s\tremaining: 3m 2s\n",
      "720:\tlearn: 0.2679329\ttotal: 7m 49s\tremaining: 3m 1s\n",
      "721:\tlearn: 0.2678214\ttotal: 7m 50s\tremaining: 3m 1s\n",
      "722:\tlearn: 0.2677007\ttotal: 7m 51s\tremaining: 3m\n",
      "723:\tlearn: 0.2676113\ttotal: 7m 52s\tremaining: 2m 59s\n",
      "724:\tlearn: 0.2675078\ttotal: 7m 52s\tremaining: 2m 59s\n",
      "725:\tlearn: 0.2673607\ttotal: 7m 53s\tremaining: 2m 58s\n",
      "726:\tlearn: 0.2673025\ttotal: 7m 53s\tremaining: 2m 57s\n",
      "727:\tlearn: 0.2671463\ttotal: 7m 54s\tremaining: 2m 57s\n",
      "728:\tlearn: 0.2670515\ttotal: 7m 55s\tremaining: 2m 56s\n",
      "729:\tlearn: 0.2669391\ttotal: 7m 55s\tremaining: 2m 55s\n",
      "730:\tlearn: 0.2665817\ttotal: 7m 56s\tremaining: 2m 55s\n",
      "731:\tlearn: 0.2664910\ttotal: 7m 57s\tremaining: 2m 54s\n",
      "732:\tlearn: 0.2663768\ttotal: 7m 57s\tremaining: 2m 54s\n",
      "733:\tlearn: 0.2662611\ttotal: 7m 58s\tremaining: 2m 53s\n",
      "734:\tlearn: 0.2661911\ttotal: 7m 59s\tremaining: 2m 52s\n",
      "735:\tlearn: 0.2660576\ttotal: 7m 59s\tremaining: 2m 52s\n",
      "736:\tlearn: 0.2659255\ttotal: 8m\tremaining: 2m 51s\n",
      "737:\tlearn: 0.2658774\ttotal: 8m 1s\tremaining: 2m 50s\n",
      "738:\tlearn: 0.2657638\ttotal: 8m 1s\tremaining: 2m 50s\n",
      "739:\tlearn: 0.2656071\ttotal: 8m 2s\tremaining: 2m 49s\n",
      "740:\tlearn: 0.2655092\ttotal: 8m 2s\tremaining: 2m 48s\n",
      "741:\tlearn: 0.2653878\ttotal: 8m 3s\tremaining: 2m 48s\n",
      "742:\tlearn: 0.2653273\ttotal: 8m 4s\tremaining: 2m 47s\n",
      "743:\tlearn: 0.2652726\ttotal: 8m 4s\tremaining: 2m 46s\n",
      "744:\tlearn: 0.2652002\ttotal: 8m 5s\tremaining: 2m 46s\n",
      "745:\tlearn: 0.2650798\ttotal: 8m 6s\tremaining: 2m 45s\n",
      "746:\tlearn: 0.2649716\ttotal: 8m 6s\tremaining: 2m 44s\n",
      "747:\tlearn: 0.2648801\ttotal: 8m 7s\tremaining: 2m 44s\n",
      "748:\tlearn: 0.2647758\ttotal: 8m 8s\tremaining: 2m 43s\n",
      "749:\tlearn: 0.2646623\ttotal: 8m 8s\tremaining: 2m 42s\n",
      "750:\tlearn: 0.2645724\ttotal: 8m 9s\tremaining: 2m 42s\n",
      "751:\tlearn: 0.2644841\ttotal: 8m 10s\tremaining: 2m 41s\n",
      "752:\tlearn: 0.2643538\ttotal: 8m 10s\tremaining: 2m 40s\n",
      "753:\tlearn: 0.2643032\ttotal: 8m 11s\tremaining: 2m 40s\n",
      "754:\tlearn: 0.2642110\ttotal: 8m 12s\tremaining: 2m 39s\n",
      "755:\tlearn: 0.2641036\ttotal: 8m 12s\tremaining: 2m 39s\n",
      "756:\tlearn: 0.2640097\ttotal: 8m 13s\tremaining: 2m 38s\n",
      "757:\tlearn: 0.2638567\ttotal: 8m 14s\tremaining: 2m 37s\n",
      "758:\tlearn: 0.2637361\ttotal: 8m 14s\tremaining: 2m 37s\n",
      "759:\tlearn: 0.2636001\ttotal: 8m 15s\tremaining: 2m 36s\n",
      "760:\tlearn: 0.2634789\ttotal: 8m 16s\tremaining: 2m 35s\n",
      "761:\tlearn: 0.2633791\ttotal: 8m 16s\tremaining: 2m 35s\n",
      "762:\tlearn: 0.2632179\ttotal: 8m 17s\tremaining: 2m 34s\n",
      "763:\tlearn: 0.2630948\ttotal: 8m 17s\tremaining: 2m 33s\n",
      "764:\tlearn: 0.2629227\ttotal: 8m 18s\tremaining: 2m 33s\n",
      "765:\tlearn: 0.2628329\ttotal: 8m 19s\tremaining: 2m 32s\n",
      "766:\tlearn: 0.2627295\ttotal: 8m 19s\tremaining: 2m 31s\n",
      "767:\tlearn: 0.2626122\ttotal: 8m 20s\tremaining: 2m 31s\n",
      "768:\tlearn: 0.2625183\ttotal: 8m 21s\tremaining: 2m 30s\n"
     ]
    },
    {
     "name": "stdout",
     "output_type": "stream",
     "text": [
      "769:\tlearn: 0.2622619\ttotal: 8m 21s\tremaining: 2m 29s\n",
      "770:\tlearn: 0.2621959\ttotal: 8m 22s\tremaining: 2m 29s\n",
      "771:\tlearn: 0.2620705\ttotal: 8m 22s\tremaining: 2m 28s\n",
      "772:\tlearn: 0.2618982\ttotal: 8m 23s\tremaining: 2m 27s\n",
      "773:\tlearn: 0.2617854\ttotal: 8m 24s\tremaining: 2m 27s\n",
      "774:\tlearn: 0.2617353\ttotal: 8m 24s\tremaining: 2m 26s\n",
      "775:\tlearn: 0.2616880\ttotal: 8m 25s\tremaining: 2m 25s\n",
      "776:\tlearn: 0.2615726\ttotal: 8m 26s\tremaining: 2m 25s\n",
      "777:\tlearn: 0.2614271\ttotal: 8m 26s\tremaining: 2m 24s\n",
      "778:\tlearn: 0.2613421\ttotal: 8m 27s\tremaining: 2m 23s\n",
      "779:\tlearn: 0.2613006\ttotal: 8m 27s\tremaining: 2m 23s\n",
      "780:\tlearn: 0.2611993\ttotal: 8m 28s\tremaining: 2m 22s\n",
      "781:\tlearn: 0.2610834\ttotal: 8m 29s\tremaining: 2m 21s\n",
      "782:\tlearn: 0.2610206\ttotal: 8m 29s\tremaining: 2m 21s\n",
      "783:\tlearn: 0.2609080\ttotal: 8m 30s\tremaining: 2m 20s\n",
      "784:\tlearn: 0.2608140\ttotal: 8m 31s\tremaining: 2m 20s\n",
      "785:\tlearn: 0.2606806\ttotal: 8m 31s\tremaining: 2m 19s\n",
      "786:\tlearn: 0.2606078\ttotal: 8m 32s\tremaining: 2m 18s\n",
      "787:\tlearn: 0.2605059\ttotal: 8m 33s\tremaining: 2m 18s\n",
      "788:\tlearn: 0.2604031\ttotal: 8m 33s\tremaining: 2m 17s\n",
      "789:\tlearn: 0.2602424\ttotal: 8m 34s\tremaining: 2m 16s\n",
      "790:\tlearn: 0.2601412\ttotal: 8m 34s\tremaining: 2m 16s\n",
      "791:\tlearn: 0.2600301\ttotal: 8m 35s\tremaining: 2m 15s\n",
      "792:\tlearn: 0.2599113\ttotal: 8m 36s\tremaining: 2m 14s\n",
      "793:\tlearn: 0.2597889\ttotal: 8m 36s\tremaining: 2m 14s\n",
      "794:\tlearn: 0.2597007\ttotal: 8m 37s\tremaining: 2m 13s\n",
      "795:\tlearn: 0.2596287\ttotal: 8m 38s\tremaining: 2m 12s\n",
      "796:\tlearn: 0.2595658\ttotal: 8m 38s\tremaining: 2m 12s\n",
      "797:\tlearn: 0.2594990\ttotal: 8m 39s\tremaining: 2m 11s\n",
      "798:\tlearn: 0.2594187\ttotal: 8m 39s\tremaining: 2m 10s\n",
      "799:\tlearn: 0.2593229\ttotal: 8m 40s\tremaining: 2m 10s\n",
      "800:\tlearn: 0.2592081\ttotal: 8m 41s\tremaining: 2m 9s\n",
      "801:\tlearn: 0.2591417\ttotal: 8m 41s\tremaining: 2m 8s\n",
      "802:\tlearn: 0.2590396\ttotal: 8m 42s\tremaining: 2m 8s\n",
      "803:\tlearn: 0.2587196\ttotal: 8m 43s\tremaining: 2m 7s\n",
      "804:\tlearn: 0.2586469\ttotal: 8m 43s\tremaining: 2m 6s\n",
      "805:\tlearn: 0.2585824\ttotal: 8m 44s\tremaining: 2m 6s\n",
      "806:\tlearn: 0.2584964\ttotal: 8m 44s\tremaining: 2m 5s\n",
      "807:\tlearn: 0.2583100\ttotal: 8m 45s\tremaining: 2m 4s\n",
      "808:\tlearn: 0.2582069\ttotal: 8m 46s\tremaining: 2m 4s\n",
      "809:\tlearn: 0.2581581\ttotal: 8m 46s\tremaining: 2m 3s\n",
      "810:\tlearn: 0.2581090\ttotal: 8m 47s\tremaining: 2m 2s\n",
      "811:\tlearn: 0.2580008\ttotal: 8m 48s\tremaining: 2m 2s\n",
      "812:\tlearn: 0.2579404\ttotal: 8m 48s\tremaining: 2m 1s\n",
      "813:\tlearn: 0.2578346\ttotal: 8m 49s\tremaining: 2m\n",
      "814:\tlearn: 0.2577292\ttotal: 8m 50s\tremaining: 2m\n",
      "815:\tlearn: 0.2576273\ttotal: 8m 50s\tremaining: 1m 59s\n",
      "816:\tlearn: 0.2575184\ttotal: 8m 51s\tremaining: 1m 59s\n",
      "817:\tlearn: 0.2574133\ttotal: 8m 51s\tremaining: 1m 58s\n",
      "818:\tlearn: 0.2572859\ttotal: 8m 52s\tremaining: 1m 57s\n",
      "819:\tlearn: 0.2571933\ttotal: 8m 53s\tremaining: 1m 57s\n",
      "820:\tlearn: 0.2571088\ttotal: 8m 53s\tremaining: 1m 56s\n",
      "821:\tlearn: 0.2569753\ttotal: 8m 54s\tremaining: 1m 55s\n",
      "822:\tlearn: 0.2568722\ttotal: 8m 55s\tremaining: 1m 55s\n",
      "823:\tlearn: 0.2567474\ttotal: 8m 55s\tremaining: 1m 54s\n",
      "824:\tlearn: 0.2567112\ttotal: 8m 56s\tremaining: 1m 53s\n",
      "825:\tlearn: 0.2566213\ttotal: 8m 56s\tremaining: 1m 53s\n",
      "826:\tlearn: 0.2565137\ttotal: 8m 57s\tremaining: 1m 52s\n",
      "827:\tlearn: 0.2564407\ttotal: 8m 58s\tremaining: 1m 51s\n",
      "828:\tlearn: 0.2563686\ttotal: 8m 58s\tremaining: 1m 51s\n",
      "829:\tlearn: 0.2562671\ttotal: 8m 59s\tremaining: 1m 50s\n",
      "830:\tlearn: 0.2561973\ttotal: 8m 59s\tremaining: 1m 49s\n",
      "831:\tlearn: 0.2560689\ttotal: 9m\tremaining: 1m 49s\n",
      "832:\tlearn: 0.2560120\ttotal: 9m 1s\tremaining: 1m 48s\n",
      "833:\tlearn: 0.2558874\ttotal: 9m 1s\tremaining: 1m 47s\n",
      "834:\tlearn: 0.2557892\ttotal: 9m 2s\tremaining: 1m 47s\n",
      "835:\tlearn: 0.2556181\ttotal: 9m 3s\tremaining: 1m 46s\n",
      "836:\tlearn: 0.2554942\ttotal: 9m 3s\tremaining: 1m 45s\n",
      "837:\tlearn: 0.2553866\ttotal: 9m 4s\tremaining: 1m 45s\n",
      "838:\tlearn: 0.2552522\ttotal: 9m 5s\tremaining: 1m 44s\n",
      "839:\tlearn: 0.2551568\ttotal: 9m 5s\tremaining: 1m 43s\n",
      "840:\tlearn: 0.2550547\ttotal: 9m 6s\tremaining: 1m 43s\n",
      "841:\tlearn: 0.2549600\ttotal: 9m 7s\tremaining: 1m 42s\n",
      "842:\tlearn: 0.2548564\ttotal: 9m 7s\tremaining: 1m 41s\n",
      "843:\tlearn: 0.2547816\ttotal: 9m 8s\tremaining: 1m 41s\n",
      "844:\tlearn: 0.2546735\ttotal: 9m 8s\tremaining: 1m 40s\n",
      "845:\tlearn: 0.2544260\ttotal: 9m 9s\tremaining: 1m 40s\n",
      "846:\tlearn: 0.2543413\ttotal: 9m 10s\tremaining: 1m 39s\n",
      "847:\tlearn: 0.2542725\ttotal: 9m 10s\tremaining: 1m 38s\n",
      "848:\tlearn: 0.2541672\ttotal: 9m 11s\tremaining: 1m 38s\n",
      "849:\tlearn: 0.2541022\ttotal: 9m 12s\tremaining: 1m 37s\n",
      "850:\tlearn: 0.2539503\ttotal: 9m 12s\tremaining: 1m 36s\n",
      "851:\tlearn: 0.2538592\ttotal: 9m 13s\tremaining: 1m 36s\n",
      "852:\tlearn: 0.2537251\ttotal: 9m 14s\tremaining: 1m 35s\n",
      "853:\tlearn: 0.2536339\ttotal: 9m 14s\tremaining: 1m 34s\n",
      "854:\tlearn: 0.2535538\ttotal: 9m 15s\tremaining: 1m 34s\n",
      "855:\tlearn: 0.2534425\ttotal: 9m 16s\tremaining: 1m 33s\n",
      "856:\tlearn: 0.2533497\ttotal: 9m 16s\tremaining: 1m 32s\n",
      "857:\tlearn: 0.2533004\ttotal: 9m 17s\tremaining: 1m 32s\n",
      "858:\tlearn: 0.2531896\ttotal: 9m 18s\tremaining: 1m 31s\n",
      "859:\tlearn: 0.2531440\ttotal: 9m 18s\tremaining: 1m 30s\n",
      "860:\tlearn: 0.2530400\ttotal: 9m 19s\tremaining: 1m 30s\n",
      "861:\tlearn: 0.2529964\ttotal: 9m 19s\tremaining: 1m 29s\n",
      "862:\tlearn: 0.2528542\ttotal: 9m 20s\tremaining: 1m 28s\n",
      "863:\tlearn: 0.2527617\ttotal: 9m 21s\tremaining: 1m 28s\n",
      "864:\tlearn: 0.2527127\ttotal: 9m 21s\tremaining: 1m 27s\n",
      "865:\tlearn: 0.2526777\ttotal: 9m 22s\tremaining: 1m 27s\n",
      "866:\tlearn: 0.2525809\ttotal: 9m 23s\tremaining: 1m 26s\n",
      "867:\tlearn: 0.2524884\ttotal: 9m 23s\tremaining: 1m 25s\n",
      "868:\tlearn: 0.2523821\ttotal: 9m 24s\tremaining: 1m 25s\n",
      "869:\tlearn: 0.2522938\ttotal: 9m 24s\tremaining: 1m 24s\n",
      "870:\tlearn: 0.2521963\ttotal: 9m 25s\tremaining: 1m 23s\n",
      "871:\tlearn: 0.2521562\ttotal: 9m 26s\tremaining: 1m 23s\n",
      "872:\tlearn: 0.2520588\ttotal: 9m 26s\tremaining: 1m 22s\n",
      "873:\tlearn: 0.2519448\ttotal: 9m 27s\tremaining: 1m 21s\n",
      "874:\tlearn: 0.2518889\ttotal: 9m 28s\tremaining: 1m 21s\n",
      "875:\tlearn: 0.2517770\ttotal: 9m 28s\tremaining: 1m 20s\n",
      "876:\tlearn: 0.2516989\ttotal: 9m 29s\tremaining: 1m 19s\n",
      "877:\tlearn: 0.2515605\ttotal: 9m 29s\tremaining: 1m 19s\n",
      "878:\tlearn: 0.2514328\ttotal: 9m 30s\tremaining: 1m 18s\n",
      "879:\tlearn: 0.2513718\ttotal: 9m 31s\tremaining: 1m 17s\n",
      "880:\tlearn: 0.2512758\ttotal: 9m 31s\tremaining: 1m 17s\n",
      "881:\tlearn: 0.2511033\ttotal: 9m 32s\tremaining: 1m 16s\n",
      "882:\tlearn: 0.2510719\ttotal: 9m 33s\tremaining: 1m 15s\n",
      "883:\tlearn: 0.2510033\ttotal: 9m 33s\tremaining: 1m 15s\n",
      "884:\tlearn: 0.2509555\ttotal: 9m 34s\tremaining: 1m 14s\n",
      "885:\tlearn: 0.2508963\ttotal: 9m 35s\tremaining: 1m 14s\n",
      "886:\tlearn: 0.2507878\ttotal: 9m 35s\tremaining: 1m 13s\n",
      "887:\tlearn: 0.2506824\ttotal: 9m 36s\tremaining: 1m 12s\n",
      "888:\tlearn: 0.2506071\ttotal: 9m 37s\tremaining: 1m 12s\n",
      "889:\tlearn: 0.2505096\ttotal: 9m 37s\tremaining: 1m 11s\n",
      "890:\tlearn: 0.2504501\ttotal: 9m 38s\tremaining: 1m 10s\n",
      "891:\tlearn: 0.2503441\ttotal: 9m 38s\tremaining: 1m 10s\n",
      "892:\tlearn: 0.2502969\ttotal: 9m 39s\tremaining: 1m 9s\n",
      "893:\tlearn: 0.2502026\ttotal: 9m 40s\tremaining: 1m 8s\n",
      "894:\tlearn: 0.2500875\ttotal: 9m 40s\tremaining: 1m 8s\n",
      "895:\tlearn: 0.2500065\ttotal: 9m 41s\tremaining: 1m 7s\n",
      "896:\tlearn: 0.2499225\ttotal: 9m 41s\tremaining: 1m 6s\n",
      "897:\tlearn: 0.2498048\ttotal: 9m 42s\tremaining: 1m 6s\n",
      "898:\tlearn: 0.2497548\ttotal: 9m 43s\tremaining: 1m 5s\n",
      "899:\tlearn: 0.2496693\ttotal: 9m 43s\tremaining: 1m 4s\n",
      "900:\tlearn: 0.2495576\ttotal: 9m 44s\tremaining: 1m 4s\n",
      "901:\tlearn: 0.2494716\ttotal: 9m 45s\tremaining: 1m 3s\n",
      "902:\tlearn: 0.2493741\ttotal: 9m 45s\tremaining: 1m 2s\n",
      "903:\tlearn: 0.2493366\ttotal: 9m 46s\tremaining: 1m 2s\n",
      "904:\tlearn: 0.2492590\ttotal: 9m 46s\tremaining: 1m 1s\n",
      "905:\tlearn: 0.2491163\ttotal: 9m 47s\tremaining: 1m\n",
      "906:\tlearn: 0.2490542\ttotal: 9m 48s\tremaining: 1m\n",
      "907:\tlearn: 0.2489783\ttotal: 9m 48s\tremaining: 59.7s\n",
      "908:\tlearn: 0.2488797\ttotal: 9m 49s\tremaining: 59s\n",
      "909:\tlearn: 0.2487367\ttotal: 9m 50s\tremaining: 58.4s\n",
      "910:\tlearn: 0.2486565\ttotal: 9m 50s\tremaining: 57.7s\n",
      "911:\tlearn: 0.2485741\ttotal: 9m 51s\tremaining: 57.1s\n",
      "912:\tlearn: 0.2484776\ttotal: 9m 52s\tremaining: 56.4s\n",
      "913:\tlearn: 0.2483714\ttotal: 9m 52s\tremaining: 55.8s\n",
      "914:\tlearn: 0.2483391\ttotal: 9m 53s\tremaining: 55.1s\n",
      "915:\tlearn: 0.2482388\ttotal: 9m 54s\tremaining: 54.5s\n",
      "916:\tlearn: 0.2481634\ttotal: 9m 54s\tremaining: 53.8s\n",
      "917:\tlearn: 0.2480654\ttotal: 9m 55s\tremaining: 53.2s\n",
      "918:\tlearn: 0.2478710\ttotal: 9m 55s\tremaining: 52.5s\n",
      "919:\tlearn: 0.2477834\ttotal: 9m 56s\tremaining: 51.9s\n",
      "920:\tlearn: 0.2477371\ttotal: 9m 57s\tremaining: 51.2s\n",
      "921:\tlearn: 0.2476455\ttotal: 9m 57s\tremaining: 50.6s\n",
      "922:\tlearn: 0.2475334\ttotal: 9m 58s\tremaining: 49.9s\n"
     ]
    },
    {
     "name": "stdout",
     "output_type": "stream",
     "text": [
      "923:\tlearn: 0.2474421\ttotal: 9m 59s\tremaining: 49.3s\n",
      "924:\tlearn: 0.2473255\ttotal: 9m 59s\tremaining: 48.6s\n",
      "925:\tlearn: 0.2472600\ttotal: 10m\tremaining: 48s\n",
      "926:\tlearn: 0.2471804\ttotal: 10m\tremaining: 47.3s\n",
      "927:\tlearn: 0.2470799\ttotal: 10m 1s\tremaining: 46.7s\n",
      "928:\tlearn: 0.2470139\ttotal: 10m 2s\tremaining: 46s\n",
      "929:\tlearn: 0.2468867\ttotal: 10m 2s\tremaining: 45.4s\n",
      "930:\tlearn: 0.2468442\ttotal: 10m 3s\tremaining: 44.7s\n",
      "931:\tlearn: 0.2467483\ttotal: 10m 4s\tremaining: 44.1s\n",
      "932:\tlearn: 0.2466552\ttotal: 10m 4s\tremaining: 43.4s\n",
      "933:\tlearn: 0.2466104\ttotal: 10m 5s\tremaining: 42.8s\n",
      "934:\tlearn: 0.2465657\ttotal: 10m 6s\tremaining: 42.1s\n",
      "935:\tlearn: 0.2464408\ttotal: 10m 6s\tremaining: 41.5s\n",
      "936:\tlearn: 0.2463373\ttotal: 10m 7s\tremaining: 40.9s\n",
      "937:\tlearn: 0.2462212\ttotal: 10m 8s\tremaining: 40.2s\n",
      "938:\tlearn: 0.2461151\ttotal: 10m 8s\tremaining: 39.6s\n",
      "939:\tlearn: 0.2460453\ttotal: 10m 9s\tremaining: 38.9s\n",
      "940:\tlearn: 0.2459602\ttotal: 10m 10s\tremaining: 38.3s\n",
      "941:\tlearn: 0.2458570\ttotal: 10m 10s\tremaining: 37.6s\n",
      "942:\tlearn: 0.2457544\ttotal: 10m 11s\tremaining: 37s\n",
      "943:\tlearn: 0.2456674\ttotal: 10m 11s\tremaining: 36.3s\n",
      "944:\tlearn: 0.2456283\ttotal: 10m 12s\tremaining: 35.7s\n",
      "945:\tlearn: 0.2455534\ttotal: 10m 13s\tremaining: 35s\n",
      "946:\tlearn: 0.2454802\ttotal: 10m 13s\tremaining: 34.4s\n",
      "947:\tlearn: 0.2453369\ttotal: 10m 14s\tremaining: 33.7s\n",
      "948:\tlearn: 0.2453046\ttotal: 10m 15s\tremaining: 33.1s\n",
      "949:\tlearn: 0.2451986\ttotal: 10m 15s\tremaining: 32.4s\n",
      "950:\tlearn: 0.2451148\ttotal: 10m 16s\tremaining: 31.8s\n",
      "951:\tlearn: 0.2449958\ttotal: 10m 16s\tremaining: 31.1s\n",
      "952:\tlearn: 0.2448864\ttotal: 10m 17s\tremaining: 30.5s\n",
      "953:\tlearn: 0.2448246\ttotal: 10m 18s\tremaining: 29.8s\n",
      "954:\tlearn: 0.2447688\ttotal: 10m 18s\tremaining: 29.2s\n",
      "955:\tlearn: 0.2446822\ttotal: 10m 19s\tremaining: 28.5s\n",
      "956:\tlearn: 0.2445898\ttotal: 10m 20s\tremaining: 27.9s\n",
      "957:\tlearn: 0.2444507\ttotal: 10m 20s\tremaining: 27.2s\n",
      "958:\tlearn: 0.2443547\ttotal: 10m 21s\tremaining: 26.6s\n",
      "959:\tlearn: 0.2442690\ttotal: 10m 22s\tremaining: 25.9s\n",
      "960:\tlearn: 0.2441829\ttotal: 10m 22s\tremaining: 25.3s\n",
      "961:\tlearn: 0.2440994\ttotal: 10m 23s\tremaining: 24.6s\n",
      "962:\tlearn: 0.2440590\ttotal: 10m 23s\tremaining: 24s\n",
      "963:\tlearn: 0.2440276\ttotal: 10m 24s\tremaining: 23.3s\n",
      "964:\tlearn: 0.2438798\ttotal: 10m 25s\tremaining: 22.7s\n",
      "965:\tlearn: 0.2435292\ttotal: 10m 25s\tremaining: 22s\n",
      "966:\tlearn: 0.2434812\ttotal: 10m 26s\tremaining: 21.4s\n",
      "967:\tlearn: 0.2434206\ttotal: 10m 27s\tremaining: 20.7s\n",
      "968:\tlearn: 0.2433636\ttotal: 10m 27s\tremaining: 20.1s\n",
      "969:\tlearn: 0.2432706\ttotal: 10m 28s\tremaining: 19.4s\n",
      "970:\tlearn: 0.2431570\ttotal: 10m 28s\tremaining: 18.8s\n",
      "971:\tlearn: 0.2430803\ttotal: 10m 29s\tremaining: 18.1s\n",
      "972:\tlearn: 0.2430357\ttotal: 10m 30s\tremaining: 17.5s\n",
      "973:\tlearn: 0.2429289\ttotal: 10m 30s\tremaining: 16.8s\n",
      "974:\tlearn: 0.2428516\ttotal: 10m 31s\tremaining: 16.2s\n",
      "975:\tlearn: 0.2427750\ttotal: 10m 32s\tremaining: 15.5s\n",
      "976:\tlearn: 0.2427196\ttotal: 10m 32s\tremaining: 14.9s\n",
      "977:\tlearn: 0.2426429\ttotal: 10m 33s\tremaining: 14.2s\n",
      "978:\tlearn: 0.2425695\ttotal: 10m 33s\tremaining: 13.6s\n",
      "979:\tlearn: 0.2424777\ttotal: 10m 34s\tremaining: 12.9s\n",
      "980:\tlearn: 0.2424259\ttotal: 10m 35s\tremaining: 12.3s\n",
      "981:\tlearn: 0.2423288\ttotal: 10m 35s\tremaining: 11.7s\n",
      "982:\tlearn: 0.2422085\ttotal: 10m 36s\tremaining: 11s\n",
      "983:\tlearn: 0.2421619\ttotal: 10m 37s\tremaining: 10.4s\n",
      "984:\tlearn: 0.2420750\ttotal: 10m 37s\tremaining: 9.71s\n",
      "985:\tlearn: 0.2420012\ttotal: 10m 38s\tremaining: 9.06s\n",
      "986:\tlearn: 0.2419704\ttotal: 10m 39s\tremaining: 8.42s\n",
      "987:\tlearn: 0.2418909\ttotal: 10m 39s\tremaining: 7.77s\n",
      "988:\tlearn: 0.2417648\ttotal: 10m 40s\tremaining: 7.12s\n",
      "989:\tlearn: 0.2417235\ttotal: 10m 40s\tremaining: 6.47s\n",
      "990:\tlearn: 0.2416451\ttotal: 10m 41s\tremaining: 5.83s\n",
      "991:\tlearn: 0.2415650\ttotal: 10m 42s\tremaining: 5.18s\n",
      "992:\tlearn: 0.2414803\ttotal: 10m 42s\tremaining: 4.53s\n",
      "993:\tlearn: 0.2413992\ttotal: 10m 43s\tremaining: 3.88s\n",
      "994:\tlearn: 0.2413562\ttotal: 10m 44s\tremaining: 3.24s\n",
      "995:\tlearn: 0.2412556\ttotal: 10m 44s\tremaining: 2.59s\n",
      "996:\tlearn: 0.2411657\ttotal: 10m 45s\tremaining: 1.94s\n",
      "997:\tlearn: 0.2410581\ttotal: 10m 45s\tremaining: 1.29s\n",
      "998:\tlearn: 0.2410055\ttotal: 10m 46s\tremaining: 647ms\n",
      "999:\tlearn: 0.2408941\ttotal: 10m 47s\tremaining: 0us\n"
     ]
    },
    {
     "data": {
      "text/plain": [
       "<catboost.core.CatBoostClassifier at 0x2bd9f549e20>"
      ]
     },
     "execution_count": 27,
     "metadata": {},
     "output_type": "execute_result"
    }
   ],
   "source": [
    "model.fit(x_train_sampled, y_train_sampled)"
   ]
  },
  {
   "cell_type": "code",
   "execution_count": 28,
   "metadata": {},
   "outputs": [
    {
     "name": "stdout",
     "output_type": "stream",
     "text": [
      "0.6886817576564581\n"
     ]
    }
   ],
   "source": [
    "model.predict(x_test_sampled)\n",
    "print(f1_score(y_test, predictions))"
   ]
  },
  {
   "cell_type": "markdown",
   "metadata": {},
   "source": [
    "# 3. BERT"
   ]
  },
  {
   "cell_type": "markdown",
   "metadata": {},
   "source": [
    "Воспользуемся предобученной моделью BERT для создания эмбеддингов, на которых обучим новую линейную регрессию. Поскольку вычисления будут выполняться на локальном компьютере, техническая мощность которого не позволяет обрабатывать большие объемы данных, мы возьмем всего 500 предложений из всего корпуса текста. "
   ]
  },
  {
   "cell_type": "markdown",
   "metadata": {},
   "source": [
    "**Загрузка предобученной модели и токенизатора.**"
   ]
  },
  {
   "cell_type": "code",
   "execution_count": 29,
   "metadata": {},
   "outputs": [],
   "source": [
    "model_class, tokenizer_class, pretrained_weights = (transformers.DistilBertModel, \n",
    "                                                    transformers.DistilBertTokenizer,\n",
    "                                                    'distilbert-base-uncased')\n",
    "\n",
    "# Загрузка предобученной модели/токенизатора \n",
    "tokenizer = tokenizer_class.from_pretrained(pretrained_weights)\n",
    "model = model_class.from_pretrained(pretrained_weights)"
   ]
  },
  {
   "cell_type": "markdown",
   "metadata": {},
   "source": [
    "**Создание токенов и маски внимания.**"
   ]
  },
  {
   "cell_type": "markdown",
   "metadata": {},
   "source": [
    "Также отсечем части предложения, которые превышают длину в 100 слов. "
   ]
  },
  {
   "cell_type": "code",
   "execution_count": 30,
   "metadata": {},
   "outputs": [],
   "source": [
    "tokenized = df_bert['text'].apply(lambda x: tokenizer.encode(x, truncation=True, max_length=100, add_special_tokens=True))\n",
    "\n",
    "max_len = 0\n",
    "for i in tokenized.values:\n",
    "    if len(i) > max_len:\n",
    "        max_len = len(i)\n",
    "\n",
    "padded = np.array([i + [0]*(max_len - len(i)) for i in tokenized.values])\n",
    "\n",
    "attention_mask = np.where(padded != 0, 1, 0)"
   ]
  },
  {
   "cell_type": "code",
   "execution_count": 31,
   "metadata": {},
   "outputs": [
    {
     "name": "stdout",
     "output_type": "stream",
     "text": [
      "(500, 100)\n"
     ]
    }
   ],
   "source": [
    "print(padded.shape)"
   ]
  },
  {
   "cell_type": "code",
   "execution_count": 32,
   "metadata": {},
   "outputs": [],
   "source": [
    "input_ids = torch.LongTensor(padded)  \n",
    "attention_mask = torch.tensor(attention_mask) "
   ]
  },
  {
   "cell_type": "markdown",
   "metadata": {},
   "source": [
    "**Создание эмбеддингов**"
   ]
  },
  {
   "cell_type": "code",
   "execution_count": 33,
   "metadata": {},
   "outputs": [
    {
     "data": {
      "application/vnd.jupyter.widget-view+json": {
       "model_id": "f677a6a93ea441ec86d5776edefb46e3",
       "version_major": 2,
       "version_minor": 0
      },
      "text/plain": [
       "HBox(children=(FloatProgress(value=0.0), HTML(value='')))"
      ]
     },
     "metadata": {},
     "output_type": "display_data"
    },
    {
     "name": "stdout",
     "output_type": "stream",
     "text": [
      "\n"
     ]
    }
   ],
   "source": [
    "batch_size = 5\n",
    "embeddings = []\n",
    "for i in notebook.tqdm(range(padded.shape[0] // batch_size)):\n",
    "        batch = torch.LongTensor(padded[batch_size*i:batch_size*(i+1)]) \n",
    "        attention_mask_batch = torch.tensor(attention_mask[batch_size*i:batch_size*(i+1)])\n",
    "        with torch.no_grad():\n",
    "            batch_embeddings = model(input_ids, attention_mask=attention_mask)\n",
    "        \n",
    "        embeddings.append(batch_embeddings[0][:,0,:].numpy())"
   ]
  },
  {
   "cell_type": "code",
   "execution_count": 34,
   "metadata": {},
   "outputs": [
    {
     "data": {
      "text/plain": [
       "100"
      ]
     },
     "execution_count": 34,
     "metadata": {},
     "output_type": "execute_result"
    }
   ],
   "source": [
    "len(embeddings)"
   ]
  },
  {
   "cell_type": "markdown",
   "metadata": {},
   "source": [
    "**Создание матрицы признаков.**"
   ]
  },
  {
   "cell_type": "code",
   "execution_count": 35,
   "metadata": {},
   "outputs": [
    {
     "data": {
      "text/plain": [
       "(500, 76800)"
      ]
     },
     "execution_count": 35,
     "metadata": {},
     "output_type": "execute_result"
    }
   ],
   "source": [
    "features = np.concatenate(embeddings, axis = 1)\n",
    "features.shape"
   ]
  },
  {
   "cell_type": "code",
   "execution_count": 37,
   "metadata": {},
   "outputs": [],
   "source": [
    "train, test, y1, y2 = (\n",
    "    train_test_split(features, df_bert['toxic'], test_size = 0.2,  random_state= 1111))"
   ]
  },
  {
   "cell_type": "markdown",
   "metadata": {},
   "source": [
    "**Обучение модели**"
   ]
  },
  {
   "cell_type": "code",
   "execution_count": 39,
   "metadata": {},
   "outputs": [
    {
     "name": "stdout",
     "output_type": "stream",
     "text": [
      "0.9\n",
      "0.5833333333333334\n"
     ]
    }
   ],
   "source": [
    "lr_model = LogisticRegression(random_state = 12345)\n",
    "lr_model.fit(train, y1)\n",
    "pr = lr_model.predict(test)\n",
    "print(accuracy_score(y2, pr))\n",
    "print(f1_score(y2, pr))"
   ]
  },
  {
   "cell_type": "markdown",
   "metadata": {},
   "source": [
    "# 4. Выводы"
   ]
  },
  {
   "cell_type": "markdown",
   "metadata": {},
   "source": [
    "Из выбранных моделей только линейная регрессия на tf-idf превысила заданный порог для метрики f1 в 0,75.\n",
    "\n",
    "Эта модель оказалась одной из самых быстрообучаемых.\n",
    "\n",
    "Линейная регрессия на эмбеддингах имеет большой потенциал, и если увеличить количество данных, то ее результаты были бы высоки."
   ]
  },
  {
   "cell_type": "code",
   "execution_count": 40,
   "metadata": {},
   "outputs": [],
   "source": [
    "prob = model_ln.predict_proba(x_test)\n",
    "fpr, tpr, thresholds = roc_curve(y_test, prob[:, 1])"
   ]
  },
  {
   "cell_type": "code",
   "execution_count": 41,
   "metadata": {},
   "outputs": [
    {
     "data": {
      "text/plain": [
       "<Figure size 432x288 with 0 Axes>"
      ]
     },
     "metadata": {},
     "output_type": "display_data"
    },
    {
     "data": {
      "image/png": "[encoded data removed]",
      "text/plain": [
       "<Figure size 432x432 with 1 Axes>"
      ]
     },
     "metadata": {
      "needs_background": "light"
     },
     "output_type": "display_data"
    }
   ],
   "source": [
    "plt.figure()\n",
    "plt.figure(figsize=(6, 6))\n",
    "plt.step(fpr, tpr, where='post')\n",
    "plt.xlabel('False Positive Rate')\n",
    "plt.ylabel('True Positive Rate')\n",
    "plt.ylim([0.0, 1.0])\n",
    "plt.xlim([0.0, 1.0])\n",
    "plt.title('ROC-кривая')\n",
    "plt.plot([0, 1], [0, 1], linestyle='--')\n",
    "plt.show()"
   ]
  },
  {
   "cell_type": "code",
   "execution_count": 42,
   "metadata": {
    "scrolled": true
   },
   "outputs": [
    {
     "name": "stdout",
     "output_type": "stream",
     "text": [
      "0.9701612802971735\n"
     ]
    }
   ],
   "source": [
    "print(roc_auc_score(y_test, prob[:, 1]))"
   ]
  }
 ],
 "metadata": {
  "kernelspec": {
   "display_name": "Python 3",
   "language": "python",
   "name": "python3"
  },
  "language_info": {
   "codemirror_mode": {
    "name": "ipython",
    "version": 3
   },
   "file_extension": ".py",
   "mimetype": "text/x-python",
   "name": "python",
   "nbconvert_exporter": "python",
   "pygments_lexer": "ipython3",
   "version": "3.8.3"
  }
 },
 "nbformat": 4,
 "nbformat_minor": 2
}
