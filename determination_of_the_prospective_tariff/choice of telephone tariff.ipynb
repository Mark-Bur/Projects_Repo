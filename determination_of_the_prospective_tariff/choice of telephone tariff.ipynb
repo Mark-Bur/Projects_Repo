{
 "cells": [
  {
   "cell_type": "markdown",
   "metadata": {},
   "source": [
    "### Описание проекта \n",
    "Мобильный оператор предлагает два тарифных плана: «Смарт» и «Ультра». Чтобы скорректировать рекламный бюджет, коммерческий департамент хочет понять, какой тариф приносит больше денег.\n",
    "Предстоит сделать предварительный анализ тарифов на небольшой выборке клиентов. В нашем распоряжении данные 500 пользователей: кто они, откуда, каким тарифом пользуются, сколько звонков и сообщений каждый отправил за 2018 год. Нужно проанализировать поведение клиентов и сделать вывод — какой тариф лучше.\n",
    "\n",
    "### Описание тарифов\n",
    "#### Тариф «Смарт»\n",
    "Ежемесячная плата: 550 рублей <br>\n",
    "Включено 500 минут разговора, 50 сообщений и 15 Гб интернет-трафика<br>\n",
    "Стоимость услуг сверх тарифного пакета:<br>\n",
    "минута разговора: 3 рубля<br>\n",
    "сообщение: 3 рубля<br>\n",
    "1 Гб интернет-трафика: 200 рублей<br>\n",
    "#### Тариф «Ультра»\n",
    "Ежемесячная плата: 1950 рублей<br>\n",
    "Включено 3000 минут разговора, 1000 сообщений и 30 Гб интернет-трафика<br>\n",
    "Стоимость услуг сверх тарифного пакета:<br>\n",
    "минута разговора: 1 рубль<br>\n",
    "сообщение: 1 рубль<br>\n",
    "1 Гб интернет-трафика: 150 рублей<br>\n",
    "<br>\n",
    "Обратите внимание: оператор всегда округляет вверх значения минут и мегабайтов. Если пользователь проговорил всего 1 секунду, в тарифе засчитывается целая минута."
   ]
  },
  {
   "cell_type": "markdown",
   "metadata": {},
   "source": [
    "### Описание данных\n",
    "#### Таблица users (информация о пользователях):\n",
    "user_id — уникальный идентификатор пользователя<br>\n",
    "first_name — имя пользователя<br>\n",
    "last_name — фамилия пользователя<br>\n",
    "age — возраст пользователя (годы)<br>\n",
    "reg_date — дата подключения тарифа (день, месяц, год)<br>\n",
    "churn_date — дата прекращения пользования тарифом (если значение пропущено, то тариф ещё действовал на момент выгрузки данных)<br>\n",
    "city — город проживания пользователя<br>\n",
    "tariff — название тарифного плана<br>\n",
    "#### Таблица calls (информация о звонках):\n",
    "id — уникальный номер звонка<br>\n",
    "call_date — дата звонка<br>\n",
    "duration — длительность звонка в минутах<br>\n",
    "user_id — идентификатор пользователя, сделавшего звонок<br>\n",
    "#### Таблица messages (информация о сообщениях):\n",
    "id — уникальный номер сообщения<br>\n",
    "message_date — дата сообщения<br>\n",
    "user_id — идентификатор пользователя, отправившего сообщение<br>\n",
    "#### Таблица internet (информация об интернет-сессиях):\n",
    "id — уникальный номер сессии<br>\n",
    "mb_used — объём потраченного за сессию интернет-трафика (в мегабайтах)<br>\n",
    "session_date — дата интернет-сессии<br>\n",
    "user_id — идентификатор пользователя<br>\n",
    "#### Таблица tariffs (информация о тарифах):\n",
    "tariff_name — название тарифа<br>\n",
    "rub_monthly_fee — ежемесячная абонентская плата в рублях<br>\n",
    "minutes_included — количество минут разговора в месяц, включённых в абонентскую плату<br>\n",
    "messages_included — количество сообщений в месяц, включённых в абонентскую плату<br>\n",
    "mb_per_month_included — объём интернет-трафика, включённого в абонентскую плату (в мегабайтах)<br>\n",
    "rub_per_minute — стоимость минуты разговора сверх тарифного пакета (например, если в тарифе 100 минут разговора в месяц, то со 101 минуты будет взиматься плата)<br>\n",
    "rub_per_message — стоимость отправки сообщения сверх тарифного пакета<br>\n",
    "rub_per_gb — стоимость дополнительного гигабайта интернет-трафика сверх тарифного пакета (1 гигабайт = 1024 мегабайта)<br>"
   ]
  },
  {
   "cell_type": "markdown",
   "metadata": {},
   "source": [
    "### Цель проекта\n",
    "\n",
    "Проверить гипотезы: <br>\n",
    "- средняя выручка пользователей тарифов «Ультра» и «Смарт» различается;\n",
    "- средняя выручка пользователей из Москвы отличается от выручки пользователей из других регионов;"
   ]
  },
  {
   "cell_type": "markdown",
   "metadata": {},
   "source": [
    "### Содержание\n",
    "[](#)<br>\n",
    "[](#)<br>\n",
    "[](#)<br>\n",
    "[](#)<br>\n",
    "[](#)<br>"
   ]
  },
  {
   "cell_type": "markdown",
   "metadata": {},
   "source": [
    "# 1. Общая информация"
   ]
  },
  {
   "cell_type": "code",
   "execution_count": null,
   "metadata": {},
   "outputs": [],
   "source": [
    "import pandas as pd\n",
    "import math\n",
    "import matplotlib.pyplot as plt\n",
    "import numpy as np\n",
    "from scipy import stats as st"
   ]
  },
  {
   "cell_type": "code",
   "execution_count": 2,
   "metadata": {},
   "outputs": [],
   "source": [
    "users = pd.read_csv('users.csv')\n",
    "calls = pd.read_csv('calls.csv')\n",
    "messages = pd.read_csv('messages.csv')\n",
    "internet = pd.read_csv('internet.csv')\n",
    "tariffs = pd.read_csv('tariffs.csv')"
   ]
  },
  {
   "cell_type": "code",
   "execution_count": 3,
   "metadata": {},
   "outputs": [
    {
     "name": "stdout",
     "output_type": "stream",
     "text": [
      "users:\n"
     ]
    },
    {
     "data": {
      "text/html": [
       "<div>\n",
       "<style scoped>\n",
       "    .dataframe tbody tr th:only-of-type {\n",
       "        vertical-align: middle;\n",
       "    }\n",
       "\n",
       "    .dataframe tbody tr th {\n",
       "        vertical-align: top;\n",
       "    }\n",
       "\n",
       "    .dataframe thead th {\n",
       "        text-align: right;\n",
       "    }\n",
       "</style>\n",
       "<table border=\"1\" class=\"dataframe\">\n",
       "  <thead>\n",
       "    <tr style=\"text-align: right;\">\n",
       "      <th></th>\n",
       "      <th>user_id</th>\n",
       "      <th>age</th>\n",
       "      <th>churn_date</th>\n",
       "      <th>city</th>\n",
       "      <th>first_name</th>\n",
       "      <th>last_name</th>\n",
       "      <th>reg_date</th>\n",
       "      <th>tariff</th>\n",
       "    </tr>\n",
       "  </thead>\n",
       "  <tbody>\n",
       "    <tr>\n",
       "      <td>0</td>\n",
       "      <td>1000</td>\n",
       "      <td>52</td>\n",
       "      <td>NaN</td>\n",
       "      <td>Краснодар</td>\n",
       "      <td>Рафаил</td>\n",
       "      <td>Верещагин</td>\n",
       "      <td>2018-05-25</td>\n",
       "      <td>ultra</td>\n",
       "    </tr>\n",
       "    <tr>\n",
       "      <td>1</td>\n",
       "      <td>1001</td>\n",
       "      <td>41</td>\n",
       "      <td>NaN</td>\n",
       "      <td>Москва</td>\n",
       "      <td>Иван</td>\n",
       "      <td>Ежов</td>\n",
       "      <td>2018-11-01</td>\n",
       "      <td>smart</td>\n",
       "    </tr>\n",
       "    <tr>\n",
       "      <td>2</td>\n",
       "      <td>1002</td>\n",
       "      <td>59</td>\n",
       "      <td>NaN</td>\n",
       "      <td>Стерлитамак</td>\n",
       "      <td>Евгений</td>\n",
       "      <td>Абрамович</td>\n",
       "      <td>2018-06-17</td>\n",
       "      <td>smart</td>\n",
       "    </tr>\n",
       "    <tr>\n",
       "      <td>3</td>\n",
       "      <td>1003</td>\n",
       "      <td>23</td>\n",
       "      <td>NaN</td>\n",
       "      <td>Москва</td>\n",
       "      <td>Белла</td>\n",
       "      <td>Белякова</td>\n",
       "      <td>2018-08-17</td>\n",
       "      <td>ultra</td>\n",
       "    </tr>\n",
       "    <tr>\n",
       "      <td>4</td>\n",
       "      <td>1004</td>\n",
       "      <td>68</td>\n",
       "      <td>NaN</td>\n",
       "      <td>Новокузнецк</td>\n",
       "      <td>Татьяна</td>\n",
       "      <td>Авдеенко</td>\n",
       "      <td>2018-05-14</td>\n",
       "      <td>ultra</td>\n",
       "    </tr>\n",
       "  </tbody>\n",
       "</table>\n",
       "</div>"
      ],
      "text/plain": [
       "   user_id  age churn_date         city first_name  last_name    reg_date  \\\n",
       "0     1000   52        NaN    Краснодар     Рафаил  Верещагин  2018-05-25   \n",
       "1     1001   41        NaN       Москва       Иван       Ежов  2018-11-01   \n",
       "2     1002   59        NaN  Стерлитамак    Евгений  Абрамович  2018-06-17   \n",
       "3     1003   23        NaN       Москва      Белла   Белякова  2018-08-17   \n",
       "4     1004   68        NaN  Новокузнецк    Татьяна   Авдеенко  2018-05-14   \n",
       "\n",
       "  tariff  \n",
       "0  ultra  \n",
       "1  smart  \n",
       "2  smart  \n",
       "3  ultra  \n",
       "4  ultra  "
      ]
     },
     "metadata": {},
     "output_type": "display_data"
    },
    {
     "name": "stdout",
     "output_type": "stream",
     "text": [
      "<class 'pandas.core.frame.DataFrame'>\n",
      "RangeIndex: 500 entries, 0 to 499\n",
      "Data columns (total 8 columns):\n",
      "user_id       500 non-null int64\n",
      "age           500 non-null int64\n",
      "churn_date    38 non-null object\n",
      "city          500 non-null object\n",
      "first_name    500 non-null object\n",
      "last_name     500 non-null object\n",
      "reg_date      500 non-null object\n",
      "tariff        500 non-null object\n",
      "dtypes: int64(2), object(6)\n",
      "memory usage: 31.4+ KB\n",
      "\n",
      "calls:\n"
     ]
    },
    {
     "data": {
      "text/html": [
       "<div>\n",
       "<style scoped>\n",
       "    .dataframe tbody tr th:only-of-type {\n",
       "        vertical-align: middle;\n",
       "    }\n",
       "\n",
       "    .dataframe tbody tr th {\n",
       "        vertical-align: top;\n",
       "    }\n",
       "\n",
       "    .dataframe thead th {\n",
       "        text-align: right;\n",
       "    }\n",
       "</style>\n",
       "<table border=\"1\" class=\"dataframe\">\n",
       "  <thead>\n",
       "    <tr style=\"text-align: right;\">\n",
       "      <th></th>\n",
       "      <th>id</th>\n",
       "      <th>call_date</th>\n",
       "      <th>duration</th>\n",
       "      <th>user_id</th>\n",
       "    </tr>\n",
       "  </thead>\n",
       "  <tbody>\n",
       "    <tr>\n",
       "      <td>0</td>\n",
       "      <td>1000_0</td>\n",
       "      <td>2018-07-25</td>\n",
       "      <td>0.00</td>\n",
       "      <td>1000</td>\n",
       "    </tr>\n",
       "    <tr>\n",
       "      <td>1</td>\n",
       "      <td>1000_1</td>\n",
       "      <td>2018-08-17</td>\n",
       "      <td>0.00</td>\n",
       "      <td>1000</td>\n",
       "    </tr>\n",
       "    <tr>\n",
       "      <td>2</td>\n",
       "      <td>1000_2</td>\n",
       "      <td>2018-06-11</td>\n",
       "      <td>2.85</td>\n",
       "      <td>1000</td>\n",
       "    </tr>\n",
       "    <tr>\n",
       "      <td>3</td>\n",
       "      <td>1000_3</td>\n",
       "      <td>2018-09-21</td>\n",
       "      <td>13.80</td>\n",
       "      <td>1000</td>\n",
       "    </tr>\n",
       "    <tr>\n",
       "      <td>4</td>\n",
       "      <td>1000_4</td>\n",
       "      <td>2018-12-15</td>\n",
       "      <td>5.18</td>\n",
       "      <td>1000</td>\n",
       "    </tr>\n",
       "  </tbody>\n",
       "</table>\n",
       "</div>"
      ],
      "text/plain": [
       "       id   call_date  duration  user_id\n",
       "0  1000_0  2018-07-25      0.00     1000\n",
       "1  1000_1  2018-08-17      0.00     1000\n",
       "2  1000_2  2018-06-11      2.85     1000\n",
       "3  1000_3  2018-09-21     13.80     1000\n",
       "4  1000_4  2018-12-15      5.18     1000"
      ]
     },
     "metadata": {},
     "output_type": "display_data"
    },
    {
     "name": "stdout",
     "output_type": "stream",
     "text": [
      "<class 'pandas.core.frame.DataFrame'>\n",
      "RangeIndex: 202607 entries, 0 to 202606\n",
      "Data columns (total 4 columns):\n",
      "id           202607 non-null object\n",
      "call_date    202607 non-null object\n",
      "duration     202607 non-null float64\n",
      "user_id      202607 non-null int64\n",
      "dtypes: float64(1), int64(1), object(2)\n",
      "memory usage: 6.2+ MB\n"
     ]
    }
   ],
   "source": [
    "print('users:')\n",
    "display(users.head())\n",
    "users.info()\n",
    "\n",
    "print('\\ncalls:')\n",
    "display(calls.head())\n",
    "calls.info()"
   ]
  },
  {
   "cell_type": "code",
   "execution_count": 4,
   "metadata": {},
   "outputs": [
    {
     "name": "stdout",
     "output_type": "stream",
     "text": [
      "messages:\n"
     ]
    },
    {
     "data": {
      "text/html": [
       "<div>\n",
       "<style scoped>\n",
       "    .dataframe tbody tr th:only-of-type {\n",
       "        vertical-align: middle;\n",
       "    }\n",
       "\n",
       "    .dataframe tbody tr th {\n",
       "        vertical-align: top;\n",
       "    }\n",
       "\n",
       "    .dataframe thead th {\n",
       "        text-align: right;\n",
       "    }\n",
       "</style>\n",
       "<table border=\"1\" class=\"dataframe\">\n",
       "  <thead>\n",
       "    <tr style=\"text-align: right;\">\n",
       "      <th></th>\n",
       "      <th>id</th>\n",
       "      <th>message_date</th>\n",
       "      <th>user_id</th>\n",
       "    </tr>\n",
       "  </thead>\n",
       "  <tbody>\n",
       "    <tr>\n",
       "      <td>0</td>\n",
       "      <td>1000_0</td>\n",
       "      <td>2018-06-27</td>\n",
       "      <td>1000</td>\n",
       "    </tr>\n",
       "    <tr>\n",
       "      <td>1</td>\n",
       "      <td>1000_1</td>\n",
       "      <td>2018-10-08</td>\n",
       "      <td>1000</td>\n",
       "    </tr>\n",
       "    <tr>\n",
       "      <td>2</td>\n",
       "      <td>1000_2</td>\n",
       "      <td>2018-08-04</td>\n",
       "      <td>1000</td>\n",
       "    </tr>\n",
       "    <tr>\n",
       "      <td>3</td>\n",
       "      <td>1000_3</td>\n",
       "      <td>2018-06-16</td>\n",
       "      <td>1000</td>\n",
       "    </tr>\n",
       "    <tr>\n",
       "      <td>4</td>\n",
       "      <td>1000_4</td>\n",
       "      <td>2018-12-05</td>\n",
       "      <td>1000</td>\n",
       "    </tr>\n",
       "  </tbody>\n",
       "</table>\n",
       "</div>"
      ],
      "text/plain": [
       "       id message_date  user_id\n",
       "0  1000_0   2018-06-27     1000\n",
       "1  1000_1   2018-10-08     1000\n",
       "2  1000_2   2018-08-04     1000\n",
       "3  1000_3   2018-06-16     1000\n",
       "4  1000_4   2018-12-05     1000"
      ]
     },
     "metadata": {},
     "output_type": "display_data"
    },
    {
     "name": "stdout",
     "output_type": "stream",
     "text": [
      "<class 'pandas.core.frame.DataFrame'>\n",
      "RangeIndex: 123036 entries, 0 to 123035\n",
      "Data columns (total 3 columns):\n",
      "id              123036 non-null object\n",
      "message_date    123036 non-null object\n",
      "user_id         123036 non-null int64\n",
      "dtypes: int64(1), object(2)\n",
      "memory usage: 2.8+ MB\n",
      "\n",
      "internet:\n"
     ]
    },
    {
     "data": {
      "text/html": [
       "<div>\n",
       "<style scoped>\n",
       "    .dataframe tbody tr th:only-of-type {\n",
       "        vertical-align: middle;\n",
       "    }\n",
       "\n",
       "    .dataframe tbody tr th {\n",
       "        vertical-align: top;\n",
       "    }\n",
       "\n",
       "    .dataframe thead th {\n",
       "        text-align: right;\n",
       "    }\n",
       "</style>\n",
       "<table border=\"1\" class=\"dataframe\">\n",
       "  <thead>\n",
       "    <tr style=\"text-align: right;\">\n",
       "      <th></th>\n",
       "      <th>Unnamed: 0</th>\n",
       "      <th>id</th>\n",
       "      <th>mb_used</th>\n",
       "      <th>session_date</th>\n",
       "      <th>user_id</th>\n",
       "    </tr>\n",
       "  </thead>\n",
       "  <tbody>\n",
       "    <tr>\n",
       "      <td>0</td>\n",
       "      <td>0</td>\n",
       "      <td>1000_0</td>\n",
       "      <td>112.95</td>\n",
       "      <td>2018-11-25</td>\n",
       "      <td>1000</td>\n",
       "    </tr>\n",
       "    <tr>\n",
       "      <td>1</td>\n",
       "      <td>1</td>\n",
       "      <td>1000_1</td>\n",
       "      <td>1052.81</td>\n",
       "      <td>2018-09-07</td>\n",
       "      <td>1000</td>\n",
       "    </tr>\n",
       "    <tr>\n",
       "      <td>2</td>\n",
       "      <td>2</td>\n",
       "      <td>1000_2</td>\n",
       "      <td>1197.26</td>\n",
       "      <td>2018-06-25</td>\n",
       "      <td>1000</td>\n",
       "    </tr>\n",
       "    <tr>\n",
       "      <td>3</td>\n",
       "      <td>3</td>\n",
       "      <td>1000_3</td>\n",
       "      <td>550.27</td>\n",
       "      <td>2018-08-22</td>\n",
       "      <td>1000</td>\n",
       "    </tr>\n",
       "    <tr>\n",
       "      <td>4</td>\n",
       "      <td>4</td>\n",
       "      <td>1000_4</td>\n",
       "      <td>302.56</td>\n",
       "      <td>2018-09-24</td>\n",
       "      <td>1000</td>\n",
       "    </tr>\n",
       "  </tbody>\n",
       "</table>\n",
       "</div>"
      ],
      "text/plain": [
       "   Unnamed: 0      id  mb_used session_date  user_id\n",
       "0           0  1000_0   112.95   2018-11-25     1000\n",
       "1           1  1000_1  1052.81   2018-09-07     1000\n",
       "2           2  1000_2  1197.26   2018-06-25     1000\n",
       "3           3  1000_3   550.27   2018-08-22     1000\n",
       "4           4  1000_4   302.56   2018-09-24     1000"
      ]
     },
     "metadata": {},
     "output_type": "display_data"
    },
    {
     "name": "stdout",
     "output_type": "stream",
     "text": [
      "<class 'pandas.core.frame.DataFrame'>\n",
      "RangeIndex: 149396 entries, 0 to 149395\n",
      "Data columns (total 5 columns):\n",
      "Unnamed: 0      149396 non-null int64\n",
      "id              149396 non-null object\n",
      "mb_used         149396 non-null float64\n",
      "session_date    149396 non-null object\n",
      "user_id         149396 non-null int64\n",
      "dtypes: float64(1), int64(2), object(2)\n",
      "memory usage: 5.7+ MB\n",
      "\n",
      "tarrifs:\n"
     ]
    },
    {
     "data": {
      "text/html": [
       "<div>\n",
       "<style scoped>\n",
       "    .dataframe tbody tr th:only-of-type {\n",
       "        vertical-align: middle;\n",
       "    }\n",
       "\n",
       "    .dataframe tbody tr th {\n",
       "        vertical-align: top;\n",
       "    }\n",
       "\n",
       "    .dataframe thead th {\n",
       "        text-align: right;\n",
       "    }\n",
       "</style>\n",
       "<table border=\"1\" class=\"dataframe\">\n",
       "  <thead>\n",
       "    <tr style=\"text-align: right;\">\n",
       "      <th></th>\n",
       "      <th>messages_included</th>\n",
       "      <th>mb_per_month_included</th>\n",
       "      <th>minutes_included</th>\n",
       "      <th>rub_monthly_fee</th>\n",
       "      <th>rub_per_gb</th>\n",
       "      <th>rub_per_message</th>\n",
       "      <th>rub_per_minute</th>\n",
       "      <th>tariff_name</th>\n",
       "    </tr>\n",
       "  </thead>\n",
       "  <tbody>\n",
       "    <tr>\n",
       "      <td>0</td>\n",
       "      <td>50</td>\n",
       "      <td>15360</td>\n",
       "      <td>500</td>\n",
       "      <td>550</td>\n",
       "      <td>200</td>\n",
       "      <td>3</td>\n",
       "      <td>3</td>\n",
       "      <td>smart</td>\n",
       "    </tr>\n",
       "    <tr>\n",
       "      <td>1</td>\n",
       "      <td>1000</td>\n",
       "      <td>30720</td>\n",
       "      <td>3000</td>\n",
       "      <td>1950</td>\n",
       "      <td>150</td>\n",
       "      <td>1</td>\n",
       "      <td>1</td>\n",
       "      <td>ultra</td>\n",
       "    </tr>\n",
       "  </tbody>\n",
       "</table>\n",
       "</div>"
      ],
      "text/plain": [
       "   messages_included  mb_per_month_included  minutes_included  \\\n",
       "0                 50                  15360               500   \n",
       "1               1000                  30720              3000   \n",
       "\n",
       "   rub_monthly_fee  rub_per_gb  rub_per_message  rub_per_minute tariff_name  \n",
       "0              550         200                3               3       smart  \n",
       "1             1950         150                1               1       ultra  "
      ]
     },
     "metadata": {},
     "output_type": "display_data"
    },
    {
     "name": "stdout",
     "output_type": "stream",
     "text": [
      "<class 'pandas.core.frame.DataFrame'>\n",
      "RangeIndex: 2 entries, 0 to 1\n",
      "Data columns (total 8 columns):\n",
      "messages_included        2 non-null int64\n",
      "mb_per_month_included    2 non-null int64\n",
      "minutes_included         2 non-null int64\n",
      "rub_monthly_fee          2 non-null int64\n",
      "rub_per_gb               2 non-null int64\n",
      "rub_per_message          2 non-null int64\n",
      "rub_per_minute           2 non-null int64\n",
      "tariff_name              2 non-null object\n",
      "dtypes: int64(7), object(1)\n",
      "memory usage: 256.0+ bytes\n"
     ]
    }
   ],
   "source": [
    "print('messages:')\n",
    "display(messages.head())\n",
    "messages.info()\n",
    "\n",
    "print('\\ninternet:')\n",
    "display(internet.head())\n",
    "internet.info()\n",
    "\n",
    "print('\\ntarrifs:')\n",
    "display(tariffs)\n",
    "tariffs.info()"
   ]
  },
  {
   "cell_type": "markdown",
   "metadata": {},
   "source": [
    "### Вывод\n",
    "Имеются пропуски в файле users в стобце 'churn_date', они объясняются тем, что тарифный план на момент выгрузки данных действителен. Дата в файлах указана в неверном формате. Значения минут и мегабайтов представлены вещественным типом данных. Имеются звонки продолжительностью 0 минут.  "
   ]
  },
  {
   "cell_type": "markdown",
   "metadata": {},
   "source": [
    "# 2. Предобработка данных"
   ]
  },
  {
   "cell_type": "markdown",
   "metadata": {},
   "source": [
    "- Изменим формат хранения времени \n",
    "- Добавим столбцы, которые будут хранить месяц и год каждого действия, для последующей группировки\n",
    "- Пропуски в столбце 'churn_date' заменим нетипичным значением -1\n",
    "- Длительность звонков и количество использованных мегабайтов округлим вверх"
   ]
  },
  {
   "cell_type": "code",
   "execution_count": null,
   "metadata": {},
   "outputs": [],
   "source": [
    "users['reg_date'] = pd.to_datetime(users['reg_date'], format = '%Y-%m-%d')\n",
    "calls['call_date'] = pd.to_datetime(calls['call_date'], format = '%Y-%m-%d')\n",
    "messages['message_date'] = pd.to_datetime(messages['message_date'], format = '%Y-%m-%d')\n",
    "internet['session_date'] = pd.to_datetime(internet['session_date'], format = '%Y-%m-%d')"
   ]
  },
  {
   "cell_type": "code",
   "execution_count": null,
   "metadata": {},
   "outputs": [],
   "source": [
    "calls['month_year'] = calls['call_date'].dt.month.astype('str') + '-' + calls['call_date'].dt.year.astype('str')\n",
    "calls['month_year'] = pd.to_datetime(calls['month_year'], format = '%m-%Y')\n",
    "messages['month_year'] = messages['message_date'].dt.month.astype('str') + '-' + messages['message_date'].dt.year.astype('str')\n",
    "messages['month_year'] = pd.to_datetime(messages['month_year'], format = '%m-%Y')\n",
    "internet['month_year'] = internet['session_date'].dt.month.astype('str') + '-' + internet['session_date'].dt.year.astype('str')\n",
    "internet['month_year'] = pd.to_datetime(internet['month_year'], format = '%m-%Y')"
   ]
  },
  {
   "cell_type": "code",
   "execution_count": null,
   "metadata": {},
   "outputs": [],
   "source": [
    "users['churn_date'] = users['churn_date'].fillna(-1)"
   ]
  },
  {
   "cell_type": "code",
   "execution_count": 5,
   "metadata": {},
   "outputs": [],
   "source": [
    "calls['duration'] = calls['duration'].apply(math.ceil)\n",
    "internet['mb_used'] = internet['mb_used'].apply(math.ceil)"
   ]
  },
  {
   "cell_type": "markdown",
   "metadata": {},
   "source": [
    "# 3. Подготовка даннных \n",
    "Подготовим данные к анализу, сведя все файлы к одной таблице, в которой будут храниться все необхбдимые для исследования данные"
   ]
  },
  {
   "cell_type": "markdown",
   "metadata": {},
   "source": [
    "Cоздадим датафрейм на основе файла users, который будет содержать id абонента, его город и тип используемого тарифа"
   ]
  },
  {
   "cell_type": "code",
   "execution_count": null,
   "metadata": {},
   "outputs": [],
   "source": [
    "id_dict = users.loc[:, ['user_id', 'city', 'tariff']]\n",
    "display(id_dict.head())"
   ]
  },
  {
   "cell_type": "markdown",
   "metadata": {},
   "source": [
    "Присоеденим получившуюся таблицу к файлам, которые в дальнейшем объединим"
   ]
  },
  {
   "cell_type": "code",
   "execution_count": 6,
   "metadata": {},
   "outputs": [
    {
     "data": {
      "text/html": [
       "<div>\n",
       "<style scoped>\n",
       "    .dataframe tbody tr th:only-of-type {\n",
       "        vertical-align: middle;\n",
       "    }\n",
       "\n",
       "    .dataframe tbody tr th {\n",
       "        vertical-align: top;\n",
       "    }\n",
       "\n",
       "    .dataframe thead th {\n",
       "        text-align: right;\n",
       "    }\n",
       "</style>\n",
       "<table border=\"1\" class=\"dataframe\">\n",
       "  <thead>\n",
       "    <tr style=\"text-align: right;\">\n",
       "      <th></th>\n",
       "      <th>user_id</th>\n",
       "      <th>city</th>\n",
       "      <th>tariff</th>\n",
       "    </tr>\n",
       "  </thead>\n",
       "  <tbody>\n",
       "    <tr>\n",
       "      <td>0</td>\n",
       "      <td>1000</td>\n",
       "      <td>Краснодар</td>\n",
       "      <td>ultra</td>\n",
       "    </tr>\n",
       "    <tr>\n",
       "      <td>1</td>\n",
       "      <td>1001</td>\n",
       "      <td>Москва</td>\n",
       "      <td>smart</td>\n",
       "    </tr>\n",
       "    <tr>\n",
       "      <td>2</td>\n",
       "      <td>1002</td>\n",
       "      <td>Стерлитамак</td>\n",
       "      <td>smart</td>\n",
       "    </tr>\n",
       "    <tr>\n",
       "      <td>3</td>\n",
       "      <td>1003</td>\n",
       "      <td>Москва</td>\n",
       "      <td>ultra</td>\n",
       "    </tr>\n",
       "    <tr>\n",
       "      <td>4</td>\n",
       "      <td>1004</td>\n",
       "      <td>Новокузнецк</td>\n",
       "      <td>ultra</td>\n",
       "    </tr>\n",
       "  </tbody>\n",
       "</table>\n",
       "</div>"
      ],
      "text/plain": [
       "   user_id         city tariff\n",
       "0     1000    Краснодар  ultra\n",
       "1     1001       Москва  smart\n",
       "2     1002  Стерлитамак  smart\n",
       "3     1003       Москва  ultra\n",
       "4     1004  Новокузнецк  ultra"
      ]
     },
     "metadata": {},
     "output_type": "display_data"
    }
   ],
   "source": [
    "calls = calls.merge(id_dict, on = 'user_id', how = 'left')\n",
    "messages = messages.merge(id_dict, on = 'user_id', how = 'left')\n",
    "internet = internet.merge(id_dict, on = 'user_id', how = 'left')"
   ]
  },
  {
   "cell_type": "markdown",
   "metadata": {},
   "source": [
    "Создадим сводные таблицы для звонков, смс и интернета, индексами в которых будут 'user_id', 'city', 'tariff' и 'month_year' для последующего их объединения."
   ]
  },
  {
   "cell_type": "code",
   "execution_count": 7,
   "metadata": {},
   "outputs": [
    {
     "data": {
      "text/html": [
       "<div>\n",
       "<style scoped>\n",
       "    .dataframe tbody tr th:only-of-type {\n",
       "        vertical-align: middle;\n",
       "    }\n",
       "\n",
       "    .dataframe tbody tr th {\n",
       "        vertical-align: top;\n",
       "    }\n",
       "\n",
       "    .dataframe thead th {\n",
       "        text-align: right;\n",
       "    }\n",
       "</style>\n",
       "<table border=\"1\" class=\"dataframe\">\n",
       "  <thead>\n",
       "    <tr style=\"text-align: right;\">\n",
       "      <th></th>\n",
       "      <th></th>\n",
       "      <th></th>\n",
       "      <th></th>\n",
       "      <th>calls_sum</th>\n",
       "      <th>calls_count</th>\n",
       "    </tr>\n",
       "    <tr>\n",
       "      <th>user_id</th>\n",
       "      <th>city</th>\n",
       "      <th>tariff</th>\n",
       "      <th>month_year</th>\n",
       "      <th></th>\n",
       "      <th></th>\n",
       "    </tr>\n",
       "  </thead>\n",
       "  <tbody>\n",
       "    <tr>\n",
       "      <td rowspan=\"5\" valign=\"top\">1000</td>\n",
       "      <td rowspan=\"5\" valign=\"top\">Краснодар</td>\n",
       "      <td rowspan=\"5\" valign=\"top\">ultra</td>\n",
       "      <td>2018-05-01</td>\n",
       "      <td>159</td>\n",
       "      <td>22</td>\n",
       "    </tr>\n",
       "    <tr>\n",
       "      <td>2018-06-01</td>\n",
       "      <td>172</td>\n",
       "      <td>43</td>\n",
       "    </tr>\n",
       "    <tr>\n",
       "      <td>2018-07-01</td>\n",
       "      <td>340</td>\n",
       "      <td>47</td>\n",
       "    </tr>\n",
       "    <tr>\n",
       "      <td>2018-08-01</td>\n",
       "      <td>408</td>\n",
       "      <td>52</td>\n",
       "    </tr>\n",
       "    <tr>\n",
       "      <td>2018-09-01</td>\n",
       "      <td>466</td>\n",
       "      <td>58</td>\n",
       "    </tr>\n",
       "  </tbody>\n",
       "</table>\n",
       "</div>"
      ],
      "text/plain": [
       "                                     calls_sum  calls_count\n",
       "user_id city      tariff month_year                        \n",
       "1000    Краснодар ultra  2018-05-01        159           22\n",
       "                         2018-06-01        172           43\n",
       "                         2018-07-01        340           47\n",
       "                         2018-08-01        408           52\n",
       "                         2018-09-01        466           58"
      ]
     },
     "metadata": {},
     "output_type": "display_data"
    }
   ],
   "source": [
    "calls_pivot = calls.pivot_table(index = ['user_id', 'city', 'tariff', 'month_year'], values = 'duration', aggfunc = ['sum', 'count'])\n",
    "calls_pivot = calls_pivot.astype('Int64')\n",
    "calls_pivot.columns = ['calls_sum', 'calls_count']\n",
    "display(calls_pivot.head())"
   ]
  },
  {
   "cell_type": "code",
   "execution_count": 8,
   "metadata": {},
   "outputs": [
    {
     "data": {
      "text/html": [
       "<div>\n",
       "<style scoped>\n",
       "    .dataframe tbody tr th:only-of-type {\n",
       "        vertical-align: middle;\n",
       "    }\n",
       "\n",
       "    .dataframe tbody tr th {\n",
       "        vertical-align: top;\n",
       "    }\n",
       "\n",
       "    .dataframe thead th {\n",
       "        text-align: right;\n",
       "    }\n",
       "</style>\n",
       "<table border=\"1\" class=\"dataframe\">\n",
       "  <thead>\n",
       "    <tr style=\"text-align: right;\">\n",
       "      <th></th>\n",
       "      <th></th>\n",
       "      <th></th>\n",
       "      <th></th>\n",
       "      <th>messages_count</th>\n",
       "    </tr>\n",
       "    <tr>\n",
       "      <th>user_id</th>\n",
       "      <th>city</th>\n",
       "      <th>tariff</th>\n",
       "      <th>month_year</th>\n",
       "      <th></th>\n",
       "    </tr>\n",
       "  </thead>\n",
       "  <tbody>\n",
       "    <tr>\n",
       "      <td rowspan=\"5\" valign=\"top\">1000</td>\n",
       "      <td rowspan=\"5\" valign=\"top\">Краснодар</td>\n",
       "      <td rowspan=\"5\" valign=\"top\">ultra</td>\n",
       "      <td>2018-05-01</td>\n",
       "      <td>22</td>\n",
       "    </tr>\n",
       "    <tr>\n",
       "      <td>2018-06-01</td>\n",
       "      <td>60</td>\n",
       "    </tr>\n",
       "    <tr>\n",
       "      <td>2018-07-01</td>\n",
       "      <td>75</td>\n",
       "    </tr>\n",
       "    <tr>\n",
       "      <td>2018-08-01</td>\n",
       "      <td>81</td>\n",
       "    </tr>\n",
       "    <tr>\n",
       "      <td>2018-09-01</td>\n",
       "      <td>57</td>\n",
       "    </tr>\n",
       "  </tbody>\n",
       "</table>\n",
       "</div>"
      ],
      "text/plain": [
       "                                     messages_count\n",
       "user_id city      tariff month_year                \n",
       "1000    Краснодар ultra  2018-05-01              22\n",
       "                         2018-06-01              60\n",
       "                         2018-07-01              75\n",
       "                         2018-08-01              81\n",
       "                         2018-09-01              57"
      ]
     },
     "metadata": {},
     "output_type": "display_data"
    }
   ],
   "source": [
    "messages_pivot = messages.pivot_table(index = ['user_id', 'city', 'tariff', 'month_year'], values = 'id', aggfunc = 'count')\n",
    "messages_pivot = messages_pivot.astype('Int64')\n",
    "messages_pivot.columns = ['messages_count'] \n",
    "display(messages_pivot.head())"
   ]
  },
  {
   "cell_type": "code",
   "execution_count": 9,
   "metadata": {},
   "outputs": [
    {
     "data": {
      "text/html": [
       "<div>\n",
       "<style scoped>\n",
       "    .dataframe tbody tr th:only-of-type {\n",
       "        vertical-align: middle;\n",
       "    }\n",
       "\n",
       "    .dataframe tbody tr th {\n",
       "        vertical-align: top;\n",
       "    }\n",
       "\n",
       "    .dataframe thead th {\n",
       "        text-align: right;\n",
       "    }\n",
       "</style>\n",
       "<table border=\"1\" class=\"dataframe\">\n",
       "  <thead>\n",
       "    <tr style=\"text-align: right;\">\n",
       "      <th></th>\n",
       "      <th></th>\n",
       "      <th></th>\n",
       "      <th></th>\n",
       "      <th>mb_used_sum</th>\n",
       "    </tr>\n",
       "    <tr>\n",
       "      <th>user_id</th>\n",
       "      <th>city</th>\n",
       "      <th>tariff</th>\n",
       "      <th>month_year</th>\n",
       "      <th></th>\n",
       "    </tr>\n",
       "  </thead>\n",
       "  <tbody>\n",
       "    <tr>\n",
       "      <td rowspan=\"5\" valign=\"top\">1000</td>\n",
       "      <td rowspan=\"5\" valign=\"top\">Краснодар</td>\n",
       "      <td rowspan=\"5\" valign=\"top\">ultra</td>\n",
       "      <td>2018-05-01</td>\n",
       "      <td>2256</td>\n",
       "    </tr>\n",
       "    <tr>\n",
       "      <td>2018-06-01</td>\n",
       "      <td>23257</td>\n",
       "    </tr>\n",
       "    <tr>\n",
       "      <td>2018-07-01</td>\n",
       "      <td>14016</td>\n",
       "    </tr>\n",
       "    <tr>\n",
       "      <td>2018-08-01</td>\n",
       "      <td>14070</td>\n",
       "    </tr>\n",
       "    <tr>\n",
       "      <td>2018-09-01</td>\n",
       "      <td>14581</td>\n",
       "    </tr>\n",
       "  </tbody>\n",
       "</table>\n",
       "</div>"
      ],
      "text/plain": [
       "                                     mb_used_sum\n",
       "user_id city      tariff month_year             \n",
       "1000    Краснодар ultra  2018-05-01         2256\n",
       "                         2018-06-01        23257\n",
       "                         2018-07-01        14016\n",
       "                         2018-08-01        14070\n",
       "                         2018-09-01        14581"
      ]
     },
     "metadata": {},
     "output_type": "display_data"
    }
   ],
   "source": [
    "internet_pivot = internet.pivot_table(index = ['user_id', 'city', 'tariff','month_year'], values = 'mb_used', aggfunc = 'sum')\n",
    "internet_pivot = internet_pivot.astype('Int64')\n",
    "internet_pivot.columns = ['mb_used_sum']\n",
    "display(internet_pivot.head())"
   ]
  },
  {
   "cell_type": "markdown",
   "metadata": {},
   "source": [
    "Объединим сводные таблицы в одну, которая будет содержать помесячную информацию о использовании тарифа каждым клиентом, город клиента и тип тарифа. <br>\n",
    "Получившиеся пропуски в таблице объясняются тем, что клиент не пользовался определенного вида услугой (к примеру, не отправлял смс) в определенный период времени. Данные пропуски заполним нулями. "
   ]
  },
  {
   "cell_type": "code",
   "execution_count": 10,
   "metadata": {},
   "outputs": [
    {
     "data": {
      "text/html": [
       "<div>\n",
       "<style scoped>\n",
       "    .dataframe tbody tr th:only-of-type {\n",
       "        vertical-align: middle;\n",
       "    }\n",
       "\n",
       "    .dataframe tbody tr th {\n",
       "        vertical-align: top;\n",
       "    }\n",
       "\n",
       "    .dataframe thead th {\n",
       "        text-align: right;\n",
       "    }\n",
       "</style>\n",
       "<table border=\"1\" class=\"dataframe\">\n",
       "  <thead>\n",
       "    <tr style=\"text-align: right;\">\n",
       "      <th></th>\n",
       "      <th>user_id</th>\n",
       "      <th>city</th>\n",
       "      <th>tariff</th>\n",
       "      <th>month_year</th>\n",
       "      <th>calls_sum</th>\n",
       "      <th>calls_count</th>\n",
       "      <th>messages_count</th>\n",
       "      <th>mb_used_sum</th>\n",
       "    </tr>\n",
       "  </thead>\n",
       "  <tbody>\n",
       "    <tr>\n",
       "      <td>0</td>\n",
       "      <td>1000</td>\n",
       "      <td>Краснодар</td>\n",
       "      <td>ultra</td>\n",
       "      <td>2018-05-01</td>\n",
       "      <td>159</td>\n",
       "      <td>22</td>\n",
       "      <td>22</td>\n",
       "      <td>2256</td>\n",
       "    </tr>\n",
       "    <tr>\n",
       "      <td>1</td>\n",
       "      <td>1000</td>\n",
       "      <td>Краснодар</td>\n",
       "      <td>ultra</td>\n",
       "      <td>2018-06-01</td>\n",
       "      <td>172</td>\n",
       "      <td>43</td>\n",
       "      <td>60</td>\n",
       "      <td>23257</td>\n",
       "    </tr>\n",
       "    <tr>\n",
       "      <td>2</td>\n",
       "      <td>1000</td>\n",
       "      <td>Краснодар</td>\n",
       "      <td>ultra</td>\n",
       "      <td>2018-07-01</td>\n",
       "      <td>340</td>\n",
       "      <td>47</td>\n",
       "      <td>75</td>\n",
       "      <td>14016</td>\n",
       "    </tr>\n",
       "    <tr>\n",
       "      <td>3</td>\n",
       "      <td>1000</td>\n",
       "      <td>Краснодар</td>\n",
       "      <td>ultra</td>\n",
       "      <td>2018-08-01</td>\n",
       "      <td>408</td>\n",
       "      <td>52</td>\n",
       "      <td>81</td>\n",
       "      <td>14070</td>\n",
       "    </tr>\n",
       "    <tr>\n",
       "      <td>4</td>\n",
       "      <td>1000</td>\n",
       "      <td>Краснодар</td>\n",
       "      <td>ultra</td>\n",
       "      <td>2018-09-01</td>\n",
       "      <td>466</td>\n",
       "      <td>58</td>\n",
       "      <td>57</td>\n",
       "      <td>14581</td>\n",
       "    </tr>\n",
       "  </tbody>\n",
       "</table>\n",
       "</div>"
      ],
      "text/plain": [
       "   user_id       city tariff month_year  calls_sum  calls_count  \\\n",
       "0     1000  Краснодар  ultra 2018-05-01        159           22   \n",
       "1     1000  Краснодар  ultra 2018-06-01        172           43   \n",
       "2     1000  Краснодар  ultra 2018-07-01        340           47   \n",
       "3     1000  Краснодар  ultra 2018-08-01        408           52   \n",
       "4     1000  Краснодар  ultra 2018-09-01        466           58   \n",
       "\n",
       "   messages_count  mb_used_sum  \n",
       "0              22         2256  \n",
       "1              60        23257  \n",
       "2              75        14016  \n",
       "3              81        14070  \n",
       "4              57        14581  "
      ]
     },
     "metadata": {},
     "output_type": "display_data"
    },
    {
     "name": "stdout",
     "output_type": "stream",
     "text": [
      "<class 'pandas.core.frame.DataFrame'>\n",
      "RangeIndex: 3174 entries, 0 to 3173\n",
      "Data columns (total 8 columns):\n",
      "user_id           3174 non-null int64\n",
      "city              3174 non-null object\n",
      "tariff            3174 non-null object\n",
      "month_year        3174 non-null datetime64[ns]\n",
      "calls_sum         3174 non-null Int64\n",
      "calls_count       3174 non-null Int64\n",
      "messages_count    3174 non-null Int64\n",
      "mb_used_sum       3174 non-null Int64\n",
      "dtypes: Int64(4), datetime64[ns](1), int64(1), object(2)\n",
      "memory usage: 210.9+ KB\n"
     ]
    }
   ],
   "source": [
    "data = calls_pivot.merge(messages_pivot, on = ['user_id', 'city', 'tariff', 'month_year'], how = 'left')\n",
    "data = data.merge(internet_pivot, on = ['user_id', 'city','tariff', 'month_year'], how = 'left')\n",
    "data = data.reset_index()\n",
    "data = data.fillna(0)\n",
    "display(data.head())\n",
    "data.info()"
   ]
  },
  {
   "cell_type": "markdown",
   "metadata": {},
   "source": [
    "Создадим функцию, которая в качестве параметра будет принимать строку датафрейма и возвращать доход с одного клиента за период в 1 месяц. Применим ее к датафрейму и на основе результатов создадим новый столбец."
   ]
  },
  {
   "cell_type": "code",
   "execution_count": 11,
   "metadata": {},
   "outputs": [
    {
     "data": {
      "text/html": [
       "<div>\n",
       "<style scoped>\n",
       "    .dataframe tbody tr th:only-of-type {\n",
       "        vertical-align: middle;\n",
       "    }\n",
       "\n",
       "    .dataframe tbody tr th {\n",
       "        vertical-align: top;\n",
       "    }\n",
       "\n",
       "    .dataframe thead th {\n",
       "        text-align: right;\n",
       "    }\n",
       "</style>\n",
       "<table border=\"1\" class=\"dataframe\">\n",
       "  <thead>\n",
       "    <tr style=\"text-align: right;\">\n",
       "      <th></th>\n",
       "      <th>user_id</th>\n",
       "      <th>city</th>\n",
       "      <th>tariff</th>\n",
       "      <th>month_year</th>\n",
       "      <th>calls_sum</th>\n",
       "      <th>calls_count</th>\n",
       "      <th>messages_count</th>\n",
       "      <th>mb_used_sum</th>\n",
       "      <th>income</th>\n",
       "    </tr>\n",
       "  </thead>\n",
       "  <tbody>\n",
       "    <tr>\n",
       "      <td>0</td>\n",
       "      <td>1000</td>\n",
       "      <td>Краснодар</td>\n",
       "      <td>ultra</td>\n",
       "      <td>2018-05-01</td>\n",
       "      <td>159</td>\n",
       "      <td>22</td>\n",
       "      <td>22</td>\n",
       "      <td>2256</td>\n",
       "      <td>1950</td>\n",
       "    </tr>\n",
       "    <tr>\n",
       "      <td>1</td>\n",
       "      <td>1000</td>\n",
       "      <td>Краснодар</td>\n",
       "      <td>ultra</td>\n",
       "      <td>2018-06-01</td>\n",
       "      <td>172</td>\n",
       "      <td>43</td>\n",
       "      <td>60</td>\n",
       "      <td>23257</td>\n",
       "      <td>1950</td>\n",
       "    </tr>\n",
       "    <tr>\n",
       "      <td>2</td>\n",
       "      <td>1000</td>\n",
       "      <td>Краснодар</td>\n",
       "      <td>ultra</td>\n",
       "      <td>2018-07-01</td>\n",
       "      <td>340</td>\n",
       "      <td>47</td>\n",
       "      <td>75</td>\n",
       "      <td>14016</td>\n",
       "      <td>1950</td>\n",
       "    </tr>\n",
       "    <tr>\n",
       "      <td>3</td>\n",
       "      <td>1000</td>\n",
       "      <td>Краснодар</td>\n",
       "      <td>ultra</td>\n",
       "      <td>2018-08-01</td>\n",
       "      <td>408</td>\n",
       "      <td>52</td>\n",
       "      <td>81</td>\n",
       "      <td>14070</td>\n",
       "      <td>1950</td>\n",
       "    </tr>\n",
       "    <tr>\n",
       "      <td>4</td>\n",
       "      <td>1000</td>\n",
       "      <td>Краснодар</td>\n",
       "      <td>ultra</td>\n",
       "      <td>2018-09-01</td>\n",
       "      <td>466</td>\n",
       "      <td>58</td>\n",
       "      <td>57</td>\n",
       "      <td>14581</td>\n",
       "      <td>1950</td>\n",
       "    </tr>\n",
       "    <tr>\n",
       "      <td>5</td>\n",
       "      <td>1000</td>\n",
       "      <td>Краснодар</td>\n",
       "      <td>ultra</td>\n",
       "      <td>2018-10-01</td>\n",
       "      <td>350</td>\n",
       "      <td>57</td>\n",
       "      <td>73</td>\n",
       "      <td>14717</td>\n",
       "      <td>1950</td>\n",
       "    </tr>\n",
       "    <tr>\n",
       "      <td>6</td>\n",
       "      <td>1000</td>\n",
       "      <td>Краснодар</td>\n",
       "      <td>ultra</td>\n",
       "      <td>2018-11-01</td>\n",
       "      <td>338</td>\n",
       "      <td>43</td>\n",
       "      <td>58</td>\n",
       "      <td>14768</td>\n",
       "      <td>1950</td>\n",
       "    </tr>\n",
       "    <tr>\n",
       "      <td>7</td>\n",
       "      <td>1000</td>\n",
       "      <td>Краснодар</td>\n",
       "      <td>ultra</td>\n",
       "      <td>2018-12-01</td>\n",
       "      <td>333</td>\n",
       "      <td>46</td>\n",
       "      <td>70</td>\n",
       "      <td>9827</td>\n",
       "      <td>1950</td>\n",
       "    </tr>\n",
       "    <tr>\n",
       "      <td>8</td>\n",
       "      <td>1001</td>\n",
       "      <td>Москва</td>\n",
       "      <td>smart</td>\n",
       "      <td>2018-11-01</td>\n",
       "      <td>430</td>\n",
       "      <td>59</td>\n",
       "      <td>0</td>\n",
       "      <td>18452</td>\n",
       "      <td>1350</td>\n",
       "    </tr>\n",
       "    <tr>\n",
       "      <td>9</td>\n",
       "      <td>1001</td>\n",
       "      <td>Москва</td>\n",
       "      <td>smart</td>\n",
       "      <td>2018-12-01</td>\n",
       "      <td>414</td>\n",
       "      <td>63</td>\n",
       "      <td>0</td>\n",
       "      <td>14053</td>\n",
       "      <td>550</td>\n",
       "    </tr>\n",
       "  </tbody>\n",
       "</table>\n",
       "</div>"
      ],
      "text/plain": [
       "   user_id       city tariff month_year  calls_sum  calls_count  \\\n",
       "0     1000  Краснодар  ultra 2018-05-01        159           22   \n",
       "1     1000  Краснодар  ultra 2018-06-01        172           43   \n",
       "2     1000  Краснодар  ultra 2018-07-01        340           47   \n",
       "3     1000  Краснодар  ultra 2018-08-01        408           52   \n",
       "4     1000  Краснодар  ultra 2018-09-01        466           58   \n",
       "5     1000  Краснодар  ultra 2018-10-01        350           57   \n",
       "6     1000  Краснодар  ultra 2018-11-01        338           43   \n",
       "7     1000  Краснодар  ultra 2018-12-01        333           46   \n",
       "8     1001     Москва  smart 2018-11-01        430           59   \n",
       "9     1001     Москва  smart 2018-12-01        414           63   \n",
       "\n",
       "   messages_count  mb_used_sum  income  \n",
       "0              22         2256    1950  \n",
       "1              60        23257    1950  \n",
       "2              75        14016    1950  \n",
       "3              81        14070    1950  \n",
       "4              57        14581    1950  \n",
       "5              73        14717    1950  \n",
       "6              58        14768    1950  \n",
       "7              70         9827    1950  \n",
       "8               0        18452    1350  \n",
       "9               0        14053     550  "
      ]
     },
     "metadata": {},
     "output_type": "display_data"
    }
   ],
   "source": [
    "def income(row):\n",
    "    tariff_name = row['tariff']\n",
    "    calls_min = row['calls_sum']\n",
    "    messages = row['messages_count']\n",
    "    mb_used = row['mb_used_sum']\n",
    "    c1 = 0\n",
    "    c2 = 0\n",
    "    c3 = 0\n",
    "    if tariff_name == 'smart':\n",
    "        if calls_min > 500:\n",
    "            c1 = 1\n",
    "        if messages > 50:\n",
    "            c2 = 1\n",
    "        if mb_used > 15360:\n",
    "            c3 = 1\n",
    "        result = 550 + c1*3*(calls_min - 500) + c2*3*(messages-50) + c3*200*math.ceil((mb_used - 15360) / 1024)    \n",
    "    else:\n",
    "        if calls_min > 3000:\n",
    "            c1 = 1\n",
    "        if messages > 1000:\n",
    "            c2 = 1\n",
    "        if mb_used > 30720:\n",
    "            c3 = 1\n",
    "        result = 1950 + c1*1*(calls_min - 500) + c2*1*(messages-50) + c3*150*math.ceil((mb_used - 15360) / 1024)   \n",
    "    return result    \n",
    "        \n",
    "data['income'] = data.apply(income, axis = 1) \n",
    "display(data.head(10))"
   ]
  },
  {
   "cell_type": "markdown",
   "metadata": {},
   "source": [
    "### Вывод\n",
    "Итоговая сводная таблица готова. все необходимые столбцы добавлены."
   ]
  },
  {
   "cell_type": "markdown",
   "metadata": {},
   "source": [
    "# 4. Анализ данных"
   ]
  },
  {
   "cell_type": "code",
   "execution_count": null,
   "metadata": {},
   "outputs": [],
   "source": [
    "smart_total = data.query('tariff == \"smart\"')\n",
    "ultra_total = data.query('tariff == \"ultra\"')\n",
    "print('Количество строк в итоговом датасете:',len(data))\n",
    "print('Количество строк в датасете для тарифа \"Смарт\":',len(smart_total))\n",
    "print('Количество строк в датасете для тарифа \"Ультра\":',len(ultra_total))"
   ]
  },
  {
   "cell_type": "code",
   "execution_count": 25,
   "metadata": {},
   "outputs": [
    {
     "name": "stdout",
     "output_type": "stream",
     "text": [
      "Количество строк в итоговом датасете: 3174\n",
      "Количество строк в датасете для тарифа \"Смарт\": 2223\n",
      "Количество строк в датасете для тарифа \"Ультра\": 951\n"
     ]
    }
   ],
   "source": [
    "moscow_total = data.query('city == \"Москва\"')\n",
    "regions_total = data.query('city != \"Москва\"')\n",
    "print('Количество строк в датасете для Москвы:',len(smart_total))\n",
    "print('Количество строк в датасете для регионов:',len(ultra_total))"
   ]
  },
  {
   "cell_type": "markdown",
   "metadata": {},
   "source": [
    "Найдем среднее, дисперсию и стандартное отклонение по выборкам для каждого типа тарифа по минутам, сообщениям и мегабайтам. "
   ]
  },
  {
   "cell_type": "code",
   "execution_count": 27,
   "metadata": {},
   "outputs": [
    {
     "name": "stdout",
     "output_type": "stream",
     "text": [
      "Кол-во строк для каждого тарифа:\n",
      "Smart: 2208\n",
      "Ultra: 940\n",
      "Среднее для каждого тарифа:\n",
      "Smart: 418.8641304347826\n",
      "Ultra: 548.3191489361702\n",
      "Дисперсия для каждого тарифа:\n",
      "Smart: 34008.89226965584\n",
      "Ultra: 89913.96832302358\n",
      "Стандартное отклонение для каждого тарифа:\n",
      "Smart: 184.4150001210743\n",
      "Ultra: 299.856579589349\n"
     ]
    },
    {
     "data": {
      "image/png": "[encoded data removed]",
      "text/plain": [
       "<Figure size 432x288 with 1 Axes>"
      ]
     },
     "metadata": {
      "needs_background": "light"
     },
     "output_type": "display_data"
    },
    {
     "data": {
      "text/plain": [
       "<matplotlib.collections.LineCollection at 0x7f55306dddd0>"
      ]
     },
     "execution_count": 27,
     "metadata": {},
     "output_type": "execute_result"
    },
    {
     "data": {
      "image/png": "[encoded data removed]",
      "text/plain": [
       "<Figure size 432x288 with 1 Axes>"
      ]
     },
     "metadata": {
      "needs_background": "light"
     },
     "output_type": "display_data"
    }
   ],
   "source": [
    "smart = smart_total.query('(calls_sum >= 10) and (calls_sum <= 1000)') \n",
    "ultra = ultra_total.query('(calls_sum >= 10) and (calls_sum <= 1500)') \n",
    "print('Кол-во строк для каждого тарифа:')\n",
    "print('Smart:',len(smart))\n",
    "print('Ultra:',len(ultra))\n",
    "\n",
    "smart_minutes_mean = smart['calls_sum'].mean()\n",
    "ultra_minutes_mean = ultra['calls_sum'].mean()\n",
    "print('Среднее для каждого тарифа:')\n",
    "print('Smart:',smart_minutes_mean)\n",
    "print('Ultra:',ultra_minutes_mean)\n",
    "\n",
    "smart_minutes_variance = np.var(smart['calls_sum'], ddof=1)\n",
    "ultra_minutes_variance = np.var(ultra['calls_sum'], ddof=1)\n",
    "print('Дисперсия для каждого тарифа:')\n",
    "print('Smart:',smart_minutes_variance)\n",
    "print('Ultra:',ultra_minutes_variance)\n",
    "\n",
    "smart_minutes_std = np.std(smart['calls_sum'], ddof=1)\n",
    "ultra_minutes_std = np.std(ultra['calls_sum'], ddof=1)\n",
    "print('Стандартное отклонение для каждого тарифа:')\n",
    "print('Smart:',smart_minutes_std)\n",
    "print('Ultra:',ultra_minutes_std)\n",
    "\n",
    "smart['calls_sum'].hist(bins = 30)\n",
    "plt.vlines(smart_minutes_mean, 0, 160, color = 'r', linestyle = 'dashed', linewidth = 2)\n",
    "plt.show()\n",
    "ultra['calls_sum'].hist(bins = 30)\n",
    "plt.vlines(smart_minutes_mean, 0, 60, color = 'r', linestyle = 'dashed', linewidth = 2)"
   ]
  },
  {
   "cell_type": "code",
   "execution_count": 35,
   "metadata": {},
   "outputs": [
    {
     "name": "stdout",
     "output_type": "stream",
     "text": [
      "Кол-во строк для каждого тарифа:\n",
      "Smart: 1915\n",
      "Ultra: 760\n",
      "Среднее для каждого тарифа:\n",
      "Smart: 38.69295039164491\n",
      "Ultra: 60.76842105263158\n",
      "Медиана для каждого тарифа:\n",
      "Smart: 34.0\n",
      "Ultra: 52.0\n",
      "Дисперсия для каждого тарифа:\n",
      "Smart: 713.8670087932536\n",
      "Ultra: 1935.2453782678037\n",
      "Стандартное отклонение для каждого тарифа:\n",
      "Smart: 26.718289780471608\n",
      "Ultra: 43.99142391725692\n"
     ]
    },
    {
     "data": {
      "image/png": "[encoded data removed]",
      "text/plain": [
       "<Figure size 432x288 with 1 Axes>"
      ]
     },
     "metadata": {
      "needs_background": "light"
     },
     "output_type": "display_data"
    },
    {
     "data": {
      "image/png": "[encoded data removed]",
      "text/plain": [
       "<Figure size 432x288 with 1 Axes>"
      ]
     },
     "metadata": {
      "needs_background": "light"
     },
     "output_type": "display_data"
    },
    {
     "data": {
      "image/png": "[encoded data removed]",
      "text/plain": [
       "<Figure size 432x288 with 1 Axes>"
      ]
     },
     "metadata": {
      "needs_background": "light"
     },
     "output_type": "display_data"
    },
    {
     "data": {
      "image/png": "[encoded data removed]",
      "text/plain": [
       "<Figure size 432x288 with 1 Axes>"
      ]
     },
     "metadata": {
      "needs_background": "light"
     },
     "output_type": "display_data"
    }
   ],
   "source": [
    "smart = smart_total.query('(messages_count > 0) and (messages_count <= 140)') \n",
    "ultra = ultra_total.query('(messages_count > 0) and (messages_count <= 200)') \n",
    "print('Кол-во строк для каждого тарифа:')\n",
    "print('Smart:',len(smart))\n",
    "print('Ultra:',len(ultra))\n",
    "\n",
    "smart_messages_mean = smart['messages_count'].mean()\n",
    "ultra_messages_mean = ultra['messages_count'].mean()\n",
    "print('Среднее для каждого тарифа:')\n",
    "print('Smart:',smart_messages_mean)\n",
    "print('Ultra:',ultra_messages_mean)\n",
    "\n",
    "smart_messages_median = smart['messages_count'].median()\n",
    "ultra_messages_median = ultra['messages_count'].median()\n",
    "print('Медиана для каждого тарифа:')\n",
    "print('Smart:',smart_messages_median)\n",
    "print('Ultra:',ultra_messages_median)\n",
    "\n",
    "smart_messages_variance = np.var(smart['messages_count'], ddof=1)\n",
    "ultra_messages_variance = np.var(ultra['messages_count'], ddof=1)\n",
    "print('Дисперсия для каждого тарифа:')\n",
    "print('Smart:',smart_messages_variance)\n",
    "print('Ultra:',ultra_messages_variance)\n",
    "\n",
    "smart_messages_std = np.std(smart['messages_count'], ddof=1)\n",
    "ultra_messages_std = np.std(ultra['messages_count'], ddof=1)\n",
    "print('Стандартное отклонение для каждого тарифа:')\n",
    "print('Smart:',smart_messages_std)\n",
    "print('Ultra:',ultra_messages_std)\n",
    "\n",
    "smart['messages_count'].hist(bins = 15)\n",
    "plt.vlines(smart_messages_mean, 0, 250, color = 'r', linestyle = 'dashed', linewidth = 2)\n",
    "plt.vlines(smart_messages_median, 0, 250, color = 'y', linestyle = 'dashed', linewidth = 2)\n",
    "plt.show()\n",
    "plt.boxplot(smart['messages_count'])\n",
    "plt.show()\n",
    "\n",
    "ultra['messages_count'].hist(bins = 15)\n",
    "plt.vlines(ultra_messages_mean, 0, 100, color = 'r', linestyle = 'dashed', linewidth = 2)\n",
    "plt.vlines(ultra_messages_median, 0, 100, color = 'y', linestyle = 'dashed', linewidth = 2)\n",
    "plt.show()\n",
    "plt.boxplot(ultra['messages_count'])\n",
    "plt.show()"
   ]
  },
  {
   "cell_type": "markdown",
   "metadata": {},
   "source": [
    "### Анализ интернет-траффика"
   ]
  },
  {
   "cell_type": "code",
   "execution_count": 29,
   "metadata": {},
   "outputs": [
    {
     "name": "stdout",
     "output_type": "stream",
     "text": [
      "Кол-во строк для каждого тарифа:\n",
      "Smart: 2215\n",
      "Ultra: 940\n",
      "Среднее для каждого тарифа:\n",
      "Smart: 16189.894356659142\n",
      "Ultra: 19708.508510638298\n",
      "Дисперсия для каждого тарифа:\n",
      "Smart: 33381299.265257202\n",
      "Ultra: 99443831.9882129\n",
      "Стандартное отклонение для каждого тарифа:\n",
      "Smart: 5777.655170158323\n",
      "Ultra: 9972.15282615609\n"
     ]
    },
    {
     "data": {
      "image/png": "[encoded data removed]",
      "text/plain": [
       "<Figure size 432x288 with 1 Axes>"
      ]
     },
     "metadata": {
      "needs_background": "light"
     },
     "output_type": "display_data"
    },
    {
     "data": {
      "text/plain": [
       "<matplotlib.collections.LineCollection at 0x7f552ff37710>"
      ]
     },
     "execution_count": 29,
     "metadata": {},
     "output_type": "execute_result"
    },
    {
     "data": {
      "image/png": "[encoded data removed]",
      "text/plain": [
       "<Figure size 432x288 with 1 Axes>"
      ]
     },
     "metadata": {
      "needs_background": "light"
     },
     "output_type": "display_data"
    }
   ],
   "source": [
    "smart = smart_total.query('(mb_used_sum > 0) and (mb_used_sum <= 35000)') \n",
    "ultra = ultra_total.query('(mb_used_sum > 0) and (mb_used_sum <= 50000)') \n",
    "print('Кол-во строк для каждого тарифа:')\n",
    "print('Smart:',len(smart))\n",
    "print('Ultra:',len(ultra))\n",
    "\n",
    "smart_mb_mean = smart['mb_used_sum'].mean()\n",
    "ultra_mb_mean = ultra['mb_used_sum'].mean()\n",
    "print('Среднее для каждого тарифа:')\n",
    "print('Smart:',smart_mb_mean)\n",
    "print('Ultra:',ultra_mb_mean)\n",
    "\n",
    "smart_mb_variance = np.var(smart['mb_used_sum'], ddof=1)\n",
    "ultra_mb_variance = np.var(ultra['mb_used_sum'], ddof=1)\n",
    "print('Дисперсия для каждого тарифа:')\n",
    "print('Smart:',smart_mb_variance)\n",
    "print('Ultra:',ultra_mb_variance)\n",
    "\n",
    "smart_mb_std = np.std(smart['mb_used_sum'], ddof=1)\n",
    "ultra_mb_std = np.std(ultra['mb_used_sum'], ddof=1)\n",
    "print('Стандартное отклонение для каждого тарифа:')\n",
    "print('Smart:',smart_mb_std)\n",
    "print('Ultra:',ultra_mb_std)\n",
    "\n",
    "smart['mb_used_sum'].hist(bins = 30)\n",
    "plt.vlines(smart_mb_mean, 0, 200, color = 'r', linestyle = 'dashed', linewidth = 2)\n",
    "plt.show()\n",
    "ultra['mb_used_sum'].hist(bins = 30)\n",
    "plt.vlines(ultra_mb_mean, 0, 70, color = 'r', linestyle = 'dashed', linewidth = 2)"
   ]
  },
  {
   "cell_type": "code",
   "execution_count": 37,
   "metadata": {},
   "outputs": [
    {
     "name": "stdout",
     "output_type": "stream",
     "text": [
      "Годовой доход с пользователей тарифа \"Смарт\": 2880051\n",
      "Годовой доход с пользователей тарифа \"Ультра\": 2258400\n"
     ]
    }
   ],
   "source": [
    "print('Годовой доход с пользователей тарифа \"Смарт\":',smart_total['income'].sum())\n",
    "print('Годовой доход с пользователей тарифа \"Ультра\":',ultra_total['income'].sum())"
   ]
  },
  {
   "cell_type": "markdown",
   "metadata": {},
   "source": [
    "### Вывод\n",
    "- среднее по количеству минут, количеству смс и использованных мегабайтов больше у представителей тарифа \"Ультра\"\n",
    "- стандартное отклонение во всех случаях для \"Ультра\" больше, чем для \"Смарт\", следовательно получившиеся средние для \"Ультра можно считать менее надежными\n",
    "- гистограммы для \"Ультра\" получаются более шумными в связи с тем, что данных по этому тарифу в 2-2,5 раза меньше\n",
    "- гистограммы для смс скошенны вправо \n",
    "- графики для звонков и расхода интернета по тарифу \"Смарт\" хорошо визуализируют нормальное распределение\n",
    "- по каждому параметру представители тарифа \"Ультра\" расходуют больше ресурсов, так как на гистограммах мы видим больший размах значений"
   ]
  },
  {
   "cell_type": "markdown",
   "metadata": {},
   "source": [
    "# 5. Проверка гипотез"
   ]
  },
  {
   "cell_type": "markdown",
   "metadata": {},
   "source": [
    "- средняя выручка пользователей тарифов «Ультра» и «Смарт» различается;\n",
    "- средняя выручка пользователей из Москвы отличается от выручки пользователей из других регионов;"
   ]
  },
  {
   "cell_type": "markdown",
   "metadata": {},
   "source": [
    "Нулевая гипотеза:\n",
    "- средняя выручка пользователей тарифов «Ультра» и «Смарт» равна;\n",
    "- средняя выручка пользователей из Москвы равна выручке пользователей из других регионов"
   ]
  },
  {
   "cell_type": "markdown",
   "metadata": {},
   "source": [
    "Альтернативная гипотеза:\n",
    "- средняя выручка пользователей тарифа «Ультра» не равна средней выручке пользователей тарифа «Смарт»\n",
    "- средняя выручка пользователей из Москвы не равна средней выручке пользователей из других регионов"
   ]
  },
  {
   "cell_type": "markdown",
   "metadata": {},
   "source": [
    "**Проверка первой гипотезы**"
   ]
  },
  {
   "cell_type": "code",
   "execution_count": 16,
   "metadata": {},
   "outputs": [
    {
     "name": "stdout",
     "output_type": "stream",
     "text": [
      "p-значение: 4.877066636375272e-179\n",
      "Отвергаем нулевую гипотезу\n"
     ]
    }
   ],
   "source": [
    "alpha = 0.05\n",
    "\n",
    "results = st.ttest_ind(smart_total['income'], ultra_total['income'])\n",
    "\n",
    "print('p-значение:', results.pvalue)\n",
    "\n",
    "if (results.pvalue < alpha):\n",
    "    print(\"Отвергаем нулевую гипотезу\")\n",
    "else:\n",
    "    print(\"Не получилось отвергнуть нулевую гипотезу\")"
   ]
  },
  {
   "cell_type": "markdown",
   "metadata": {},
   "source": [
    "**Проверка второй гипотезы**"
   ]
  },
  {
   "cell_type": "code",
   "execution_count": 17,
   "metadata": {},
   "outputs": [
    {
     "name": "stdout",
     "output_type": "stream",
     "text": [
      "p-значение: 0.07339985193631597\n",
      "Не получилось отвергнуть нулевую гипотезу\n"
     ]
    }
   ],
   "source": [
    "results = st.ttest_ind(moscow_total['income'], regions_total['income'])\n",
    "\n",
    "print('p-значение:', results.pvalue)\n",
    "\n",
    "if (results.pvalue < alpha):\n",
    "    print(\"Отвергаем нулевую гипотезу\")\n",
    "else:\n",
    "    print(\"Не получилось отвергнуть нулевую гипотезу\")"
   ]
  },
  {
   "cell_type": "markdown",
   "metadata": {},
   "source": [
    "Гипотезу о том, что средние выручки пользователей тарифов «Ультра» и «Смарт» равны мы отвергаем. <br>\n",
    "Гипотезу о том, что средняя выручка пользователей из Москвы равна выручке пользователей из других регионов, мы не отвергаем, ведь с вероятностью 7,3% среднее двух генеральных совокупностей по Москве и по регионам могут быть равны."
   ]
  },
  {
   "cell_type": "markdown",
   "metadata": {},
   "source": [
    "### 6. Общий вывод"
   ]
  },
  {
   "cell_type": "markdown",
   "metadata": {},
   "source": [
    "- На основе проведенного анализа мы не можем однозначно ответить на вопрос, какой тариф лучше. Мы отвергли гипотезу о том, что выручка у двух тарифов равна. Значит, есть смысл говорить о том, что один из тарифов \"грязными\" приносит больше. О чистой прибыли мы судить не можем. <br>\n",
    "- С точки зрения клиентов, право на существование имеют оба тарифа, так как \"Смарт\" представляет сегмент базовых тарифов, большинство пользователей которого не хотят тратить много на связь и не используют большой траффик. А тариф \"Ультра\" используют люди, которые в среднем звонят, отправляют смс и используют интернет в больших количествах. <br>\n",
    "- Что касатеся данной выборки, пользователи тарифа \"Смарт\" принесли больше выручки\n",
    "- Для более корректного вывода о том, зависит ли выручка пользователей от региона слудует взять стратифицированную выборку. Возможно, это изменит результаты исследования."
   ]
  }
 ],
 "metadata": {
  "kernelspec": {
   "display_name": "Python 3",
   "language": "python",
   "name": "python3"
  },
  "language_info": {
   "codemirror_mode": {
    "name": "ipython",
    "version": 3
   },
   "file_extension": ".py",
   "mimetype": "text/x-python",
   "name": "python",
   "nbconvert_exporter": "python",
   "pygments_lexer": "ipython3",
   "version": "3.8.3"
  }
 },
 "nbformat": 4,
 "nbformat_minor": 2
}
