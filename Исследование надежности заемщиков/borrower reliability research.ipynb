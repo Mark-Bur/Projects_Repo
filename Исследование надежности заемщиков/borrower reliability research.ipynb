{
 "cells": [
  {
   "cell_type": "markdown",
   "metadata": {},
   "source": [
    "<font color='blue'> \n",
    "### <u>КОММЕНТАРИЙ РЕВЬЮЕРА</u>\n",
    "</font>\n",
    "\n",
    "<font color='blue'>\n",
    "<br />\n",
    "МАРК, рад приветствовать ВАС! <br />\n",
    "<br />    \n",
    "\n",
    "<br />\n",
    "Меня зовут Николай. <br />И на этом этапе Вашего движения к новой профессии от меня будут комментарии по написанному коду. <br />Чтобы меньше \"мусорить эфир\" и чтобы максимально наглядно отделяться от основного кода, есть предложение условиться в некоторых обозначениях:<br /> <br />\n",
    "<u><b>ТАКОЙ ШРИФТ</b></u> - всегда начало комментария <br />\n",
    "<font color='green'>такой шрифт</font> - комментарии о том, что всё ОК <br/>\n",
    "<font color='orange'>такой шрифт</font> - комментарии о том, что всё ОК по результату,<br> однако есть на что обратить внимание в плане применения техник, или есть способы сделать более короткий или быстрый код <br/>\n",
    "<font color='red'>такой шрифт</font> - комментарии о том, что есть критичный момент, влияющий на бизнес-результат проекта.<br/>\n",
    "</font><br /><br />\n",
    "<font color='green'>Моей целью является не \"уличить\" в не знании, а просто высказать сверху Ваших знаний - свой опыт, что бы Вы могли использовать его для Вашего дальнейшего успеха)\n",
    "<br>\n",
    "</font>\n",
    "<br>\n",
    "\n",
    "</font>"
   ]
  },
  {
   "cell_type": "markdown",
   "metadata": {},
   "source": [
    "## Исследование надёжности заёмщиков\n",
    "\n",
    "Заказчик — кредитный отдел банка. Нужно разобраться, влияет ли семейное положение и количество детей клиента на факт погашения кредита в срок. Входные данные от банка — статистика о платёжеспособности клиентов.\n",
    "\n",
    "Результаты исследования будут учтены при построении модели **кредитного скоринга** — специальной системы, которая оценивает способность потенциального заёмщика вернуть кредит банку."
   ]
  },
  {
   "cell_type": "markdown",
   "metadata": {},
   "source": [
    "### Шаг 1. Откройте файл с данными и изучите общую информацию. "
   ]
  },
  {
   "cell_type": "code",
   "execution_count": 1,
   "metadata": {},
   "outputs": [
    {
     "name": "stdout",
     "output_type": "stream",
     "text": [
      "<class 'pandas.core.frame.DataFrame'>\n",
      "RangeIndex: 21525 entries, 0 to 21524\n",
      "Data columns (total 12 columns):\n",
      "children            21525 non-null int64\n",
      "days_employed       19351 non-null float64\n",
      "dob_years           21525 non-null int64\n",
      "education           21525 non-null object\n",
      "education_id        21525 non-null int64\n",
      "family_status       21525 non-null object\n",
      "family_status_id    21525 non-null int64\n",
      "gender              21525 non-null object\n",
      "income_type         21525 non-null object\n",
      "debt                21525 non-null int64\n",
      "total_income        19351 non-null float64\n",
      "purpose             21525 non-null object\n",
      "dtypes: float64(2), int64(5), object(5)\n",
      "memory usage: 2.0+ MB\n",
      "   children  days_employed  dob_years education  education_id  \\\n",
      "0         1   -8437.673028         42    высшее             0   \n",
      "1         1   -4024.803754         36   среднее             1   \n",
      "2         0   -5623.422610         33   Среднее             1   \n",
      "3         3   -4124.747207         32   среднее             1   \n",
      "4         0  340266.072047         53   среднее             1   \n",
      "\n",
      "      family_status  family_status_id gender income_type  debt   total_income  \\\n",
      "0   женат / замужем                 0      F   сотрудник     0  253875.639453   \n",
      "1   женат / замужем                 0      F   сотрудник     0  112080.014102   \n",
      "2   женат / замужем                 0      M   сотрудник     0  145885.952297   \n",
      "3   женат / замужем                 0      M   сотрудник     0  267628.550329   \n",
      "4  гражданский брак                 1      F   пенсионер     0  158616.077870   \n",
      "\n",
      "                      purpose  \n",
      "0               покупка жилья  \n",
      "1     приобретение автомобиля  \n",
      "2               покупка жилья  \n",
      "3  дополнительное образование  \n",
      "4             сыграть свадьбу  \n"
     ]
    }
   ],
   "source": [
    "import pandas as pd\n",
    "df = pd.read_csv('/datasets/data.csv')\n",
    "df.info()\n",
    "print(df.head())"
   ]
  },
  {
   "cell_type": "markdown",
   "metadata": {},
   "source": [
    "### Вывод"
   ]
  },
  {
   "cell_type": "markdown",
   "metadata": {},
   "source": [
    "В столбцах 'days_employed' и 'total_income' имеются пропуски. В столбцах 'children' и 'days_employed' имеются нетипичные значения. В стобцах 'days_employed' и 'total_income' - вещественный тип данных.  "
   ]
  },
  {
   "cell_type": "markdown",
   "metadata": {},
   "source": [
    "### Шаг 2. Предобработка данных"
   ]
  },
  {
   "cell_type": "markdown",
   "metadata": {},
   "source": [
    "### Выявление и устранение артефактов"
   ]
  },
  {
   "cell_type": "markdown",
   "metadata": {},
   "source": [
    "Приведем все строки к нижнему регистру."
   ]
  },
  {
   "cell_type": "code",
   "execution_count": 2,
   "metadata": {},
   "outputs": [],
   "source": [
    "df['education'] = df['education'].str.lower()\n",
    "df['family_status'] = df['family_status'].str.lower()\n",
    "df['gender'] = df['gender'].str.lower()\n",
    "df['purpose'] = df['purpose'].str.lower()"
   ]
  },
  {
   "cell_type": "markdown",
   "metadata": {},
   "source": [
    "Выясним, какие артефакты есть в таблице:"
   ]
  },
  {
   "cell_type": "code",
   "execution_count": 3,
   "metadata": {},
   "outputs": [
    {
     "name": "stdout",
     "output_type": "stream",
     "text": [
      "Пол:\n",
      " f      14236\n",
      "m       7288\n",
      "xna        1\n",
      "Name: gender, dtype: int64\n",
      "Максимальный возраст: 75\n",
      "Минимальный возраст: 0\n"
     ]
    }
   ],
   "source": [
    "print('Пол:\\n',df['gender'].value_counts())\n",
    "print('Максимальный возраст:',df['dob_years'].max())\n",
    "print('Минимальный возраст:',df['dob_years'].min())"
   ]
  },
  {
   "cell_type": "markdown",
   "metadata": {},
   "source": [
    "Артефакты - пол \"xna\" и нулевой возраст."
   ]
  },
  {
   "cell_type": "markdown",
   "metadata": {},
   "source": [
    "Поскольку лица младше 18 лет не могут получить кредит, уберем их из списка данных. Также удалим строку, где 'gender' = 'xna' (индекс этой строки - 10701)"
   ]
  },
  {
   "cell_type": "code",
   "execution_count": 4,
   "metadata": {},
   "outputs": [
    {
     "name": "stdout",
     "output_type": "stream",
     "text": [
      "Количесвто несовершеннолетних: 101\n",
      "Количество удаленных строк: 102\n",
      "f    14164\n",
      "m     7259\n",
      "Name: gender, dtype: int64\n",
      "Минимальный возраст: 19\n"
     ]
    }
   ],
   "source": [
    "print('Количесвто несовершеннолетних:',len(df[df['dob_years'] < 18]))\n",
    "l = len(df)\n",
    "df = df.drop(index = 10701)\n",
    "data1 = df[df['dob_years'] >= 18].reset_index(drop = True)\n",
    "print('Количество удаленных строк:',l-len(data1))\n",
    "print(data1['gender'].value_counts())\n",
    "print('Минимальный возраст:',data1['dob_years'].min())"
   ]
  },
  {
   "cell_type": "markdown",
   "metadata": {},
   "source": [
    "Обработаем столбец 'days_employed':"
   ]
  },
  {
   "cell_type": "code",
   "execution_count": 5,
   "metadata": {},
   "outputs": [
    {
     "name": "stdout",
     "output_type": "stream",
     "text": [
      "Количесвто строк с трудовым стажем < 0: 15831\n",
      "Количество строк с трудовым стажем, большим, чем годы жизни: 3428\n",
      "Количество пустых значений в стобце 'days_employed' 2164\n",
      "Сумма вышеназванных значений: 21423\n",
      "Их процент от всех значений в столбце: 100.0%\n"
     ]
    }
   ],
   "source": [
    "count1 = len(data1[data1['days_employed'] < 0])\n",
    "count2 = len(data1[data1['days_employed']/365 >= data1['dob_years']])\n",
    "count3 = data1['days_employed'].isna().sum()\n",
    "print('Количесвто строк с трудовым стажем < 0:', count1)\n",
    "print('Количество строк с трудовым стажем, большим, чем годы жизни:', count2)\n",
    "print(\"Количество пустых значений в стобце 'days_employed'\", count3)\n",
    "print('Сумма вышеназванных значений:', count1 + count2 + count3)\n",
    "print('Их процент от всех значений в столбце: {:.1%}'.format((count1 + count2 + count3)/len(data1)))"
   ]
  },
  {
   "cell_type": "markdown",
   "metadata": {},
   "source": [
    "Из предыдущих расчетов ясно, что столбец 'days_employed' полностью непригоден для исследования, так как он состоит только из некорректных значений. "
   ]
  },
  {
   "cell_type": "markdown",
   "metadata": {},
   "source": [
    "<font color='blue'> \n",
    "### <u>КОММЕНТАРИЙ РЕВЬЮЕРА 2</u>\n",
    "</font>\n",
    "<font color='green'>\n",
    "МАРК, вот это сильный аргумент!!!!<br> \n",
    " отличный разбор)<br>\n",
    "    \n",
    "Можно было, конечно. предположить, что отрицательные значения - просто ошибка со знаком. И надо взять модуль...<br>\n",
    "Но сейчас я на Вашей стороне)"
   ]
  },
  {
   "cell_type": "markdown",
   "metadata": {},
   "source": [
    "### Вывод"
   ]
  },
  {
   "cell_type": "markdown",
   "metadata": {},
   "source": [
    "Были найдены и обработаны артефакты - пол \"xna\" и нулевой возраст. Столбец 'days_employed' содержит ошибки технического характера, появившиеся при некорректой выгрузке, либо при техническом сбое, либо при некорректной работе алгоритмов."
   ]
  },
  {
   "cell_type": "markdown",
   "metadata": {},
   "source": [
    "### Замена типов данных"
   ]
  },
  {
   "cell_type": "markdown",
   "metadata": {},
   "source": [
    "Заменим вещественный тип данных в таблице на целочисленный."
   ]
  },
  {
   "cell_type": "code",
   "execution_count": 6,
   "metadata": {},
   "outputs": [
    {
     "name": "stdout",
     "output_type": "stream",
     "text": [
      "Количество пропусков в каждом столбце:\n",
      "2164\n",
      "2164\n",
      "<class 'pandas.core.frame.DataFrame'>\n",
      "RangeIndex: 21423 entries, 0 to 21422\n",
      "Data columns (total 12 columns):\n",
      "children            21423 non-null int64\n",
      "days_employed       21423 non-null int64\n",
      "dob_years           21423 non-null int64\n",
      "education           21423 non-null object\n",
      "education_id        21423 non-null int64\n",
      "family_status       21423 non-null object\n",
      "family_status_id    21423 non-null int64\n",
      "gender              21423 non-null object\n",
      "income_type         21423 non-null object\n",
      "debt                21423 non-null int64\n",
      "total_income        21423 non-null int64\n",
      "purpose             21423 non-null object\n",
      "dtypes: int64(7), object(5)\n",
      "memory usage: 2.0+ MB\n",
      "   children  days_employed  dob_years education  education_id  \\\n",
      "0         1          -8437         42    высшее             0   \n",
      "1         1          -4024         36   среднее             1   \n",
      "2         0          -5623         33   среднее             1   \n",
      "3         3          -4124         32   среднее             1   \n",
      "4         0         340266         53   среднее             1   \n",
      "\n",
      "      family_status  family_status_id gender income_type  debt  total_income  \\\n",
      "0   женат / замужем                 0      f   сотрудник     0        253875   \n",
      "1   женат / замужем                 0      f   сотрудник     0        112080   \n",
      "2   женат / замужем                 0      m   сотрудник     0        145885   \n",
      "3   женат / замужем                 0      m   сотрудник     0        267628   \n",
      "4  гражданский брак                 1      f   пенсионер     0        158616   \n",
      "\n",
      "                      purpose  \n",
      "0               покупка жилья  \n",
      "1     приобретение автомобиля  \n",
      "2               покупка жилья  \n",
      "3  дополнительное образование  \n",
      "4             сыграть свадьбу  \n",
      "Количество нетипичных значений в каждом столбце:\n",
      "2164\n",
      "2164\n"
     ]
    }
   ],
   "source": [
    "#для корректной замены типов данных сначала заменим пропуски в столбцах на нетипичное значение\n",
    "#чтобы потом заполнить эти пропуски групповыми медианами, заранее исключив дубликаты\n",
    "print('Количество пропусков в каждом столбце:')\n",
    "print(data1['days_employed'].isna().sum())\n",
    "print(data1['total_income'].isna().sum())\n",
    "data1 = data1.fillna(-1)\n",
    "\n",
    "\n",
    "#замена типов данных\n",
    "data1['total_income'] = data1['total_income'].astype(int)\n",
    "data1['days_employed'] = data1['days_employed'].astype(int)\n",
    "data1.info()\n",
    "print(data1.head())\n",
    "\n",
    "print('Количество нетипичных значений в каждом столбце:')\n",
    "print(len(data1[data1['days_employed'] == -1]))\n",
    "print(len(data1[data1['total_income'] == -1]))"
   ]
  },
  {
   "cell_type": "markdown",
   "metadata": {},
   "source": [
    "### Вывод"
   ]
  },
  {
   "cell_type": "markdown",
   "metadata": {},
   "source": [
    "Для замены вещественных типов данных на целочисленные использовался метод .astype(), так как по сравнению с методом .to_numeric() есть возможность перевести данные в необходимый тип. <br>\n",
    "Заполнение пропусков не привели к искажению результатов. Так как количество пропусков до замены равно количеству нетипичных значений после замены. <br>\n",
    "Стоит обратить внимание на равное количество пропусков в столбцах 'days_employed' и 'total_income'."
   ]
  },
  {
   "cell_type": "markdown",
   "metadata": {},
   "source": []
  },
  {
   "cell_type": "markdown",
   "metadata": {},
   "source": [
    "<font color='blue'> \n",
    "### <u>КОММЕНТАРИЙ РЕВЬЮЕРА</u>\n",
    "</font>\n",
    "<font color='green'>\n",
    "ОК"
   ]
  },
  {
   "cell_type": "markdown",
   "metadata": {},
   "source": [
    "### Удаление дубликатов"
   ]
  },
  {
   "cell_type": "code",
   "execution_count": 7,
   "metadata": {},
   "outputs": [
    {
     "name": "stdout",
     "output_type": "stream",
     "text": [
      "Полных дубликатов в таблице: 71\n",
      "Полных дубликатов в таблице после удаления: 0\n",
      "Количество строк с нетипичными значениями после удаления дублей: 2093\n"
     ]
    }
   ],
   "source": [
    "print('Полных дубликатов в таблице:', data1.duplicated().sum())\n",
    "data1 = data1.drop_duplicates().reset_index(drop = True)\n",
    "print('Полных дубликатов в таблице после удаления:', data1.duplicated().sum())\n",
    "\n",
    "print('Количество строк с нетипичными значениями после удаления дублей:',len(data1[data1['days_employed'] == -1]))"
   ]
  },
  {
   "cell_type": "markdown",
   "metadata": {},
   "source": [
    "### Вывод"
   ]
  },
  {
   "cell_type": "markdown",
   "metadata": {},
   "source": [
    "В случае данной таблицы могут иметь место только полные дубликаты (те строки, значения в которых совпадают в каждом столбце).\n",
    "Возможные причины появление дубликатов: заявка в банк была отправлена несколько раз, либо же технический сбой. <br>\n",
    "Также стоит заметить, что все дубли содержались в строках где имелись пропуски в столбцах 'days_employed' и 'total_income', так как количество таких строк уменьшилось ровно на числоудаленных дубликатов."
   ]
  },
  {
   "cell_type": "markdown",
   "metadata": {},
   "source": [
    "### Обработка пропусков"
   ]
  },
  {
   "cell_type": "markdown",
   "metadata": {},
   "source": [
    "<font color='blue'> \n",
    "### <u>КОММЕНТАРИЙ РЕВЬЮЕРА</u>\n",
    "</font>\n",
    "<font color='orange'>\n",
    "обработка пропусков, всё-таки уже потом <br>\n",
    "    \n",
    "Обычно такая последовательность:<br>\n",
    "устранение артефактов ---> удаление дублей ----> заполнение пропусков\n",
    "<br>\n",
    "</font>"
   ]
  },
  {
   "cell_type": "markdown",
   "metadata": {},
   "source": [
    "Пропуски присутсвуют в двух стобцах: 'days_employed' и 'total_income'. Проверим, есть ли в этом взаимосвязь."
   ]
  },
  {
   "cell_type": "code",
   "execution_count": 8,
   "metadata": {},
   "outputs": [
    {
     "name": "stdout",
     "output_type": "stream",
     "text": [
      "Число строк с нетипичным значением в столбце 'days_employed': 2093\n",
      "Число строк с нетипичным значением в столбце 'total_income': 2093\n",
      "Число строк с нетипичным значением в обоих столбцах одновременно: 2093\n"
     ]
    }
   ],
   "source": [
    "print(\"Число строк с нетипичным значением в столбце 'days_employed':\", len(data1[data1['days_employed'] == -1]))\n",
    "print(\"Число строк с нетипичным значением в столбце 'total_income':\",len(data1[data1['total_income'] == -1]))\n",
    "print('Число строк с нетипичным значением в обоих столбцах одновременно:',\n",
    "      len(data1[(data1['days_employed'] == -1) & (data1['total_income'] == -1)]))"
   ]
  },
  {
   "cell_type": "markdown",
   "metadata": {},
   "source": [
    "\n",
    "Отсюда можно сделать вывод, что это неслучайные пропуски, и они связаны."
   ]
  },
  {
   "cell_type": "markdown",
   "metadata": {},
   "source": [
    "Заполним пропуски групповой медианой, посчитанной на основе типа занятости. Посчитаем медианы для каждого типа занятости."
   ]
  },
  {
   "cell_type": "code",
   "execution_count": 9,
   "metadata": {},
   "outputs": [
    {
     "name": "stdout",
     "output_type": "stream",
     "text": [
      "Медиана дохода для типа занятости \"сотрудник\" - 142594.0\n",
      "Медиана дохода для типа занятости \"компаньон\" - 172268.5\n",
      "Медиана дохода для типа занятости \"пенсионер\" - 118556.5\n",
      "Медиана дохода для типа занятости \"госслужащий\" - 150521.5\n",
      "Медиана дохода для типа занятости \"предприниматель\" - 499163.0\n",
      "\n",
      "\n",
      "Процент строк с пропуском от общего количества строк: 9.8%\n"
     ]
    }
   ],
   "source": [
    "median1 = data1[(data1['total_income'] != -1) & (data1['income_type'] == 'сотрудник')]['total_income'].median()\n",
    "print('Медиана дохода для типа занятости \"сотрудник\" -',median1)\n",
    "median2 = data1[(data1['total_income'] != -1) & (data1['income_type'] == 'компаньон')]['total_income'].median()\n",
    "print('Медиана дохода для типа занятости \"компаньон\" -',median2)\n",
    "median3 = data1[(data1['total_income'] != -1) & (data1['income_type'] == 'пенсионер')]['total_income'].median()\n",
    "print('Медиана дохода для типа занятости \"пенсионер\" -',median3)\n",
    "median4 = data1[(data1['total_income'] != -1) & (data1['income_type'] == 'госслужащий')]['total_income'].median()\n",
    "print('Медиана дохода для типа занятости \"госслужащий\" -',median4)\n",
    "median5 = data1[(data1['total_income'] != -1) & (data1['income_type'] == 'предприниматель')]['total_income'].median()\n",
    "print('Медиана дохода для типа занятости \"предприниматель\" -',median5)\n",
    "print('\\n')\n",
    "print('Процент строк с пропуском от общего количества строк: {:.1%}'.format(len(data1[data1['total_income'] == -1]) / len(data1)))"
   ]
  },
  {
   "cell_type": "markdown",
   "metadata": {},
   "source": [
    "Основываясь на данных, полученных выше, можно сделать вывод, что удаление строк с некорректными значениями внесет меньше ошибок в результат, чем заменять значения медианами."
   ]
  },
  {
   "cell_type": "markdown",
   "metadata": {},
   "source": [
    "<font color='blue'> \n",
    "### <u>КОММЕНТАРИЙ РЕВЬЮЕРА</u>\n",
    "</font>\n",
    "<font color='orange'>    \n",
    "с 0 в \"днях работы\" и в \"ежемесячном доходе\" - на большое обсуждение<br>\n",
    "1) чтобы на что-либо заменять нужны основания, аргументация (кстати Вы верно подметили, что пропуски симметричные - это знак для хранителей баз))))<br>\n",
    "2) Тут нули будут слишком большим искажением реальной картины.<br>\n",
    "Вариант: или удалять, или медиана<br>\n",
    "3) Если медиана, то надо подумать какая: по всей выборке, или групповая. Ну, т.е. к какой группе относится пропуск, по этой же группе брать и медиану.<br>\n",
    "например: пропуск ежемеясного дохода клиента заменять медианой на основе группы такой - его возрастной группы, типа занятости и образование\n",
    "\n",
    "    \n",
    "Что такое заполнение пропусков - это собственноручное внесение ошибок в результаты будущих анализов).<br>\n",
    "И в этом деле надо выбирать, в каком случае ошибка в анализе будет меньшей: если что-нибудь вставить, или если оставить как есть?<br>\n",
    "\n",
    "Замена на 0 - это большое искажение нашей базы(((\n",
    "<br>\n",
    "</font>\n",
    "<br>\n",
    "</font>"
   ]
  },
  {
   "cell_type": "code",
   "execution_count": 10,
   "metadata": {},
   "outputs": [
    {
     "name": "stdout",
     "output_type": "stream",
     "text": [
      " 0     14021\n",
      " 1      4792\n",
      " 2      2039\n",
      " 3       328\n",
      " 20       75\n",
      "-1        47\n",
      " 4        41\n",
      " 5         9\n",
      "Name: children, dtype: int64\n"
     ]
    }
   ],
   "source": [
    "print(data1['children'].value_counts())"
   ]
  },
  {
   "cell_type": "markdown",
   "metadata": {},
   "source": [
    "Количество строк, где параметр 'children' = 20 равно 75. Такое количество семей с количеством детей равном 20 свидетельствует о некорректном сборе данных. Заполним эти пропуски нетипичным значением \"-1\" и обработаем их в дальнейшем."
   ]
  },
  {
   "cell_type": "code",
   "execution_count": 11,
   "metadata": {},
   "outputs": [
    {
     "name": "stdout",
     "output_type": "stream",
     "text": [
      " 0    14021\n",
      " 1     4792\n",
      " 2     2039\n",
      " 3      328\n",
      "-1      122\n",
      " 4       41\n",
      " 5        9\n",
      "Name: children, dtype: int64\n"
     ]
    }
   ],
   "source": [
    "def change(children):\n",
    "    if children == 20:\n",
    "        return -1\n",
    "    return children\n",
    "\n",
    "data1['children'] = data1['children'].apply(change)\n",
    "print(data1['children'].value_counts())"
   ]
  },
  {
   "cell_type": "markdown",
   "metadata": {},
   "source": [
    "Удалим строки со значением -1 в столбцах 'days_employed' и 'total_income'."
   ]
  },
  {
   "cell_type": "code",
   "execution_count": 12,
   "metadata": {},
   "outputs": [
    {
     "name": "stdout",
     "output_type": "stream",
     "text": [
      "19259\n"
     ]
    }
   ],
   "source": [
    "data = data1[(data1['days_employed'] != -1) & (data1['total_income'] != -1)]\n",
    "print(len(data))"
   ]
  },
  {
   "cell_type": "markdown",
   "metadata": {},
   "source": [
    "### Вывод"
   ]
  },
  {
   "cell_type": "markdown",
   "metadata": {},
   "source": [
    "Пропуски удалены. Были встречены неслучайные пропуски и ошибки в сборе данных. \n"
   ]
  },
  {
   "cell_type": "markdown",
   "metadata": {},
   "source": [
    "<font color='blue'> \n",
    "### <u>КОММЕНТАРИЙ РЕВЬЮЕРА</u>\n",
    "</font>\n",
    "<font color='orange'>\n",
    "Марк, да я и сам такой - стараюсь не делать лишней работы))))<br>\n",
    "    \n",
    "Но этот проект - обучающий, поэтому, всё-таки, важно просмотреть все возможные \"косяки\" данных<br>\n",
    "В этом-то и весь \"цимус\", как говорится. <br>\n",
    "1) отрицательный стаж, стаж в 1100 лет<br>\n",
    "2) пол, образование<br>\n",
    "3) нулевой возраст...<br>\n",
    "    \n",
    "В общем много тут есть. И в таких проектах это надо увидеть))))<br>\n",
    "<br>\n",
    "</font>"
   ]
  },
  {
   "cell_type": "markdown",
   "metadata": {},
   "source": [
    "### Обработка дубликатов"
   ]
  },
  {
   "cell_type": "markdown",
   "metadata": {},
   "source": [
    "Проверим, не появились ли новые дубликаты после заполнения пропусков:"
   ]
  },
  {
   "cell_type": "markdown",
   "metadata": {},
   "source": [
    "Найдем полные дубликаты:"
   ]
  },
  {
   "cell_type": "code",
   "execution_count": 13,
   "metadata": {},
   "outputs": [
    {
     "name": "stdout",
     "output_type": "stream",
     "text": [
      "Полных дубликатов в таблице: 0\n"
     ]
    }
   ],
   "source": [
    "print('Полных дубликатов в таблице:', data.duplicated().sum())"
   ]
  },
  {
   "cell_type": "markdown",
   "metadata": {},
   "source": [
    "<font color='blue'> \n",
    "### <u>КОММЕНТАРИЙ РЕВЬЮЕРА</u>\n",
    "</font>\n",
    "<font color='green'>\n",
    "здесь -ОК, согласен)"
   ]
  },
  {
   "cell_type": "markdown",
   "metadata": {},
   "source": [
    "### Вывод"
   ]
  },
  {
   "cell_type": "markdown",
   "metadata": {},
   "source": [
    "Дубликаты не появились."
   ]
  },
  {
   "cell_type": "markdown",
   "metadata": {},
   "source": [
    "<font color='blue'> \n",
    "### <u>КОММЕНТАРИЙ РЕВЬЮЕРА</u>\n",
    "</font>\n",
    "<font color='orange'>\n",
    "С дубликатами - ок, здорово. Отмечу только \n",
    "Вопрос по последовательность действий:<br>\n",
    "Что было сделано:<br>\n",
    "сначала проведена работа с пропусками (допустим если бы вставили медиану), а теперь - дубликаты..<br>\n",
    "Скорее всего, логичнее действовать так:<br>\n",
    "1) провести усиленную борьбу с артефактами( в данной работе это пол, дети, нулевой возраст, отрицательный стаж..)<br>\n",
    "2) удалить дубликаты<br>\n",
    "3) провести работу с пропусками<br>\n",
    "    \n",
    "В такой последовательности замена пропуском будет без дополнительных смещений за счёт дублей\n",
    "<br>\n",
    "</font>"
   ]
  },
  {
   "cell_type": "markdown",
   "metadata": {},
   "source": [
    "### Лемматизация"
   ]
  },
  {
   "cell_type": "markdown",
   "metadata": {},
   "source": [
    "Лемматизиурем строки в столбце с целью кредита 'purpose':"
   ]
  },
  {
   "cell_type": "code",
   "execution_count": 14,
   "metadata": {},
   "outputs": [
    {
     "name": "stdout",
     "output_type": "stream",
     "text": [
      "[автомобиль, \\n]                                          869\n",
      "[свадьба, \\n]                                             717\n",
      "[сыграть,  , свадьба, \\n]                                 688\n",
      "[на,  , проведение,  , свадьба, \\n]                       682\n",
      "[операция,  , с,  , недвижимость, \\n]                     612\n",
      "[покупка,  , коммерческий,  , недвижимость, \\n]           594\n",
      "[покупка,  , жилье, \\n]                                   589\n",
      "[покупка,  , жилье,  , для,  , сдача, \\n]                 586\n",
      "[жилье, \\n]                                               583\n",
      "[операция,  , с,  , коммерческий,  , недвижимость, \\n]    580\n",
      "[строительство,  , жилой,  , недвижимость, \\n]            577\n",
      "[операция,  , с,  , жилье, \\n]                            573\n",
      "[покупка,  , свой,  , жилье, \\n]                          573\n",
      "[недвижимость, \\n]                                        570\n",
      "[покупка,  , жилье,  , для,  , семья, \\n]                 569\n",
      "[строительство,  , недвижимость, \\n]                      561\n",
      "[операция,  , со,  , свой,  , недвижимость, \\n]           559\n",
      "[строительство,  , собственный,  , недвижимость, \\n]      558\n",
      "[покупка,  , недвижимость, \\n]                            549\n",
      "[покупка,  , жилой,  , недвижимость, \\n]                  544\n",
      "[ремонт,  , жилье, \\n]                                    541\n",
      "[на,  , покупка,  , свой,  , автомобиль, \\n]              449\n",
      "[заниматься,  , высокий,  , образование, \\n]              437\n",
      "[на,  , покупка,  , автомобиль, \\n]                       437\n",
      "[на,  , покупка,  , подержать,  , автомобиль, \\n]         437\n",
      "[сделка,  , с,  , подержанный,  , автомобиль, \\n]         433\n",
      "[свой,  , автомобиль, \\n]                                 425\n",
      "[приобретение,  , автомобиль, \\n]                         417\n",
      "[дополнительный,  , образование, \\n]                      412\n",
      "[высокий,  , образование, \\n]                             410\n",
      "[сделка,  , с,  , автомобиль, \\n]                         408\n",
      "[образование, \\n]                                         402\n",
      "[получение,  , дополнительный,  , образование, \\n]        394\n",
      "[получение,  , образование, \\n]                           392\n",
      "[получение,  , высокий,  , образование, \\n]               388\n",
      "[профильный,  , образование, \\n]                          388\n",
      "[заниматься,  , образование, \\n]                          356\n",
      "Name: purpose_lemmatize, dtype: int64\n",
      "<class 'pandas.core.frame.DataFrame'>\n",
      "Int64Index: 19259 entries, 0 to 21351\n",
      "Data columns (total 13 columns):\n",
      "children             19259 non-null int64\n",
      "days_employed        19259 non-null int64\n",
      "dob_years            19259 non-null int64\n",
      "education            19259 non-null object\n",
      "education_id         19259 non-null int64\n",
      "family_status        19259 non-null object\n",
      "family_status_id     19259 non-null int64\n",
      "gender               19259 non-null object\n",
      "income_type          19259 non-null object\n",
      "debt                 19259 non-null int64\n",
      "total_income         19259 non-null int64\n",
      "purpose              19259 non-null object\n",
      "purpose_lemmatize    19259 non-null object\n",
      "dtypes: int64(7), object(6)\n",
      "memory usage: 2.1+ MB\n"
     ]
    },
    {
     "name": "stderr",
     "output_type": "stream",
     "text": [
      "/opt/conda/lib/python3.7/site-packages/ipykernel_launcher.py:3: SettingWithCopyWarning: \n",
      "A value is trying to be set on a copy of a slice from a DataFrame.\n",
      "Try using .loc[row_indexer,col_indexer] = value instead\n",
      "\n",
      "See the caveats in the documentation: http://pandas.pydata.org/pandas-docs/stable/user_guide/indexing.html#returning-a-view-versus-a-copy\n",
      "  This is separate from the ipykernel package so we can avoid doing imports until\n"
     ]
    }
   ],
   "source": [
    "from pymystem3 import Mystem\n",
    "m = Mystem()\n",
    "data['purpose_lemmatize'] = data['purpose'].apply(m.lemmatize)\n",
    "print(data['purpose_lemmatize'].value_counts())"
   ]
  },
  {
   "cell_type": "markdown",
   "metadata": {},
   "source": [
    "### Вывод"
   ]
  },
  {
   "cell_type": "markdown",
   "metadata": {},
   "source": [
    "Столбец 'purpose' лемматизирован. Результат сохранен в новый столбец 'purpose_lemmatize'."
   ]
  },
  {
   "cell_type": "markdown",
   "metadata": {},
   "source": [
    "### Категоризация данных"
   ]
  },
  {
   "cell_type": "markdown",
   "metadata": {},
   "source": [
    "Категоризируем заявки по целям кредита:"
   ]
  },
  {
   "cell_type": "code",
   "execution_count": 15,
   "metadata": {},
   "outputs": [
    {
     "name": "stdout",
     "output_type": "stream",
     "text": [
      "операции с недвижимостью    9718\n",
      "сделки с автомобилем        3875\n",
      "образование                 3579\n",
      "свадьба                     2087\n",
      "Name: purpose_group, dtype: int64\n"
     ]
    },
    {
     "name": "stderr",
     "output_type": "stream",
     "text": [
      "/opt/conda/lib/python3.7/site-packages/ipykernel_launcher.py:12: SettingWithCopyWarning: \n",
      "A value is trying to be set on a copy of a slice from a DataFrame.\n",
      "Try using .loc[row_indexer,col_indexer] = value instead\n",
      "\n",
      "See the caveats in the documentation: http://pandas.pydata.org/pandas-docs/stable/user_guide/indexing.html#returning-a-view-versus-a-copy\n",
      "  if sys.path[0] == '':\n"
     ]
    }
   ],
   "source": [
    "def purpose_group(row):\n",
    "    if 'свадьба' in row:\n",
    "        return 'свадьба'\n",
    "    if 'автомобиль' in row:\n",
    "        return 'сделки с автомобилем'\n",
    "    if 'образование' in row:\n",
    "        return 'образование'\n",
    "    if ('жилье' in row) or ('недвижимость' in row):\n",
    "        return 'операции с недвижимостью'\n",
    "    return ''\n",
    "\n",
    "data['purpose_group'] = data['purpose_lemmatize'].apply(purpose_group)\n",
    "print(data['purpose_group'].value_counts())"
   ]
  },
  {
   "cell_type": "markdown",
   "metadata": {},
   "source": [
    "<font color='blue'> \n",
    "### <u>КОММЕНТАРИЙ РЕВЬЮЕРА</u>\n",
    "</font>\n",
    "<font color='green'>\n",
    "согласен с подходом)"
   ]
  },
  {
   "cell_type": "markdown",
   "metadata": {},
   "source": [
    "Создадим классификацию по возрасту: <br>\n",
    "<br>\n",
    "По новой возрастной классификации ВОЗ:<br>\n",
    "от 18 до 44 лет — молодой возраст,<br> \n",
    "44—60 лет — средний возраст,<br> \n",
    "60—75 лет — пожилой возраст,<br> \n",
    "75—90 лет — старческий возраст,<br>\n",
    "после 90 — долгожители.<br>\n",
    "<br>\n",
    "Создадим функцию для классификации.<br>\n",
    "Поскольку строки с возрастом меньше 18 удалены, в функцию этот возраст передаваться не будет.<br>"
   ]
  },
  {
   "cell_type": "code",
   "execution_count": 16,
   "metadata": {},
   "outputs": [],
   "source": [
    "def age_group(age):\n",
    "    if (age >= 18) & (age < 44):\n",
    "        return 'молодой возраст'\n",
    "    if (age >= 44) & (age < 60):\n",
    "        return 'средний возраст'\n",
    "    if (age >= 60) & (age < 75):\n",
    "        return 'пожилой возраст'\n",
    "    if (age >= 75) & (age < 90):\n",
    "        return 'старческий возраст'\n",
    "    return 'долгожитель'"
   ]
  },
  {
   "cell_type": "markdown",
   "metadata": {},
   "source": [
    "Выполним проверку функции:"
   ]
  },
  {
   "cell_type": "code",
   "execution_count": 17,
   "metadata": {},
   "outputs": [
    {
     "name": "stdout",
     "output_type": "stream",
     "text": [
      "25: молодой возраст\n",
      "50: средний возраст\n",
      "64: пожилой возраст\n",
      "75: старческий возраст\n",
      "92: долгожитель\n"
     ]
    }
   ],
   "source": [
    "print('25:', age_group(25))\n",
    "print('50:', age_group(50))\n",
    "print('64:', age_group(64))\n",
    "print('75:', age_group(75))\n",
    "print('92:', age_group(92))"
   ]
  },
  {
   "cell_type": "code",
   "execution_count": 18,
   "metadata": {},
   "outputs": [
    {
     "name": "stdout",
     "output_type": "stream",
     "text": [
      "молодой возраст       10078\n",
      "средний возраст        6926\n",
      "пожилой возраст        2254\n",
      "старческий возраст        1\n",
      "Name: age_group, dtype: int64\n"
     ]
    },
    {
     "name": "stderr",
     "output_type": "stream",
     "text": [
      "/opt/conda/lib/python3.7/site-packages/ipykernel_launcher.py:1: SettingWithCopyWarning: \n",
      "A value is trying to be set on a copy of a slice from a DataFrame.\n",
      "Try using .loc[row_indexer,col_indexer] = value instead\n",
      "\n",
      "See the caveats in the documentation: http://pandas.pydata.org/pandas-docs/stable/user_guide/indexing.html#returning-a-view-versus-a-copy\n",
      "  \"\"\"Entry point for launching an IPython kernel.\n"
     ]
    }
   ],
   "source": [
    "data['age_group'] = data['dob_years'].apply(age_group)\n",
    "print(data['age_group'].value_counts())"
   ]
  },
  {
   "cell_type": "markdown",
   "metadata": {},
   "source": [
    "Создадим классификацию по количеству детей:\n",
    "0 детей - бездетные,\n",
    "1-2 ребенка - малодетные,\n",
    "3-4 ребенка - среднедетные,\n",
    "5 и более детей - многодетные.\n",
    "\n",
    "Создадим функцию для классификации."
   ]
  },
  {
   "cell_type": "code",
   "execution_count": 19,
   "metadata": {},
   "outputs": [
    {
     "name": "stdout",
     "output_type": "stream",
     "text": [
      " 0    12648\n",
      " 1     4328\n",
      " 2     1838\n",
      " 3      293\n",
      "-1      110\n",
      " 4       34\n",
      " 5        8\n",
      "Name: children, dtype: int64\n",
      "бездетные       12648\n",
      "малодетные       6166\n",
      "среднедетные      327\n",
      "нет данных        110\n",
      "многодетные         8\n",
      "Name: family_group, dtype: int64\n",
      "Количество пропусков в новом стобце: 0\n"
     ]
    },
    {
     "name": "stderr",
     "output_type": "stream",
     "text": [
      "/opt/conda/lib/python3.7/site-packages/ipykernel_launcher.py:13: SettingWithCopyWarning: \n",
      "A value is trying to be set on a copy of a slice from a DataFrame.\n",
      "Try using .loc[row_indexer,col_indexer] = value instead\n",
      "\n",
      "See the caveats in the documentation: http://pandas.pydata.org/pandas-docs/stable/user_guide/indexing.html#returning-a-view-versus-a-copy\n",
      "  del sys.path[0]\n"
     ]
    }
   ],
   "source": [
    "def family_group(children):\n",
    "    if children == 0:\n",
    "        return 'бездетные'\n",
    "    if (children >= 1) & (children < 3):\n",
    "        return 'малодетные'\n",
    "    if (children >= 3) & (children < 5):\n",
    "        return 'среднедетные'\n",
    "    if children >= 5:\n",
    "        return 'многодетные'\n",
    "    return 'нет данных'\n",
    "\n",
    "#создание столбца 'family_group' с классификацией\n",
    "data['family_group'] = data[data['children'] != 20]['children'].apply(family_group)\n",
    "#узнаем, как функция выполнила работу\n",
    "print(data['children'].value_counts())\n",
    "print(data['family_group'].value_counts())\n",
    "print('Количество пропусков в новом стобце:',data['family_group'].isna().sum())"
   ]
  },
  {
   "cell_type": "markdown",
   "metadata": {},
   "source": [
    "Создадим более сложную классификацию по доходу:\n",
    "Малоимущие - 10000 на человека\n",
    "Беднейшие - 15000 на человека\n",
    "Бедные - 18000 на человека\n",
    "Выше бедности - 36000 на человека\n",
    "Нижний средний класс - 100000 на человека\n",
    "Предсредний класс - 150000  на человека\n",
    "Средний класс - 250000  на человека\n",
    "Верхний средний класс - 500000  на человека\n",
    "Состоятельные - 1000000 на человека\n",
    "Богатые - до бесконечности.\n",
    "\n",
    "(Согласно данным за июнь 2018 года https://zen.yandex.ru/media/dogecrypto/kak-poschitat-k-kakomu-klassu-vy-otnosites-po-urovniu-dohoda-5b150b5aea0fe700a848e1b1)"
   ]
  },
  {
   "cell_type": "markdown",
   "metadata": {},
   "source": [
    "Создадим классификацию по доходу с учетом количества человек в семье и семейным положением:"
   ]
  },
  {
   "cell_type": "markdown",
   "metadata": {},
   "source": [
    "Чтобы посчитать количество дохода на человека в семье, посчитаем сумму человек в семье и разделим весь доход на это число."
   ]
  },
  {
   "cell_type": "code",
   "execution_count": 20,
   "metadata": {},
   "outputs": [
    {
     "name": "stdout",
     "output_type": "stream",
     "text": [
      "family_status_id\n",
      "0          [женат / замужем]\n",
      "1         [гражданский брак]\n",
      "2           [вдовец / вдова]\n",
      "3                [в разводе]\n",
      "4    [не женат / не замужем]\n",
      "Name: family_status, dtype: object\n"
     ]
    }
   ],
   "source": [
    "print(data.groupby('family_status_id')['family_status'].unique())\n",
    "\n",
    "def income_per_man(row):\n",
    "    children = row['children']\n",
    "    family_status_id = row['family_status_id']\n",
    "    total_income = row['total_income']\n",
    "    family_count = 1   #в семье как минимум один человек (чтю строку данных мы исследуем)\n",
    "    if children != -1:    #если в столбце ['children'] корректные данные \n",
    "        if (family_status_id == 0) or (family_status_id == 1):   #если человек женат/замужем или в гражданском браке\n",
    "            family_count = family_count + 1 + children\n",
    "            return int(total_income / family_count)\n",
    "        else:\n",
    "            family_count = family_count + children\n",
    "            return int(total_income / family_count)\n",
    "    else:   #если в столбце ['children'] некорректные данные \n",
    "        if (family_status_id == 0) or (family_status_id == 1):  \n",
    "            family_count = family_count + 1\n",
    "            return int(total_income / family_count)\n",
    "        else:   \n",
    "            return int(total_income)"
   ]
  },
  {
   "cell_type": "markdown",
   "metadata": {},
   "source": [
    "Применим функцию ко всему датафрейму и создадим новый столбец, в котором будет храниться доход на человека:"
   ]
  },
  {
   "cell_type": "code",
   "execution_count": 21,
   "metadata": {},
   "outputs": [
    {
     "name": "stderr",
     "output_type": "stream",
     "text": [
      "/opt/conda/lib/python3.7/site-packages/ipykernel_launcher.py:1: SettingWithCopyWarning: \n",
      "A value is trying to be set on a copy of a slice from a DataFrame.\n",
      "Try using .loc[row_indexer,col_indexer] = value instead\n",
      "\n",
      "See the caveats in the documentation: http://pandas.pydata.org/pandas-docs/stable/user_guide/indexing.html#returning-a-view-versus-a-copy\n",
      "  \"\"\"Entry point for launching an IPython kernel.\n"
     ]
    }
   ],
   "source": [
    "data['income_per_man'] = data.apply(income_per_man, axis=1)"
   ]
  },
  {
   "cell_type": "markdown",
   "metadata": {},
   "source": [
    "Теперь создадим функцию, которая будет классифицировать доход по новому стобцу:"
   ]
  },
  {
   "cell_type": "code",
   "execution_count": 22,
   "metadata": {},
   "outputs": [],
   "source": [
    "def income_group(income_per_man):\n",
    "    if income_per_man < 10000:\n",
    "        return 'ниже прожиточного минимума'\n",
    "    if (income_per_man >= 10000) & (income_per_man <= 15000):\n",
    "        return 'малоимущие'\n",
    "    if (income_per_man > 15000) & (income_per_man <= 18000):\n",
    "        return 'беднейшие'\n",
    "    if (income_per_man > 18000) & (income_per_man <= 36000):\n",
    "        return 'бедные'\n",
    "    if (income_per_man > 36000) & (income_per_man <= 100000):\n",
    "        return 'выше бедности'\n",
    "    if (income_per_man > 100000) & (income_per_man <= 150000):\n",
    "        return 'нижний средний класс'\n",
    "    if (income_per_man > 150000) & (income_per_man <= 250000):\n",
    "        return 'предсредний класс'\n",
    "    if (income_per_man > 250000) & (income_per_man <= 500000):\n",
    "        return 'средний класс'\n",
    "    if (income_per_man > 500000) & (income_per_man <= 1000000):\n",
    "        return 'верхний средний класс'\n",
    "    if (income_per_man > 1000000) & (income_per_man <= 2500000):\n",
    "        return 'состоятельные'\n",
    "    return 'богатые'\n"
   ]
  },
  {
   "cell_type": "markdown",
   "metadata": {},
   "source": [
    "<font color='blue'> \n",
    "### <u>КОММЕНТАРИЙ РЕВЬЮЕРА</u>\n",
    "</font>\n",
    "<font color='green'>\n",
    "таааак, интересный подход)"
   ]
  },
  {
   "cell_type": "code",
   "execution_count": 23,
   "metadata": {},
   "outputs": [
    {
     "name": "stdout",
     "output_type": "stream",
     "text": [
      "выше бедности                 10751\n",
      "нижний средний класс           3198\n",
      "бедные                         2588\n",
      "предсредний класс              1806\n",
      "средний класс                   562\n",
      "беднейшие                       169\n",
      "малоимущие                      117\n",
      "верхний средний класс            46\n",
      "ниже прожиточного минимума       19\n",
      "состоятельные                     3\n",
      "Name: income_group, dtype: int64\n",
      "Количество пропусков в новом стобце: 0\n",
      "       children  days_employed  dob_years education  education_id  \\\n",
      "7404          0          -8626         39   среднее             1   \n",
      "12326         0          -1477         44    высшее             0   \n",
      "20642         0          -4719         61   среднее             1   \n",
      "\n",
      "               family_status  family_status_id gender income_type  debt  \\\n",
      "7404               в разводе                 3      f   сотрудник     0   \n",
      "12326        женат / замужем                 0      m   компаньон     0   \n",
      "20642  не женат / не замужем                 4      f   сотрудник     0   \n",
      "\n",
      "       total_income                  purpose  \\\n",
      "7404        1240165     покупка недвижимости   \n",
      "12326       2265604             ремонт жилью   \n",
      "20642       1715018  покупка жилья для семьи   \n",
      "\n",
      "                               purpose_lemmatize             purpose_group  \\\n",
      "7404              [покупка,  , недвижимость, \\n]  операции с недвижимостью   \n",
      "12326                     [ремонт,  , жилье, \\n]  операции с недвижимостью   \n",
      "20642  [покупка,  , жилье,  , для,  , семья, \\n]  операции с недвижимостью   \n",
      "\n",
      "             age_group family_group  income_per_man   income_group  \n",
      "7404   молодой возраст    бездетные         1240165  состоятельные  \n",
      "12326  средний возраст    бездетные         1132802  состоятельные  \n",
      "20642  пожилой возраст    бездетные         1715018  состоятельные  \n"
     ]
    },
    {
     "name": "stderr",
     "output_type": "stream",
     "text": [
      "/opt/conda/lib/python3.7/site-packages/ipykernel_launcher.py:2: SettingWithCopyWarning: \n",
      "A value is trying to be set on a copy of a slice from a DataFrame.\n",
      "Try using .loc[row_indexer,col_indexer] = value instead\n",
      "\n",
      "See the caveats in the documentation: http://pandas.pydata.org/pandas-docs/stable/user_guide/indexing.html#returning-a-view-versus-a-copy\n",
      "  \n"
     ]
    }
   ],
   "source": [
    "#создание столбца 'income_types' с классификацией\n",
    "data['income_group'] = data['income_per_man'].apply(income_group)\n",
    "#узнаем, как функция выполнила работу\n",
    "print(data['income_group'].value_counts())\n",
    "print('Количество пропусков в новом стобце:',data['income_group'].isna().sum())\n",
    "print(data[data['income_group'] == 'состоятельные'])"
   ]
  },
  {
   "cell_type": "markdown",
   "metadata": {},
   "source": [
    "### Вывод"
   ]
  },
  {
   "cell_type": "markdown",
   "metadata": {},
   "source": [
    "Данные категоризированы по четырем параметрам: по уровню дохода, по количеству детей, по целям кредита и по возрасту."
   ]
  },
  {
   "cell_type": "markdown",
   "metadata": {},
   "source": [
    "<font color='blue'> \n",
    "### <u>КОММЕНТАРИЙ РЕВЬЮЕРА</u>\n",
    "</font>\n",
    "<font color='green'>\n",
    "без вопросов)"
   ]
  },
  {
   "cell_type": "markdown",
   "metadata": {},
   "source": [
    "### Шаг 3. Ответьте на вопросы"
   ]
  },
  {
   "cell_type": "markdown",
   "metadata": {},
   "source": [
    "- Есть ли зависимость между наличием детей и возвратом кредита в срок?"
   ]
  },
  {
   "cell_type": "code",
   "execution_count": 24,
   "metadata": {},
   "outputs": [
    {
     "name": "stdout",
     "output_type": "stream",
     "text": [
      "debt                0      1     ratio\n",
      "family_group                          \n",
      "многодетные       8.0    0.0  1.000000\n",
      "бездетные     11701.0  947.0  0.919067\n",
      "среднедетные    302.0   25.0  0.917219\n",
      "малодетные     5584.0  582.0  0.895774\n",
      "0.9181426447391432\n"
     ]
    }
   ],
   "source": [
    "dp1 = data[data['family_group'] != 'нет данных']\n",
    "dp1 = dp1.pivot_table(index = ['family_group'], columns = 'debt', values = 'dob_years', aggfunc = 'count')\n",
    "dp1 = dp1.fillna(0)\n",
    "dp1['ratio'] = 1 - dp1[1]/dp1[0]\n",
    "print(dp1.sort_values(by = 'ratio', ascending = False))\n",
    "print(dp1['ratio'].median())"
   ]
  },
  {
   "cell_type": "markdown",
   "metadata": {},
   "source": [
    "### Вывод"
   ]
  },
  {
   "cell_type": "markdown",
   "metadata": {},
   "source": [
    "Зависимость между наличием детей и возвратом кредита в срок отсутствует. В среднем семьи вовзращают кредит в 91% случаев. "
   ]
  },
  {
   "cell_type": "markdown",
   "metadata": {},
   "source": [
    "<font color='blue'> \n",
    "### <u>КОММЕНТАРИЙ РЕВЬЮЕРА</u>\n",
    "</font>\n",
    "<font color='green'>\n",
    "ОК,"
   ]
  },
  {
   "cell_type": "markdown",
   "metadata": {},
   "source": [
    "- Есть ли зависимость между семейным положением и возвратом кредита в срок?"
   ]
  },
  {
   "cell_type": "code",
   "execution_count": 25,
   "metadata": {},
   "outputs": [
    {
     "name": "stdout",
     "output_type": "stream",
     "text": [
      "debt                       0    1     ratio\n",
      "family_status                              \n",
      "вдовец / вдова           806   55  0.931762\n",
      "в разводе                998   76  0.923848\n",
      "женат / замужем        10256  842  0.917902\n",
      "гражданский брак        3379  337  0.900266\n",
      "не женат / не замужем   2257  253  0.887904\n",
      "0.9179017160686428\n"
     ]
    }
   ],
   "source": [
    "dp2 = data.pivot_table(index = ['family_status'], columns = 'debt', values = 'dob_years', aggfunc = 'count')\n",
    "\n",
    "dp2['ratio'] = 1 - dp2[1]/dp2[0]\n",
    "print(dp2.sort_values(by = 'ratio', ascending = False))\n",
    "print(dp2['ratio'].median())"
   ]
  },
  {
   "cell_type": "markdown",
   "metadata": {},
   "source": [
    "### Вывод"
   ]
  },
  {
   "cell_type": "markdown",
   "metadata": {},
   "source": [
    "Зависимость есть. Люди, потерявшие супруга/супругу по причине смерти либо же развода отдают кредит чаще, чем те, кто вообще не вступал в брак и не обременен обязательствами.\n"
   ]
  },
  {
   "cell_type": "markdown",
   "metadata": {},
   "source": [
    "<font color='blue'> \n",
    "### <u>КОММЕНТАРИЙ РЕВЬЮЕРА</u>\n",
    "</font>\n",
    "<font color='green'>\n",
    "кто не брал на себя ещё ответственности))"
   ]
  },
  {
   "cell_type": "markdown",
   "metadata": {},
   "source": [
    "- Есть ли зависимость между уровнем дохода и возвратом кредита в срок?"
   ]
  },
  {
   "cell_type": "code",
   "execution_count": 26,
   "metadata": {},
   "outputs": [
    {
     "name": "stdout",
     "output_type": "stream",
     "text": [
      "debt                             0      1     ratio\n",
      "income_group                                       \n",
      "состоятельные                  3.0    0.0  1.000000\n",
      "ниже прожиточного минимума    18.0    1.0  0.944444\n",
      "беднейшие                    158.0   11.0  0.930380\n",
      "нижний средний класс        2966.0  232.0  0.921780\n",
      "средний класс                520.0   42.0  0.919231\n",
      "предсредний класс           1658.0  148.0  0.910736\n",
      "выше бедности               9868.0  883.0  0.910519\n",
      "верхний средний класс         42.0    4.0  0.904762\n",
      "бедные                      2360.0  228.0  0.903390\n",
      "малоимущие                   103.0   14.0  0.864078\n",
      "Среднее значение: 0.9209319216105204\n"
     ]
    }
   ],
   "source": [
    "dp3 = data.pivot_table(index = ['income_group'], columns = 'debt', values = 'dob_years', aggfunc = 'count')\n",
    "dp3 = dp3.fillna(0)\n",
    "dp3['ratio'] = 1 - dp3[1]/dp3[0]\n",
    "print(dp3.sort_values(by = 'ratio', ascending = False))\n",
    "print('Среднее значение:',dp3['ratio'].mean())"
   ]
  },
  {
   "cell_type": "markdown",
   "metadata": {},
   "source": [
    "### Вывод"
   ]
  },
  {
   "cell_type": "markdown",
   "metadata": {},
   "source": [
    "Прямой, либо же обратной зависимости от уровня дохода не выявлено. Самый низкий класс по уровню дохода из нашей классификации - \"ниже прожиточного минимума\" - уверенно держится в середине рейтинга (91% возвратов вовремя). При этом следующий по уровню дохода класс - малоимущие - замыкает рейтинг (86,4%), а следующий после него класс \"беднейшие\" возглавляет рейтинг (не учитываем класс \"состоятельные\", так как слишком мало данных по этому классу) с процентом возвратов равным 93%.  "
   ]
  },
  {
   "cell_type": "markdown",
   "metadata": {},
   "source": [
    "- Как разные цели кредита влияют на его возврат в срок?"
   ]
  },
  {
   "cell_type": "code",
   "execution_count": 27,
   "metadata": {},
   "outputs": [
    {
     "name": "stdout",
     "output_type": "stream",
     "text": [
      "debt                         0    1     ratio\n",
      "purpose_group                                \n",
      "операции с недвижимостью  9006  712  0.920942\n",
      "свадьба                   1931  156  0.919213\n",
      "образование               3248  331  0.898091\n",
      "сделки с автомобилем      3511  364  0.896326\n"
     ]
    }
   ],
   "source": [
    "dp4 = data.pivot_table(index = ['purpose_group'], columns = 'debt', values = 'dob_years', aggfunc = 'count')\n",
    "\n",
    "dp4['ratio'] = 1 - dp4[1]/dp4[0]\n",
    "print(dp4.sort_values(by = 'ratio', ascending = False))"
   ]
  },
  {
   "cell_type": "markdown",
   "metadata": {},
   "source": [
    "### Вывод"
   ]
  },
  {
   "cell_type": "markdown",
   "metadata": {},
   "source": [
    "Операции с недвижимостью - самая надежная цель кредита. По такому кредиту не имеют задолженности в 92% случаев.\n",
    "Образование и сделки с автомобилем - возвращают практически с равной долей вероятности. Отличие от лидера всего лишь в 2%. "
   ]
  },
  {
   "cell_type": "markdown",
   "metadata": {},
   "source": [
    "<font color='blue'> \n",
    "### <u>КОММЕНТАРИЙ РЕВЬЮЕРА</u>\n",
    "</font>\n",
    "<font color='green'>\n",
    "ОК, сосгласен)"
   ]
  },
  {
   "cell_type": "markdown",
   "metadata": {},
   "source": [
    "### Шаг 4. Общий вывод"
   ]
  },
  {
   "cell_type": "markdown",
   "metadata": {},
   "source": [
    "Семейное положение и цели кредита - факторы, влияющие на вероятность его возврата. Закономерностей, связанных с уровнем дохода и количеством детей в семье не выявлено. Требуется более глубокое исследование. <br>\n",
    "\n",
    "Следует обратить внимание на корректность выгрузки данных, поскольку важные данные рабочего стажа на 100% непригодны для исследования."
   ]
  },
  {
   "cell_type": "code",
   "execution_count": 32,
   "metadata": {},
   "outputs": [
    {
     "name": "stdout",
     "output_type": "stream",
     "text": [
      "Процент возврата кредита по всей таблице: 91.9%\n"
     ]
    }
   ],
   "source": [
    "print('Процент возврата кредита по всей таблице: {:.1%}'.format(data[data['debt'] == 0]['debt'].count() / len(data)))"
   ]
  },
  {
   "cell_type": "markdown",
   "metadata": {},
   "source": [
    "Наиболее ненадежные категории (категории, процент возврата которых меньше, чем по всей таблице):\n"
   ]
  },
  {
   "cell_type": "code",
   "execution_count": 36,
   "metadata": {},
   "outputs": [
    {
     "name": "stdout",
     "output_type": "stream",
     "text": [
      "           catrgory_name     ratio\n",
      "3             малоимущие  0.864078\n",
      "4  не женат / не замужем  0.887904\n",
      "6             малодетные  0.895774\n",
      "0            образование  0.898091\n",
      "1   сделка с автомобилем  0.898091\n",
      "5       гражданский брак  0.900266\n",
      "2                 бедные  0.903390\n"
     ]
    }
   ],
   "source": [
    "columns = ['catrgory_name', 'ratio']\n",
    "dt = [\n",
    "    ['образование','0.898091'],\n",
    "    ['сделка с автомобилем','0.898091'],\n",
    "    ['бедные','0.903390'],\n",
    "    ['малоимущие','0.864078'],\n",
    "    ['не женат / не замужем','0.887904'],\n",
    "    ['гражданский брак','0.900266'],['малодетные','0.895774']\n",
    "]\n",
    "\n",
    "\n",
    "rating = pd.DataFrame(data = dt, columns = columns)\n",
    "print(rating.sort_values(by = 'ratio'))"
   ]
  },
  {
   "cell_type": "code",
   "execution_count": null,
   "metadata": {},
   "outputs": [],
   "source": [
    "Слабая финансовая составляющая, очевидно, приводит к самому низкому проценту возврата кредитов."
   ]
  },
  {
   "cell_type": "markdown",
   "metadata": {},
   "source": [
    "<font color='blue'> \n",
    "### <u>КОММЕНТАРИЙ РЕВЬЮЕРА</u>\n",
    "</font>\n",
    "<font color='green'>\n",
    "Коммерческие выводы ОК - мало, но логично. Только лучше именно в выводах давать более конкретные значения. Тогда будет интересно воспринимать  читаемое заказчиком. А так - кажется что работа совсем не значительная))))<br>\n",
    "    \n",
    "Также, стоит добавлять в выводы информацию об обнаруженных \"косяках\" или предположениях о косяках при выгрузке<br>\n",
    "дубли, почему они могут быть; пропущенные значения и т.д.\n",
    "<br>\n",
    "</font>"
   ]
  },
  {
   "cell_type": "markdown",
   "metadata": {},
   "source": [
    "<font color='blue'> \n",
    "### <u>КОММЕНТАРИЙ РЕВЬЮЕРА</u>\n",
    "</font>\n",
    "<font color='green'>\n",
    "МАРК, интереную Вы работу провели (если не считать блок предобработки данных).<br><br>\n",
    "На мой взгляд, навыки которые Вы закрепляете с этой работой, наиважнейшие для дальнейших модельных дел<br>\n",
    "Предобработка данных, чистка, проверка предположений - архиважно<br>\n",
    "И у Вас много уже того, как должно быть.<br>\n",
    "Особенно с аналитикой предпосылок и построении выводов<br>\n",
    "Но также есть и то, что нужно ещё скорректировать<br>\n",
    "<font color='red'>\n",
    "1) оценить ещё раз этап, когда лучше проводить проверку дублирования<br>\n",
    "Это ВАЖНЫЙ момент. Сейчас он не исказил инфо, потому что Вы нули подставили в пропуски, а так может повлиять.\n",
    "2) Совсем не было времени у Вас на полнoценную предобработку данных((((<br>\n",
    "Тут надо ещё поработать)<br>\n",
    "3)Конечный вывод: Вы провели гораздо больший объём работ) отразите его в выводах, это важно для любого заказчика)\n",
    "    \n",
    "<font color='green'>\n",
    "Конечно же много чего можно улучшать и корректировать по коду по самим вычислениям...<br>\n",
    "Но не думаю, что это есть предмет обсуждения более важный,<br>\n",
    "чем умение ставить аналитическую задачу и воплощать её в конечном решении<br>\n",
    "А это этот навык Вы смогли показать в этой работе<br>\n",
    "Остальное, уверен, будете набирать  каждым блоком обученя<br>\n",
    "\n",
    "Скорректируйте, пожалуйста, то ,что я перечислил<br>\n",
    "\n",
    " <br><font color='green'>\n",
    "БУДУ ЖДАТЬ ВАШИХ КОРРЕКТИРОВОК\n",
    "  \n",
    "<br>\n",
    "</font>"
   ]
  },
  {
   "cell_type": "markdown",
   "metadata": {},
   "source": [
    "<font color='blue'> \n",
    "### <u>КОММЕНТАРИЙ РЕВЬЮЕРА 2</u>\n",
    "</font>\n",
    "<font color='green'>\n",
    "МАРК, спасибо, что именно так отреагировали на мои комментарии<br>\n",
    "То, что сейчас прочитал, было сильно:<br>\n",
    "каждое действие - аргументировано. И двежение от блока к блоку выглядят более, чем логично<br>\n",
    "Видно, что в этот раз потратили прилично времени. Но и результат от этого - отличная работа<br>\n",
    "Спасибо)<br>\n",
    "\n",
    "УСПЕШНОГО ДАЛЬНЕЙШЕГО ОБУЧЕНИЯ!"
   ]
  },
  {
   "cell_type": "markdown",
   "metadata": {},
   "source": []
  },
  {
   "cell_type": "markdown",
   "metadata": {},
   "source": [
    "### Чек-лист готовности проекта\n",
    "\n",
    "Поставьте 'x' в выполненных пунктах. Далее нажмите Shift+Enter."
   ]
  },
  {
   "cell_type": "markdown",
   "metadata": {},
   "source": [
    "- [x]  открыт файл;\n",
    "- [x]  файл изучен;\n",
    "- [x]  определены пропущенные значения;\n",
    "- [x]  заполнены пропущенные значения;\n",
    "- [x]  есть пояснение, какие пропущенные значения обнаружены;\n",
    "- [x]  описаны возможные причины появления пропусков в данных;\n",
    "- [x]  объяснено, по какому принципу заполнены пропуски;\n",
    "- [x]  заменен вещественный тип данных на целочисленный;\n",
    "- [x]  есть пояснение, какой метод используется для изменения типа данных и почему;\n",
    "- [x]  удалены дубликаты;\n",
    "- [x]  есть пояснение, какой метод используется для поиска и удаления дубликатов;\n",
    "- [x]  описаны возможные причины появления дубликатов в данных;\n",
    "- [x]  выделены леммы в значениях столбца с целями получения кредита;\n",
    "- [x]  описан процесс лемматизации;\n",
    "- [x]  данные категоризированы;\n",
    "- [x]  есть объяснение принципа категоризации данных;\n",
    "- [x]  есть ответ на вопрос: \"Есть ли зависимость между наличием детей и возвратом кредита в срок?\";\n",
    "- [x]  есть ответ на вопрос: \"Есть ли зависимость между семейным положением и возвратом кредита в срок?\";\n",
    "- [x]  есть ответ на вопрос: \"Есть ли зависимость между уровнем дохода и возвратом кредита в срок?\";\n",
    "- [x]  есть ответ на вопрос: \"Как разные цели кредита влияют на его возврат в срок?\";\n",
    "- [x]  в каждом этапе есть выводы;\n",
    "- [x]  есть общий вывод."
   ]
  }
 ],
 "metadata": {
  "kernelspec": {
   "display_name": "Python 3",
   "language": "python",
   "name": "python3"
  },
  "language_info": {
   "codemirror_mode": {
    "name": "ipython",
    "version": 3
   },
   "file_extension": ".py",
   "mimetype": "text/x-python",
   "name": "python",
   "nbconvert_exporter": "python",
   "pygments_lexer": "ipython3",
   "version": "3.7.6"
  }
 },
 "nbformat": 4,
 "nbformat_minor": 2
}
