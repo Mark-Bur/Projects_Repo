{
 "cells": [
  {
   "cell_type": "markdown",
   "metadata": {},
   "source": [
    "<a id='_0'></a>"
   ]
  },
  {
   "cell_type": "markdown",
   "metadata": {},
   "source": [
    "# Описание проекта"
   ]
  },
  {
   "cell_type": "markdown",
   "metadata": {},
   "source": [
    "Работа ведется в добывающей компании «ГлавРосГосНефть». Нужно решить, где бурить новую скважину.\n",
    "\n",
    "Предоставлены пробы нефти в трёх регионах: в каждом 10 000 месторождений, где измерили качество нефти и объём её запасов. Постройте модель машинного обучения, которая поможет определить регион, где добыча принесёт наибольшую прибыль. Проанализируйте возможную прибыль и риски. Данные синтетические.\n",
    "\n",
    "Шаги для выбора локации:\n",
    "\n",
    "- В избранном регионе ищут месторождения, для каждого определяют значения признаков;\n",
    "- Строят модель и оценивают объём запасов;\n",
    "- Выбирают месторождения с самым высокими оценками значений. Количество месторождений зависит от бюджета компании и стоимости разработки одной скважины;\n",
    "- Прибыль равна суммарной прибыли отобранных месторождений."
   ]
  },
  {
   "cell_type": "markdown",
   "metadata": {},
   "source": [
    "# Условия задачи:\n",
    "- Для обучения модели подходит только линейная регрессия (остальные — недостаточно предсказуемые).\n",
    "- При разведке региона исследуют 500 точек, из которых с помощью машинного обучения выбирают 200 лучших для разработки.\n",
    "- Бюджет на разработку скважин в регионе — 10 млрд рублей.\n",
    "- При нынешних ценах один баррель сырья приносит 450 рублей дохода. Доход с каждой единицы продукта составляет 450 тыс. рублей, поскольку объём указан в тысячах баррелей.\n",
    "- После оценки рисков нужно оставить лишь те регионы, в которых вероятность убытков меньше 2.5%. Среди них выбирают регион с наибольшей средней прибылью."
   ]
  },
  {
   "cell_type": "markdown",
   "metadata": {},
   "source": [
    "# Описание данных\n",
    "- Данные геологоразведки трёх регионов находятся в трех различных файлах\n",
    "- id — уникальный идентификатор скважины;\n",
    "- f0, f1, f2 — три признака точек (неважно, что они означают, но сами признаки значимы);\n",
    "- product — объём запасов в скважине (тыс. баррелей)."
   ]
  },
  {
   "cell_type": "markdown",
   "metadata": {},
   "source": [
    "### Содержание:\n",
    "  - [1. Загрузка и подготовка данных](#_1) <br>\n",
    "  - [2. Обучение и проверка модели](#_2) <br>\n",
    "  - [3. Подготовка к расчёту прибыли](#_3) <br>\n",
    "  - [4. Расчёт прибыли и рисков](#_4) <br>\n",
    "  - [5. Общий вывод](#_5) <br>"
   ]
  },
  {
   "cell_type": "markdown",
   "metadata": {},
   "source": [
    "<a id='_1'></a>"
   ]
  },
  {
   "cell_type": "markdown",
   "metadata": {},
   "source": [
    "# 1. Загрузка и подготовка данных"
   ]
  },
  {
   "cell_type": "code",
   "execution_count": 1,
   "metadata": {},
   "outputs": [],
   "source": [
    "import pandas as pd\n",
    "from scipy import stats as st\n",
    "from sklearn.model_selection import train_test_split\n",
    "from sklearn.preprocessing import StandardScaler\n",
    "from sklearn.linear_model import LinearRegression\n",
    "from sklearn.metrics import mean_squared_error\n",
    "from sklearn.metrics import accuracy_score\n",
    "from sklearn.utils import shuffle\n",
    "import numpy as np"
   ]
  },
  {
   "cell_type": "code",
   "execution_count": 2,
   "metadata": {
    "scrolled": false
   },
   "outputs": [],
   "source": [
    "geo_0 = pd.read_csv('/geo_data_0.csv')\n",
    "geo_1 = pd.read_csv('/geo_data_1.csv')\n",
    "geo_2 = pd.read_csv('/geo_data_2.csv')"
   ]
  },
  {
   "cell_type": "code",
   "execution_count": 3,
   "metadata": {},
   "outputs": [],
   "source": [
    "def inf(data):\n",
    "    print('Размер датасета:',data.shape)\n",
    "    print('Общая информация:')\n",
    "    print(data.info())\n",
    "    print('Первые 5 строк:')\n",
    "    display(data.head())"
   ]
  },
  {
   "cell_type": "code",
   "execution_count": 4,
   "metadata": {
    "scrolled": false
   },
   "outputs": [
    {
     "name": "stdout",
     "output_type": "stream",
     "text": [
      "geo_0 : \n",
      "Размер датасета: (100000, 5)\n",
      "Общая информация:\n",
      "<class 'pandas.core.frame.DataFrame'>\n",
      "RangeIndex: 100000 entries, 0 to 99999\n",
      "Data columns (total 5 columns):\n",
      "id         100000 non-null object\n",
      "f0         100000 non-null float64\n",
      "f1         100000 non-null float64\n",
      "f2         100000 non-null float64\n",
      "product    100000 non-null float64\n",
      "dtypes: float64(4), object(1)\n",
      "memory usage: 3.8+ MB\n",
      "None\n",
      "Первые 5 строк:\n"
     ]
    },
    {
     "data": {
      "text/html": [
       "<div>\n",
       "<style scoped>\n",
       "    .dataframe tbody tr th:only-of-type {\n",
       "        vertical-align: middle;\n",
       "    }\n",
       "\n",
       "    .dataframe tbody tr th {\n",
       "        vertical-align: top;\n",
       "    }\n",
       "\n",
       "    .dataframe thead th {\n",
       "        text-align: right;\n",
       "    }\n",
       "</style>\n",
       "<table border=\"1\" class=\"dataframe\">\n",
       "  <thead>\n",
       "    <tr style=\"text-align: right;\">\n",
       "      <th></th>\n",
       "      <th>id</th>\n",
       "      <th>f0</th>\n",
       "      <th>f1</th>\n",
       "      <th>f2</th>\n",
       "      <th>product</th>\n",
       "    </tr>\n",
       "  </thead>\n",
       "  <tbody>\n",
       "    <tr>\n",
       "      <td>0</td>\n",
       "      <td>txEyH</td>\n",
       "      <td>0.705745</td>\n",
       "      <td>-0.497823</td>\n",
       "      <td>1.221170</td>\n",
       "      <td>105.280062</td>\n",
       "    </tr>\n",
       "    <tr>\n",
       "      <td>1</td>\n",
       "      <td>2acmU</td>\n",
       "      <td>1.334711</td>\n",
       "      <td>-0.340164</td>\n",
       "      <td>4.365080</td>\n",
       "      <td>73.037750</td>\n",
       "    </tr>\n",
       "    <tr>\n",
       "      <td>2</td>\n",
       "      <td>409Wp</td>\n",
       "      <td>1.022732</td>\n",
       "      <td>0.151990</td>\n",
       "      <td>1.419926</td>\n",
       "      <td>85.265647</td>\n",
       "    </tr>\n",
       "    <tr>\n",
       "      <td>3</td>\n",
       "      <td>iJLyR</td>\n",
       "      <td>-0.032172</td>\n",
       "      <td>0.139033</td>\n",
       "      <td>2.978566</td>\n",
       "      <td>168.620776</td>\n",
       "    </tr>\n",
       "    <tr>\n",
       "      <td>4</td>\n",
       "      <td>Xdl7t</td>\n",
       "      <td>1.988431</td>\n",
       "      <td>0.155413</td>\n",
       "      <td>4.751769</td>\n",
       "      <td>154.036647</td>\n",
       "    </tr>\n",
       "  </tbody>\n",
       "</table>\n",
       "</div>"
      ],
      "text/plain": [
       "      id        f0        f1        f2     product\n",
       "0  txEyH  0.705745 -0.497823  1.221170  105.280062\n",
       "1  2acmU  1.334711 -0.340164  4.365080   73.037750\n",
       "2  409Wp  1.022732  0.151990  1.419926   85.265647\n",
       "3  iJLyR -0.032172  0.139033  2.978566  168.620776\n",
       "4  Xdl7t  1.988431  0.155413  4.751769  154.036647"
      ]
     },
     "metadata": {},
     "output_type": "display_data"
    },
    {
     "name": "stdout",
     "output_type": "stream",
     "text": [
      "\n",
      "geo_1 : \n",
      "Размер датасета: (100000, 5)\n",
      "Общая информация:\n",
      "<class 'pandas.core.frame.DataFrame'>\n",
      "RangeIndex: 100000 entries, 0 to 99999\n",
      "Data columns (total 5 columns):\n",
      "id         100000 non-null object\n",
      "f0         100000 non-null float64\n",
      "f1         100000 non-null float64\n",
      "f2         100000 non-null float64\n",
      "product    100000 non-null float64\n",
      "dtypes: float64(4), object(1)\n",
      "memory usage: 3.8+ MB\n",
      "None\n",
      "Первые 5 строк:\n"
     ]
    },
    {
     "data": {
      "text/html": [
       "<div>\n",
       "<style scoped>\n",
       "    .dataframe tbody tr th:only-of-type {\n",
       "        vertical-align: middle;\n",
       "    }\n",
       "\n",
       "    .dataframe tbody tr th {\n",
       "        vertical-align: top;\n",
       "    }\n",
       "\n",
       "    .dataframe thead th {\n",
       "        text-align: right;\n",
       "    }\n",
       "</style>\n",
       "<table border=\"1\" class=\"dataframe\">\n",
       "  <thead>\n",
       "    <tr style=\"text-align: right;\">\n",
       "      <th></th>\n",
       "      <th>id</th>\n",
       "      <th>f0</th>\n",
       "      <th>f1</th>\n",
       "      <th>f2</th>\n",
       "      <th>product</th>\n",
       "    </tr>\n",
       "  </thead>\n",
       "  <tbody>\n",
       "    <tr>\n",
       "      <td>0</td>\n",
       "      <td>kBEdx</td>\n",
       "      <td>-15.001348</td>\n",
       "      <td>-8.276000</td>\n",
       "      <td>-0.005876</td>\n",
       "      <td>3.179103</td>\n",
       "    </tr>\n",
       "    <tr>\n",
       "      <td>1</td>\n",
       "      <td>62mP7</td>\n",
       "      <td>14.272088</td>\n",
       "      <td>-3.475083</td>\n",
       "      <td>0.999183</td>\n",
       "      <td>26.953261</td>\n",
       "    </tr>\n",
       "    <tr>\n",
       "      <td>2</td>\n",
       "      <td>vyE1P</td>\n",
       "      <td>6.263187</td>\n",
       "      <td>-5.948386</td>\n",
       "      <td>5.001160</td>\n",
       "      <td>134.766305</td>\n",
       "    </tr>\n",
       "    <tr>\n",
       "      <td>3</td>\n",
       "      <td>KcrkZ</td>\n",
       "      <td>-13.081196</td>\n",
       "      <td>-11.506057</td>\n",
       "      <td>4.999415</td>\n",
       "      <td>137.945408</td>\n",
       "    </tr>\n",
       "    <tr>\n",
       "      <td>4</td>\n",
       "      <td>AHL4O</td>\n",
       "      <td>12.702195</td>\n",
       "      <td>-8.147433</td>\n",
       "      <td>5.004363</td>\n",
       "      <td>134.766305</td>\n",
       "    </tr>\n",
       "  </tbody>\n",
       "</table>\n",
       "</div>"
      ],
      "text/plain": [
       "      id         f0         f1        f2     product\n",
       "0  kBEdx -15.001348  -8.276000 -0.005876    3.179103\n",
       "1  62mP7  14.272088  -3.475083  0.999183   26.953261\n",
       "2  vyE1P   6.263187  -5.948386  5.001160  134.766305\n",
       "3  KcrkZ -13.081196 -11.506057  4.999415  137.945408\n",
       "4  AHL4O  12.702195  -8.147433  5.004363  134.766305"
      ]
     },
     "metadata": {},
     "output_type": "display_data"
    },
    {
     "name": "stdout",
     "output_type": "stream",
     "text": [
      "\n",
      "geo_2 : \n",
      "Размер датасета: (100000, 5)\n",
      "Общая информация:\n",
      "<class 'pandas.core.frame.DataFrame'>\n",
      "RangeIndex: 100000 entries, 0 to 99999\n",
      "Data columns (total 5 columns):\n",
      "id         100000 non-null object\n",
      "f0         100000 non-null float64\n",
      "f1         100000 non-null float64\n",
      "f2         100000 non-null float64\n",
      "product    100000 non-null float64\n",
      "dtypes: float64(4), object(1)\n",
      "memory usage: 3.8+ MB\n",
      "None\n",
      "Первые 5 строк:\n"
     ]
    },
    {
     "data": {
      "text/html": [
       "<div>\n",
       "<style scoped>\n",
       "    .dataframe tbody tr th:only-of-type {\n",
       "        vertical-align: middle;\n",
       "    }\n",
       "\n",
       "    .dataframe tbody tr th {\n",
       "        vertical-align: top;\n",
       "    }\n",
       "\n",
       "    .dataframe thead th {\n",
       "        text-align: right;\n",
       "    }\n",
       "</style>\n",
       "<table border=\"1\" class=\"dataframe\">\n",
       "  <thead>\n",
       "    <tr style=\"text-align: right;\">\n",
       "      <th></th>\n",
       "      <th>id</th>\n",
       "      <th>f0</th>\n",
       "      <th>f1</th>\n",
       "      <th>f2</th>\n",
       "      <th>product</th>\n",
       "    </tr>\n",
       "  </thead>\n",
       "  <tbody>\n",
       "    <tr>\n",
       "      <td>0</td>\n",
       "      <td>fwXo0</td>\n",
       "      <td>-1.146987</td>\n",
       "      <td>0.963328</td>\n",
       "      <td>-0.828965</td>\n",
       "      <td>27.758673</td>\n",
       "    </tr>\n",
       "    <tr>\n",
       "      <td>1</td>\n",
       "      <td>WJtFt</td>\n",
       "      <td>0.262778</td>\n",
       "      <td>0.269839</td>\n",
       "      <td>-2.530187</td>\n",
       "      <td>56.069697</td>\n",
       "    </tr>\n",
       "    <tr>\n",
       "      <td>2</td>\n",
       "      <td>ovLUW</td>\n",
       "      <td>0.194587</td>\n",
       "      <td>0.289035</td>\n",
       "      <td>-5.586433</td>\n",
       "      <td>62.871910</td>\n",
       "    </tr>\n",
       "    <tr>\n",
       "      <td>3</td>\n",
       "      <td>q6cA6</td>\n",
       "      <td>2.236060</td>\n",
       "      <td>-0.553760</td>\n",
       "      <td>0.930038</td>\n",
       "      <td>114.572842</td>\n",
       "    </tr>\n",
       "    <tr>\n",
       "      <td>4</td>\n",
       "      <td>WPMUX</td>\n",
       "      <td>-0.515993</td>\n",
       "      <td>1.716266</td>\n",
       "      <td>5.899011</td>\n",
       "      <td>149.600746</td>\n",
       "    </tr>\n",
       "  </tbody>\n",
       "</table>\n",
       "</div>"
      ],
      "text/plain": [
       "      id        f0        f1        f2     product\n",
       "0  fwXo0 -1.146987  0.963328 -0.828965   27.758673\n",
       "1  WJtFt  0.262778  0.269839 -2.530187   56.069697\n",
       "2  ovLUW  0.194587  0.289035 -5.586433   62.871910\n",
       "3  q6cA6  2.236060 -0.553760  0.930038  114.572842\n",
       "4  WPMUX -0.515993  1.716266  5.899011  149.600746"
      ]
     },
     "metadata": {},
     "output_type": "display_data"
    }
   ],
   "source": [
    "print('geo_0 : ')\n",
    "inf(geo_0)\n",
    "print('\\ngeo_1 : ')\n",
    "inf(geo_1)\n",
    "print('\\ngeo_2 : ')\n",
    "inf(geo_2)"
   ]
  },
  {
   "cell_type": "markdown",
   "metadata": {},
   "source": [
    "**Создадим функцию, разделяющую данные на признаки и целевой признак. Применим ее к трем датафреймам.**"
   ]
  },
  {
   "cell_type": "code",
   "execution_count": 5,
   "metadata": {},
   "outputs": [],
   "source": [
    "def dev(data):\n",
    "    features = data.drop(['id', 'product'], axis = 1)\n",
    "    target = data['product']\n",
    "    return features, target"
   ]
  },
  {
   "cell_type": "code",
   "execution_count": 6,
   "metadata": {},
   "outputs": [],
   "source": [
    "features_0, target_0 = dev(geo_0)\n",
    "features_1, target_1 = dev(geo_1)\n",
    "features_2, target_2 = dev(geo_2)"
   ]
  },
  {
   "cell_type": "markdown",
   "metadata": {},
   "source": [
    "**Разделим данные на обучающие и валидационные выборки в пропроции 3:1.**"
   ]
  },
  {
   "cell_type": "code",
   "execution_count": 7,
   "metadata": {},
   "outputs": [],
   "source": [
    "rnd_seed = 12345678"
   ]
  },
  {
   "cell_type": "code",
   "execution_count": 8,
   "metadata": {},
   "outputs": [
    {
     "name": "stdout",
     "output_type": "stream",
     "text": [
      "Размеры обучающей и валидационной выборок: (75000, 3) (25000, 3)\n"
     ]
    }
   ],
   "source": [
    "features_train_0, features_valid_0, target_train_0, target_valid_0 = train_test_split(\n",
    "    features_0, target_0, test_size = 0.25, random_state = rnd_seed)\n",
    "\n",
    "features_train_1, features_valid_1, target_train_1, target_valid_1 = train_test_split(\n",
    "    features_1, target_1, test_size = 0.25, random_state = rnd_seed)\n",
    "\n",
    "features_train_2, features_valid_2, target_train_2, target_valid_2 = train_test_split(\n",
    "    features_2, target_2, test_size = 0.25, random_state = rnd_seed)\n",
    "\n",
    "print('Размеры обучающей и валидационной выборок:', features_train_0.shape, features_valid_0.shape)"
   ]
  },
  {
   "cell_type": "markdown",
   "metadata": {},
   "source": [
    "**В итоге мы получили 12 переменных, по 4 на каждый из трех реионов.** "
   ]
  },
  {
   "cell_type": "markdown",
   "metadata": {},
   "source": [
    "**Проведем масштабирование признаков для трех регионов.** "
   ]
  },
  {
   "cell_type": "code",
   "execution_count": 9,
   "metadata": {},
   "outputs": [],
   "source": [
    "scaler = StandardScaler()\n",
    "\n",
    "scaler.fit(features_train_0)\n",
    "features_train_0 = scaler.transform(features_train_0)\n",
    "features_valid_0 = scaler.transform(features_valid_0)\n",
    "\n",
    "scaler.fit(features_train_1)\n",
    "features_train_1 = scaler.transform(features_train_1)\n",
    "features_valid_1 = scaler.transform(features_valid_1)\n",
    "\n",
    "scaler.fit(features_train_2)\n",
    "features_train_2 = scaler.transform(features_train_2)\n",
    "features_valid_2 = scaler.transform(features_valid_2)"
   ]
  },
  {
   "cell_type": "markdown",
   "metadata": {},
   "source": [
    "### Вывод:\n",
    "- Данные поделены на признаки и целевой признак.\n",
    "- Данные корректно поделены на выборки в пропорции 3:1. \n",
    "- Проведено масштабирование.\n",
    "\n",
    "Данные подготовлены."
   ]
  },
  {
   "cell_type": "markdown",
   "metadata": {},
   "source": [
    "<a id='_2'></a>"
   ]
  },
  {
   "cell_type": "markdown",
   "metadata": {},
   "source": [
    "# 2. Обучение и проверка модели"
   ]
  },
  {
   "cell_type": "markdown",
   "metadata": {},
   "source": [
    "**Обучим по одной модели линейной регрессии для каждого региона, выполним предсказания на валидационных данных. Сохраним предсказания.**"
   ]
  },
  {
   "cell_type": "code",
   "execution_count": 10,
   "metadata": {},
   "outputs": [],
   "source": [
    "model_0 = LinearRegression()\n",
    "model_0.fit(features_train_0, target_train_0)\n",
    "predictions_0 = pd.Series(model_0.predict(features_valid_0))\n",
    "\n",
    "model_1 = LinearRegression()\n",
    "model_1.fit(features_train_1, target_train_1)\n",
    "predictions_1 =  pd.Series(model_1.predict(features_valid_1))\n",
    "\n",
    "model_2 = LinearRegression()\n",
    "model_2.fit(features_train_2, target_train_2)\n",
    "predictions_2 =  pd.Series(model_2.predict(features_valid_2))"
   ]
  },
  {
   "cell_type": "markdown",
   "metadata": {},
   "source": [
    "**Посчитаем для каждого реггиона:**\n",
    "- Среднее количество предсказанного продукта\n",
    "- RMSE\n",
    "- R2"
   ]
  },
  {
   "cell_type": "code",
   "execution_count": 11,
   "metadata": {},
   "outputs": [
    {
     "name": "stdout",
     "output_type": "stream",
     "text": [
      "geo_0\n",
      "Mean predicted product: 92.5393\n",
      "RMSE: 37.5923\n",
      "R2: 0.2786\n",
      "\n",
      "geo_1\n",
      "Mean predicted product: 68.8664\n",
      "RMSE: 0.8928\n",
      "R2: 0.9996\n",
      "\n",
      "geo_2\n",
      "Mean predicted product: 95.1594\n",
      "RMSE: 40.0113\n",
      "R2: 0.1992\n",
      "\n"
     ]
    }
   ],
   "source": [
    "print('geo_0:\\nMean predicted product: {:.4f}\\nRMSE: {:.4f}\\nR2: {:.4f}\\n'\n",
    "      .format(\n",
    "          predictions_0.mean(), \n",
    "          mean_squared_error(target_valid_0, predictions_0)**0.5, \n",
    "          model_0.score(features_valid_0, target_valid_0)\n",
    "      )\n",
    "     )\n",
    "\n",
    "print('geo_1:\\nMean predicted product: {:.4f}\\nRMSE: {:.4f}\\nR2: {:.4f}\\n'\n",
    "      .format(\n",
    "          predictions_1.mean(), \n",
    "          mean_squared_error(target_valid_1, predictions_1)**0.5, \n",
    "          model_1.score(features_valid_1, target_valid_1)\n",
    "      )\n",
    "     )\n",
    "\n",
    "print('geo_2:\\nMean predicted product: {:.4f}\\nRMSE: {:.4f}\\nR2: {:.4f}\\n'\n",
    "      .format(\n",
    "          predictions_2.mean(), \n",
    "          mean_squared_error(target_valid_2, predictions_2)**0.5, \n",
    "          model_2.score(features_valid_2, target_valid_2)\n",
    "      )\n",
    "     )"
   ]
  },
  {
   "cell_type": "markdown",
   "metadata": {},
   "source": [
    "### Вывод:\n",
    "Лучше всего модель обучилась на данных для региона \"geo_1\". Об этом говорит самый низкий из трех показатель RMSE и самый высокий показатель R2."
   ]
  },
  {
   "cell_type": "markdown",
   "metadata": {},
   "source": [
    "<a id='_3'></a>"
   ]
  },
  {
   "cell_type": "markdown",
   "metadata": {},
   "source": [
    "# 3. Подготовка к расчёту прибыли"
   ]
  },
  {
   "cell_type": "markdown",
   "metadata": {},
   "source": [
    "**Найдем среднее количество запасов в каждом регионе:**"
   ]
  },
  {
   "cell_type": "code",
   "execution_count": 12,
   "metadata": {},
   "outputs": [
    {
     "name": "stdout",
     "output_type": "stream",
     "text": [
      "Средний запас сырья в каждом регионе:\n",
      "geo_0 mean: 92.5\n",
      "geo_1 mean: 68.8\n",
      "geo_2 mean: 95.0\n"
     ]
    }
   ],
   "source": [
    "mean_geo_0 = geo_0['product'].mean()\n",
    "mean_geo_1 = geo_1['product'].mean()\n",
    "mean_geo_2 = geo_2['product'].mean()\n",
    "\n",
    "print('Средний запас сырья в каждом регионе:')\n",
    "print('geo_0 mean: {:.1f}\\ngeo_1 mean: {:.1f}\\ngeo_2 mean: {:.1f}'\n",
    "      .format(mean_geo_0, mean_geo_1, mean_geo_2))"
   ]
  },
  {
   "cell_type": "markdown",
   "metadata": {},
   "source": [
    "**Видно, что модели предсказали на валидационных выборках средний результат, очень близкий к фактическому.**"
   ]
  },
  {
   "cell_type": "markdown",
   "metadata": {},
   "source": [
    "**По известным нам данным бюджета на разработку, количеста разработанных скважин и стоимости единицы продукта найдем такое среднее число продукта, при котором добыча будет безубыточной.** \n",
    "\n",
    "**Безубыточная добыча, в нашем случае, это ситуация, при которой будет соблюдено условие: прибыль >= бюджет.**\n",
    "**Из условия равенства прибыли и бюджета найдем точку безубыточности.** "
   ]
  },
  {
   "cell_type": "markdown",
   "metadata": {},
   "source": [
    "**Данные для расчета:**\n",
    "- бюджет на разработку в регионе - 10000000000\n",
    "- цена одной еденицы продукта - 450000\n",
    "- количество скважин, которые будут разработаны - 200"
   ]
  },
  {
   "cell_type": "code",
   "execution_count": 13,
   "metadata": {},
   "outputs": [
    {
     "name": "stdout",
     "output_type": "stream",
     "text": [
      "Точка безубыточности: 111.1\n"
     ]
    }
   ],
   "source": [
    "budget = 10000000000\n",
    "cost = 450000\n",
    "count = 200\n",
    "\n",
    "mean_break_even = budget / (cost * count)\n",
    "print('Точка безубыточности: {:.1f}'.format(mean_break_even))"
   ]
  },
  {
   "cell_type": "markdown",
   "metadata": {},
   "source": [
    "**Видно, что минимальное среднее количество запасов, необходимых для безубыточной разработки во всех трех случаях больше, чем среднее по региону.** "
   ]
  },
  {
   "cell_type": "markdown",
   "metadata": {},
   "source": [
    "**Создадим функцию расчета прибыли, которая на вход будет принимать: целевой признак, предсказанный результат, бюджет, цену за единицу продукта и кол-во разрабатываемых скважин.** \n",
    "\n",
    "**Результат работы функции - прибыль, полученная с заданного кол-ва скважин с учетом расходов на разработку.** "
   ]
  },
  {
   "cell_type": "code",
   "execution_count": 14,
   "metadata": {},
   "outputs": [],
   "source": [
    "def revenue(target, predictions, budget, count, cost):\n",
    "    probs_sorted = predictions.sort_values(ascending=False)\n",
    "    selected = target[probs_sorted.index][:count]\n",
    "    return cost * selected.sum() - budget"
   ]
  },
  {
   "cell_type": "markdown",
   "metadata": {},
   "source": [
    "<a id='_4'></a>"
   ]
  },
  {
   "cell_type": "markdown",
   "metadata": {},
   "source": [
    "# 4. Расчёт прибыли и рисков "
   ]
  },
  {
   "cell_type": "markdown",
   "metadata": {},
   "source": [
    "**Сбросим индексы у переменных, содержащих целевой признак.**"
   ]
  },
  {
   "cell_type": "code",
   "execution_count": 15,
   "metadata": {},
   "outputs": [],
   "source": [
    "target_valid_0 = target_valid_0.reset_index(drop = True)\n",
    "target_valid_1 = target_valid_1.reset_index(drop = True)\n",
    "target_valid_2 = target_valid_2.reset_index(drop = True)"
   ]
  },
  {
   "cell_type": "markdown",
   "metadata": {},
   "source": [
    "**Создадим функцию, в которой будет выполняться процедура bootstrap. Результатом работы функции будет массив, содержащий значения прибыли для 200 скважин из выборки, размером в 500, с наибольшим количеством содержащихся запасов.** "
   ]
  },
  {
   "cell_type": "code",
   "execution_count": 16,
   "metadata": {},
   "outputs": [],
   "source": [
    "def bootstrap(target, predictions, budget, count, cost):\n",
    "    state = np.random.RandomState(12345)\n",
    "    values = []\n",
    "    for i in range(1000):\n",
    "        target_subsample = target.sample(n=500, replace=True, random_state=state)\n",
    "        pred_subsample = predictions[target_subsample.index]\n",
    "        values.append(revenue(target_subsample, pred_subsample, budget, count, cost))\n",
    "    return values  "
   ]
  },
  {
   "cell_type": "markdown",
   "metadata": {},
   "source": [
    "**Вызовем функцию для трех регионов, сохранив результат ее работы в отдельные переменные для каждого региона. Также найдем для каждого региона 95% доверительный интервал для всех значений прибыли.** "
   ]
  },
  {
   "cell_type": "code",
   "execution_count": 17,
   "metadata": {},
   "outputs": [
    {
     "name": "stdout",
     "output_type": "stream",
     "text": [
      "CPU times: user 16 s, sys: 0 ns, total: 16 s\n",
      "Wall time: 16 s\n"
     ]
    }
   ],
   "source": [
    "%%time\n",
    "\n",
    "values_0 = pd.Series(bootstrap(target_valid_0, predictions_0, budget, count,cost))   \n",
    "confidence_interval_0 = st.t.interval(\n",
    "    0.95, len(values_0)-1, values_0.mean(), values_0.sem())\n",
    "\n",
    "values_1 = pd.Series(bootstrap(target_valid_1, predictions_1, budget, count,cost))   \n",
    "confidence_interval_1 = st.t.interval(\n",
    "    0.95, len(values_1)-1, values_1.mean(), values_1.sem())\n",
    "\n",
    "values_2 = pd.Series(bootstrap(target_valid_2, predictions_2, budget, count,cost)) \n",
    "confidence_interval_2 = st.t.interval(\n",
    "    0.95, len(values_2)-1, values_2.mean(), values_2.sem())"
   ]
  },
  {
   "cell_type": "markdown",
   "metadata": {},
   "source": [
    "**Найдем доверительный интервал для прогноза для каждого региона**"
   ]
  },
  {
   "cell_type": "code",
   "execution_count": 20,
   "metadata": {},
   "outputs": [],
   "source": [
    "confidence_interval_00 = (values_0.quantile(0.025), values_0.quantile(0.975))\n",
    "confidence_interval_01 = (values_1.quantile(0.025), values_1.quantile(0.975))\n",
    "confidence_interval_02 = (values_2.quantile(0.025), values_2.quantile(0.975))"
   ]
  },
  {
   "cell_type": "markdown",
   "metadata": {},
   "source": [
    "**Найдем среднее значение прибыли для каждого региона. Таже найдем вероятность убытка, как отношение количества значений отрицательной прибыли ко всем значениям.** "
   ]
  },
  {
   "cell_type": "code",
   "execution_count": 21,
   "metadata": {},
   "outputs": [
    {
     "name": "stdout",
     "output_type": "stream",
     "text": [
      "geo_0:\n",
      "Среднее значение прибыли: 454346440.87\n",
      "95%-ый доверительный интервал для истинного среднего: (438270546.43430966, 470422335.3144259)\n",
      "95%-ый доверительный интервал для прогноза: (-68238152.14542226, 949030673.1162069)\n",
      "Вероятность убытка: 4.1%\n",
      "\n",
      "geo_1:\n",
      "Среднее значение прибыли: 507467698.25\n",
      "95%-ый доверительный интервал для истинного среднего: (494285427.3708198, 520649969.1215489)\n",
      "95%-ый доверительный интервал для прогноза: (103863741.50886908, 942382802.1917276)\n",
      "Вероятность убытка: 0.8%\n",
      "\n",
      "geo_2:\n",
      "Среднее значение прибыли: 401350704.46\n",
      "95%-ый доверительный интервал для истинного среднего: (384135973.83444786, 418565435.09549105)\n",
      "95%-ый доверительный интервал для прогноза: (-142075725.16134351, 932082378.7618071)\n",
      "Вероятность убытка: 7.9%\n"
     ]
    }
   ],
   "source": [
    "print('geo_0:')\n",
    "print(\"Среднее значение прибыли: {:.2f}\".format(values_0.mean()))\n",
    "print(\"95%-ый доверительный интервал для истинного среднего:\", confidence_interval_0)\n",
    "print(\"95%-ый доверительный интервал для прогноза:\",confidence_interval_00)\n",
    "print(\"Вероятность убытка: {:.1%}\".format(len(values_0[values_0 < 0])/len(values_0)))\n",
    "print()\n",
    "\n",
    "print('geo_1:')\n",
    "print(\"Среднее значение прибыли: {:.2f}\".format(values_1.mean()))\n",
    "print(\"95%-ый доверительный интервал для истинного среднего:\", confidence_interval_1)\n",
    "print(\"95%-ый доверительный интервал для прогноза:\",confidence_interval_01)\n",
    "print(\"Вероятность убытка: {:.1%}\".format(len(values_1[values_1 < 0])/len(values_1)))\n",
    "print()\n",
    "\n",
    "print('geo_2:')\n",
    "print(\"Среднее значение прибыли: {:.2f}\".format(values_2.mean()))\n",
    "print(\"95%-ый доверительный интервал для истинного среднего:\", confidence_interval_2)\n",
    "print(\"95%-ый доверительный интервал для прогноза:\",confidence_interval_02)\n",
    "print(\"Вероятность убытка: {:.1%}\".format(len(values_2[values_2 < 0])/len(values_2)))"
   ]
  },
  {
   "cell_type": "markdown",
   "metadata": {},
   "source": [
    "<a id='_5'></a>"
   ]
  },
  {
   "cell_type": "markdown",
   "metadata": {},
   "source": [
    "# 5. Общий вывод"
   ]
  },
  {
   "cell_type": "markdown",
   "metadata": {},
   "source": [
    "Опираясь на изложенные выше данные, можно предложить к разработке регион \"geo_1\" по ряду причин:\n",
    "- регион имеет самую низкую вероятность убытка из всех рассмотренных регионов\n",
    "- регион имеет самую высокую среднюю предсказанную прибыль\n",
    "- нижняя граница доверительного интервала истинного среднего выше, чем верхние границы в двух других регионах, что гарантирует получение более высокой прибыли\n",
    "- интервал прогноза для данного региона имеет положительные границы, в отличие от двух других (отрицательная нижняя граница), что говорит о малой вероятности убытков при добыче"
   ]
  },
  {
   "cell_type": "markdown",
   "metadata": {},
   "source": [
    "Таже следует заметить, что первый и последний регионы не могут быть предложены к разработке, исходя изусловия задачи (вероятность убытков должна быть меньше 2.5%)"
   ]
  },
  {
   "cell_type": "markdown",
   "metadata": {},
   "source": [
    "#### [К началy](#_0)"
   ]
  }
 ],
 "metadata": {
  "kernelspec": {
   "display_name": "Python 3",
   "language": "python",
   "name": "python3"
  },
  "language_info": {
   "codemirror_mode": {
    "name": "ipython",
    "version": 3
   },
   "file_extension": ".py",
   "mimetype": "text/x-python",
   "name": "python",
   "nbconvert_exporter": "python",
   "pygments_lexer": "ipython3",
   "version": "3.8.3"
  }
 },
 "nbformat": 4,
 "nbformat_minor": 2
}
